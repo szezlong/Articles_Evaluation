{
  "nbformat": 4,
  "nbformat_minor": 0,
  "metadata": {
    "colab": {
      "provenance": [],
      "authorship_tag": "ABX9TyNbU3AdsLpdFGiavV2lFoQA"
    },
    "kernelspec": {
      "name": "python3",
      "display_name": "Python 3"
    },
    "language_info": {
      "name": "python"
    }
  },
  "cells": [
    {
      "cell_type": "markdown",
      "source": [
        "# This is a web scraping demo, for:\n",
        "\n",
        "\n",
        "*   extracting all images from an article (url)\n",
        "*   filtering them (e.g. ignoring small icons, duplicates etc.)\n",
        "* testing bulk requests to the external Hive API\n",
        "* aggregating the results into a \"trustworthiness score\" for an article/ post etc.\n",
        "\n"
      ],
      "metadata": {
        "id": "gElV3zI_q4yg"
      }
    },
    {
      "cell_type": "markdown",
      "source": [
        "##Environment Config"
      ],
      "metadata": {
        "id": "-em3sZSOsFqJ"
      }
    },
    {
      "cell_type": "code",
      "source": [
        "!pip install -q selenium\n",
        "!pip install -q webdriver-manager"
      ],
      "metadata": {
        "id": "kMo3eoGqowtq"
      },
      "execution_count": 1,
      "outputs": []
    },
    {
      "cell_type": "code",
      "source": [
        "!apt-get update -qq\n",
        "!apt-get install -q google-chrome-stable\n",
        "!apt-get install -q chromedriver\n",
        "\n",
        "chrome_binary = \"/usr/bin/google-chrome-stable\"\n",
        "chrome_driver = \"/usr/lib/chromium-browser/chromedriver\""
      ],
      "metadata": {
        "id": "waF9kwY5sfqw"
      },
      "execution_count": null,
      "outputs": []
    },
    {
      "cell_type": "code",
      "source": [
        "import requests\n",
        "import re\n",
        "import time\n",
        "\n",
        "from selenium import webdriver\n",
        "from selenium.webdriver.chrome.service import Service\n",
        "from selenium.webdriver.chrome.options import Options\n",
        "from selenium.webdriver.common.by import By\n",
        "from selenium.webdriver.common.keys import Keys\n",
        "from selenium.webdriver.support.ui import WebDriverWait\n",
        "from selenium.webdriver.support import expected_conditions as EC\n",
        "\n",
        "from bs4 import BeautifulSoup\n",
        "from urllib.parse import urljoin\n",
        "from webdriver_manager.chrome import ChromeDriverManager\n",
        "from concurrent.futures import ThreadPoolExecutor"
      ],
      "metadata": {
        "id": "NaNH8HUtsUgl"
      },
      "execution_count": 47,
      "outputs": []
    },
    {
      "cell_type": "code",
      "execution_count": 3,
      "metadata": {
        "id": "oVXRw0bnqsO5"
      },
      "outputs": [],
      "source": [
        "from google.colab import userdata\n",
        "API_KEY = userdata.get('API_KEY')"
      ]
    },
    {
      "cell_type": "markdown",
      "source": [
        "##Extract all images"
      ],
      "metadata": {
        "id": "KpDA2lySsVYH"
      }
    },
    {
      "cell_type": "markdown",
      "source": [
        "###basic version"
      ],
      "metadata": {
        "id": "D17MQGOW0B5n"
      }
    },
    {
      "cell_type": "code",
      "source": [
        "def get_images_from_page_basic(url):\n",
        "    headers = {\"User-Agent\": \"Mozilla/5.0\"}\n",
        "    response = requests.get(url, headers=headers)\n",
        "\n",
        "    if response.status_code != 200:\n",
        "        print(f\"Error: {response.status_code}\")\n",
        "        return []\n",
        "\n",
        "    soup = BeautifulSoup(response.text, \"html.parser\")\n",
        "\n",
        "    img_tags = soup.find_all(\"img\")\n",
        "\n",
        "    img_urls = [img.get(\"src\") for img in img_tags if img.get(\"src\")]\n",
        "    img_urls = [urljoin(url, img_url) for img_url in img_urls]\n",
        "\n",
        "    return img_urls"
      ],
      "metadata": {
        "id": "k24DROKjsX38"
      },
      "execution_count": null,
      "outputs": []
    },
    {
      "cell_type": "code",
      "source": [
        "#page_url = \"https://www.politico.com/news/2025/03/11/trump-pardons-white-collar-defendant-interest-00219801\"\n",
        "page_url = \"https://www.bu.edu/articles/2025/does-chinas-deepseek-represent-a-new-frontier-in-ai/\"\n",
        "\n",
        "image_urls = get_images_from_page_basic(page_url)\n",
        "\n",
        "print(f\"Found {len(image_urls)} images:\")\n",
        "for img_url in image_urls:\n",
        "    print(img_url)"
      ],
      "metadata": {
        "colab": {
          "base_uri": "https://localhost:8080/"
        },
        "id": "EfSYF3dksd5s",
        "outputId": "4a832140-0b3d-43fb-8032-8551a603e66c"
      },
      "execution_count": null,
      "outputs": [
        {
          "output_type": "stream",
          "name": "stdout",
          "text": [
            "Found 6 images:\n",
            "https://www.bu.edu/files/2025/02/deepseek-butoday_feat-crop.jpg\n",
            "https://www.bu.edu/files/2022/08/resize-22-1553-MARCOMHEAD-161-3-500x500.jpg\n",
            "https://secure.gravatar.com/avatar/4c5df37ceca4c17f8e763e49d4ea689e?s=150&d=mm&r=g\n",
            "https://secure.gravatar.com/avatar/4fea0a9368359cc8611acb0921f361b0?s=150&d=mm&r=g\n",
            "https://secure.gravatar.com/avatar/89d0948216fdd4952797c389d36c7b39?s=150&d=mm&r=g\n",
            "https://www.bu.edu/wp-content/plugins/bu-sharing/images/loading.gif\n"
          ]
        }
      ]
    },
    {
      "cell_type": "markdown",
      "source": [
        "###more advanced version"
      ],
      "metadata": {
        "id": "eJnIuErv0ETS"
      }
    },
    {
      "cell_type": "code",
      "source": [
        "def set_options():\n",
        "  options = Options();\n",
        "  options.add_argument(\"--headless=new\")\n",
        "  options.add_argument(\"--no-sandbox\")\n",
        "  options.add_argument(\"--disable-dev-shm-usage\")\n",
        "  options.add_argument(\"--disable-blink-features=AutomationControlled\")\n",
        "  options.add_experimental_option(\"excludeSwitches\", [\"enable-automation\"])\n",
        "  options.add_experimental_option(\"useAutomationExtension\", False)\n",
        "  return options"
      ],
      "metadata": {
        "id": "Mf9DY-vlr2Hx"
      },
      "execution_count": 25,
      "outputs": []
    },
    {
      "cell_type": "code",
      "source": [
        "def click_element(driver, xpath, timeout=3):\n",
        "  try:\n",
        "    element = WebDriverWait(driver, timeout).until(EC.element_to_be_clickable((By.XPATH, xpath)))\n",
        "    print(f\"Clicking {xpath}\")\n",
        "    element.click()\n",
        "    time.sleep(0.5)\n",
        "    return True\n",
        "  except Exception:\n",
        "    return False"
      ],
      "metadata": {
        "id": "n6TQGab0zA0I"
      },
      "execution_count": 48,
      "outputs": []
    },
    {
      "cell_type": "code",
      "source": [
        "def get_images_from_page(url):\n",
        "  options = set_options()\n",
        "  driver = webdriver.Chrome(service=Service(ChromeDriverManager().install()), options=options)\n",
        "  driver.get(url)\n",
        "\n",
        "  WebDriverWait(driver, 5).until(lambda d: d.execute_script(\"return document.readyState\") == \"complete\")\n",
        "\n",
        "  click_element(driver, \"//*[contains(@class, 'close') or contains(@ng-click, 'close') or contains(text(), 'close')]\")  # Close button\n",
        "  click_element(driver, \"//button[contains(translate(text(), 'ABCDEFGHIJKLMNOPQRSTUVWXYZ', 'abcdefghijklmnopqrstuvwxyz'), 'accept') or contains(translate(text(), 'ABCDEFGHIJKLMNOPQRSTUVWXYZ', 'abcdefghijklmnopqrstuvwxyz'), 'agree')]\")  # Cookie popup\n",
        "  click_element(driver, \"//button[contains(translate(text(), 'ABCDEFGHIJKLMNOPQRSTUVWXYZ', 'abcdefghijklmnopqrstuvwxyz'), 'continue') or contains(translate(text(), 'ABCDEFGHIJKLMNOPQRSTUVWXYZ', 'abcdefghijklmnopqrstuvwxyz'), 'close')]\") #Newsletter\n",
        "\n",
        "  driver.execute_script(\"window.scrollTo(0, document.body.scrollHeight);\")\n",
        "  time.sleep(1)\n",
        "\n",
        "  soup = BeautifulSoup(driver.page_source, \"html.parser\")\n",
        "\n",
        "  img_urls = [urljoin(url, img.get(\"src\")) for img in soup.find_all(\"img\") if img.get(\"src\")]\n",
        "\n",
        "  driver.quit()\n",
        "\n",
        "  return img_urls\n"
      ],
      "metadata": {
        "id": "gqjkiv0kp3qi"
      },
      "execution_count": 49,
      "outputs": []
    },
    {
      "cell_type": "code",
      "source": [
        "def print_found_imgs(images):\n",
        "  print(f\"Found {len(images)} images:\")\n",
        "  for img in images:\n",
        "      print(img)"
      ],
      "metadata": {
        "id": "W7tZLXEArHrS"
      },
      "execution_count": 50,
      "outputs": []
    },
    {
      "cell_type": "code",
      "source": [
        "#page_url = \"https://www.politico.com/news/2025/03/11/trump-pardons-white-collar-defendant-interest-00219801\"\n",
        "page_url = \"https://www.bu.edu/articles/2025/does-chinas-deepseek-represent-a-new-frontier-in-ai/\"\n",
        "#page_url = \"https://www.bbc.com/news/articles/c5yv5976z9po\"\n",
        "#page_url = \"https://www.spectator.co.uk/article/is-this-new-chinese-ai-even-better-than-deepseek/\"\n",
        "\n",
        "\n",
        "images = get_images_from_page(page_url)\n",
        "\n",
        "print_found_imgs(images)"
      ],
      "metadata": {
        "colab": {
          "base_uri": "https://localhost:8080/"
        },
        "id": "wpjwbjZ9rCU8",
        "outputId": "075ea34c-434f-43ef-a994-c46f50a1a362"
      },
      "execution_count": 53,
      "outputs": [
        {
          "output_type": "stream",
          "name": "stdout",
          "text": [
            "Found 6 images:\n",
            "https://www.bu.edu/files/2025/02/deepseek-butoday_feat-crop.jpg\n",
            "https://www.bu.edu/files/2022/08/resize-22-1553-MARCOMHEAD-161-3-500x500.jpg\n",
            "https://secure.gravatar.com/avatar/4c5df37ceca4c17f8e763e49d4ea689e?s=150&d=mm&r=g\n",
            "https://secure.gravatar.com/avatar/4fea0a9368359cc8611acb0921f361b0?s=150&d=mm&r=g\n",
            "https://secure.gravatar.com/avatar/89d0948216fdd4952797c389d36c7b39?s=150&d=mm&r=g\n",
            "https://www.bu.edu/wp-content/plugins/bu-sharing/images/loading.gif\n"
          ]
        }
      ]
    }
  ]
}