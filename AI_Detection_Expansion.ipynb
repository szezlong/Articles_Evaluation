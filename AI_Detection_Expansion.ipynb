{
  "nbformat": 4,
  "nbformat_minor": 0,
  "metadata": {
    "colab": {
      "provenance": [],
      "collapsed_sections": [
        "D17MQGOW0B5n"
      ],
      "authorship_tag": "ABX9TyNQoQoN+pMgaDucxNQuXF+V"
    },
    "kernelspec": {
      "name": "python3",
      "display_name": "Python 3"
    },
    "language_info": {
      "name": "python"
    }
  },
  "cells": [
    {
      "cell_type": "markdown",
      "source": [
        "# This is a web scraping demo, for:\n",
        "\n",
        "\n",
        "*   extracting all images from an article (url)\n",
        "*   filtering them (e.g. ignoring small icons, duplicates etc.)\n",
        "* testing bulk requests to the external Hive API\n",
        "* aggregating the results into a \"trustworthiness score\" for an article/ post etc.\n",
        "\n"
      ],
      "metadata": {
        "id": "gElV3zI_q4yg"
      }
    },
    {
      "cell_type": "markdown",
      "source": [
        "##Configuring the Environment"
      ],
      "metadata": {
        "id": "-em3sZSOsFqJ"
      }
    },
    {
      "cell_type": "code",
      "source": [
        "!pip install -q selenium\n",
        "!pip install -q webdriver-manager\n",
        "!pip install -q google-colab-selenium"
      ],
      "metadata": {
        "id": "kMo3eoGqowtq",
        "colab": {
          "base_uri": "https://localhost:8080/"
        },
        "outputId": "da57c3fd-47ae-4540-e9a9-17babe7e6d6d"
      },
      "execution_count": 1,
      "outputs": [
        {
          "output_type": "stream",
          "name": "stdout",
          "text": [
            "\u001b[2K   \u001b[90m━━━━━━━━━━━━━━━━━━━━━━━━━━━━━━━━━━━━━━━━\u001b[0m \u001b[32m9.5/9.5 MB\u001b[0m \u001b[31m27.5 MB/s\u001b[0m eta \u001b[36m0:00:00\u001b[0m\n",
            "\u001b[2K   \u001b[90m━━━━━━━━━━━━━━━━━━━━━━━━━━━━━━━━━━━━━━━━\u001b[0m \u001b[32m492.9/492.9 kB\u001b[0m \u001b[31m17.8 MB/s\u001b[0m eta \u001b[36m0:00:00\u001b[0m\n",
            "\u001b[?25h"
          ]
        }
      ]
    },
    {
      "cell_type": "code",
      "source": [
        "import requests\n",
        "import re\n",
        "import time\n",
        "import google_colab_selenium as gcs\n",
        "\n",
        "import time\n",
        "import pandas as pd\n",
        "\n",
        "from selenium import webdriver\n",
        "from selenium.webdriver.chrome.service import Service\n",
        "from selenium.webdriver.chrome.options import Options\n",
        "from selenium.webdriver.common.by import By\n",
        "from selenium.webdriver.common.keys import Keys\n",
        "from selenium.webdriver.support.ui import WebDriverWait\n",
        "from selenium.webdriver.support import expected_conditions as EC\n",
        "\n",
        "from bs4 import BeautifulSoup\n",
        "from urllib.parse import urlparse, parse_qs, urljoin\n",
        "from webdriver_manager.chrome import ChromeDriverManager\n",
        "from concurrent.futures import ThreadPoolExecutor"
      ],
      "metadata": {
        "id": "NaNH8HUtsUgl"
      },
      "execution_count": 91,
      "outputs": []
    },
    {
      "cell_type": "code",
      "execution_count": 3,
      "metadata": {
        "id": "oVXRw0bnqsO5"
      },
      "outputs": [],
      "source": [
        "from google.colab import userdata\n",
        "API_KEY = userdata.get('API_KEY')"
      ]
    },
    {
      "cell_type": "markdown",
      "source": [
        "##Extracting Images"
      ],
      "metadata": {
        "id": "KpDA2lySsVYH"
      }
    },
    {
      "cell_type": "markdown",
      "source": [
        "###extract ALL images"
      ],
      "metadata": {
        "id": "D17MQGOW0B5n"
      }
    },
    {
      "cell_type": "code",
      "source": [
        "def get_images_from_page_basic(url):\n",
        "    headers = {\"User-Agent\": \"Mozilla/5.0\"}\n",
        "    response = requests.get(url, headers=headers)\n",
        "\n",
        "    if response.status_code != 200:\n",
        "        print(f\"Error: {response.status_code}\")\n",
        "        return []\n",
        "\n",
        "    soup = BeautifulSoup(response.text, \"html.parser\")\n",
        "\n",
        "    img_tags = soup.find_all(\"img\")\n",
        "\n",
        "    img_urls = [img.get(\"src\") for img in img_tags if img.get(\"src\")]\n",
        "    img_urls = [urljoin(url, img_url) for img_url in img_urls]\n",
        "\n",
        "    return img_urls"
      ],
      "metadata": {
        "id": "k24DROKjsX38"
      },
      "execution_count": null,
      "outputs": []
    },
    {
      "cell_type": "code",
      "source": [
        "page_url_1 = \"https://www.bbc.com/news/articles/c5yv5976z9po\"\n",
        "page_url_2 = \"https://www.spectator.co.uk/article/is-this-new-chinese-ai-even-better-than-deepseek/\"\n",
        "page_url_3 = \"https://www.theverge.com/24353060/deepseek-ai-china-nvidia-openai\"\n",
        "page_url_4 = \"https://www.bu.edu/articles/2025/does-chinas-deepseek-represent-a-new-frontier-in-ai/\"\n",
        "\n",
        "test_urls = [page_url_1, page_url_2, page_url_3, page_url_4]\n",
        "\n",
        "for url in test_urls:\n",
        "  images = get_images_from_page_basic(url)\n",
        "  print_found_imgs(images)\n",
        "  print(\" --- \")"
      ],
      "metadata": {
        "colab": {
          "base_uri": "https://localhost:8080/"
        },
        "id": "HIoh3Ilfuo4b",
        "outputId": "8eca00c7-be09-4cee-ca9f-fbb7c1ab392a"
      },
      "execution_count": null,
      "outputs": [
        {
          "output_type": "stream",
          "name": "stdout",
          "text": [
            "Found 2 images:\n",
            "https://www.bbc.com/bbcx/grey-placeholder.png\n",
            "https://ichef.bbci.co.uk/news/480/cpsprodpb/3cb2/live/61ec64f0-dd4c-11ef-b20c-cf1b3bd7a488.jpg.webp\n",
            " --- \n",
            "Found 15 images:\n",
            "https://www.spectator.co.uk/wp-content/uploads/2025/03/cover-15032025-issue.jpg?w=358\n",
            "https://www.spectator.co.uk/wp-content/uploads/2025/03/cover-15032025-issue.jpg?w=358\n",
            "https://www.spectator.co.uk/wp-content/uploads/2025/03/iStock-1456167226.jpg?w=1280\n",
            "https://www.spectator.co.uk/wp-content/uploads/2025/03/iStock-1456167226.jpg?w=1365\n",
            "https://src.spectator.co.uk/wp-content/uploads/2023/01/Newsletter-plane_-footer_1000w.jpg\n",
            "https://www.spectator.co.uk/wp-content/uploads/2025/03/iStock-1456167226.jpg?w=1365\n",
            "https://www.spectator.co.uk/wp-content/uploads/2025/03/GettyImages-1246845745-2.jpg?resize=378,213\n",
            "https://www.spectator.co.uk/wp-content/uploads/2025/03/POLCOL.png?resize=200,133\n",
            "https://www.spectator.co.uk/wp-content/uploads/2025/01/PA-78818805.jpg?resize=200,133\n",
            "https://www.spectator.co.uk/wp-content/uploads/2025/03/Sponsored-content-hero-with-overlay-benenden-march25.jpg?resize=378,252\n",
            "https://www.spectator.co.uk/wp-content/uploads/2025/03/PA-775238421.jpg?h=252px&crop=0,0,378px,252px\n",
            "https://www.spectator.co.uk/wp-content/uploads/2025/03/WLM_240617_Unit_02768RC.png?resize=378,252\n",
            "https://www.spectator.co.uk/wp-content/uploads/2025/03/PAulWoodInnocentsWeb.jpg?resize=378,252\n",
            "https://www.spectator.co.uk/wp-content/uploads/2025/03/Colin-Freeman-Getty.png?resize=378,252\n",
            "https://www.spectator.co.uk/wp-content/uploads/2025/03/iStock-1200872324.jpg?resize=378,252\n",
            " --- \n",
            "Found 52 images:\n",
            "https://www.google-analytics.com/g/collect?v=2&tid=G-C3QZPB4GVE&cid=555&en=noscript_page_view\n",
            "https://platform.theverge.com/wp-content/uploads/sites/2/chorus/author_profile_images/195810/EMMA_ROTH.0.jpg?quality=90&strip=all&crop=0%2C0%2C100%2C100&w=2400\n",
            "https://platform.theverge.com/wp-content/uploads/sites/2/chorus/author_profile_images/197794/dominic-preston.0.jpg?quality=90&strip=all&crop=0%2C0%2C100%2C100&w=2400\n",
            "https://platform.theverge.com/wp-content/uploads/sites/2/2025/01/0007835275_20.jpg?quality=90&strip=all&crop=0%2C0%2C100%2C100&w=2400\n",
            "https://platform.theverge.com/wp-content/uploads/sites/2/chorus/author_profile_images/197794/dominic-preston.0.jpg?quality=90&strip=all&crop=0%2C0%2C100%2C100&w=2400\n",
            "https://platform.theverge.com/wp-content/uploads/sites/2/chorus/author_profile_images/195819/JAY_PETERS.0.jpg?quality=90&strip=all&crop=0%2C0%2C100%2C100&w=2400\n",
            "https://platform.theverge.com/wp-content/uploads/sites/2/chorus/uploads/chorus_asset/file/25728971/STK083_NVIDIA_2_D.jpg?quality=90&strip=all&crop=0%2C0%2C100%2C100&w=2400\n",
            "https://platform.theverge.com/wp-content/uploads/sites/2/chorus/uploads/chorus_asset/file/25728971/STK083_NVIDIA_2_D.jpg?quality=90&strip=all&crop=0%2C0%2C100%2C100&w=2400\n",
            "https://platform.theverge.com/wp-content/uploads/sites/2/2025/01/247148_staff_portraits_2024_AKrales_JUSTINE_2787-1.jpg?quality=90&strip=all&crop=0%2C0%2C100%2C66.666666666667&w=2400\n",
            "https://platform.theverge.com/wp-content/uploads/sites/2/2025/01/STKB320_DEEPSEEK_AI_CVIRGINIA_B.jpg?quality=90&strip=all&crop=0%2C0%2C100%2C100&w=2400\n",
            "https://platform.theverge.com/wp-content/uploads/sites/2/2025/01/STKB320_DEEPSEEK_AI_CVIRGINIA_B.jpg?quality=90&strip=all&crop=0%2C0%2C100%2C100&w=2400\n",
            "https://platform.theverge.com/wp-content/uploads/sites/2/chorus/author_profile_images/195807/DAVID_PIERCE.0.jpg?quality=90&strip=all&crop=0%2C0%2C100%2C100&w=2400\n",
            "https://platform.theverge.com/wp-content/uploads/sites/2/2025/01/VST_0131_Site.jpg?quality=90&strip=all&crop=0%2C0%2C100%2C100&w=2400\n",
            "https://platform.theverge.com/wp-content/uploads/sites/2/2025/01/VST_0131_Site.jpg?quality=90&strip=all&crop=0%2C0%2C100%2C100&w=2400\n",
            "https://platform.theverge.com/wp-content/uploads/sites/2/chorus/author_profile_images/195809/ELIZABETH_LOPATTO.0.jpg?quality=90&strip=all&crop=0%2C0%2C100%2C100&w=2400\n",
            "https://platform.theverge.com/wp-content/uploads/sites/2/chorus/author_profile_images/195810/EMMA_ROTH.0.jpg?quality=90&strip=all&crop=0%2C0%2C100%2C100&w=2400\n",
            "https://platform.theverge.com/wp-content/uploads/sites/2/chorus/uploads/chorus_asset/file/25848982/STKB320_DEEPSEEK_AI_CVIRGINIA_A.jpg?quality=90&strip=all&crop=0%2C0%2C100%2C100&w=2400\n",
            "https://platform.theverge.com/wp-content/uploads/sites/2/chorus/uploads/chorus_asset/file/25848982/STKB320_DEEPSEEK_AI_CVIRGINIA_A.jpg?quality=90&strip=all&crop=0%2C0%2C100%2C100&w=2400\n",
            "https://platform.theverge.com/wp-content/uploads/sites/2/chorus/author_profile_images/197777/profilephoto.0.jpg?quality=90&strip=all&crop=0%2C0%2C100%2C100&w=2400\n",
            "https://platform.theverge.com/wp-content/uploads/sites/2/2025/01/247141_NOTEPAD_DEEPSEEK_AI_MICROSOFT_CVIRGINIA-1.jpg?quality=90&strip=all&crop=0%2C0%2C100%2C100&w=2400\n",
            "https://platform.theverge.com/wp-content/uploads/sites/2/2025/01/247141_NOTEPAD_DEEPSEEK_AI_MICROSOFT_CVIRGINIA-1.jpg?quality=90&strip=all&crop=0%2C0%2C100%2C100&w=2400\n",
            "https://platform.theverge.com/wp-content/uploads/sites/2/chorus/author_profile_images/195834/NILAY_PATEL.0.jpg?quality=90&strip=all&crop=0%2C0%2C100%2C100&w=2400\n",
            "https://platform.theverge.com/wp-content/uploads/sites/2/2025/01/DCD_013024_v1.jpg?quality=90&strip=all&crop=0%2C0%2C100%2C100&w=2400\n",
            "https://platform.theverge.com/wp-content/uploads/sites/2/2025/01/DCD_013024_v1.jpg?quality=90&strip=all&crop=0%2C0%2C100%2C100&w=2400\n",
            "https://platform.theverge.com/wp-content/uploads/sites/2/chorus/author_profile_images/196090/alex_heath_blurple_headshot_720.0.png?quality=90&strip=all&crop=0%2C0%2C100%2C100&w=2400\n",
            "https://platform.theverge.com/wp-content/uploads/sites/2/chorus/uploads/chorus_asset/file/25546251/STK169_Mark_Zuckerburg_CVIRGINIA_C.jpg?quality=90&strip=all&crop=0%2C0%2C100%2C100&w=2400\n",
            "https://platform.theverge.com/wp-content/uploads/sites/2/chorus/uploads/chorus_asset/file/25546251/STK169_Mark_Zuckerburg_CVIRGINIA_C.jpg?quality=90&strip=all&crop=0%2C0%2C100%2C100&w=2400\n",
            "https://platform.theverge.com/wp-content/uploads/sites/2/chorus/author_profile_images/195810/EMMA_ROTH.0.jpg?quality=90&strip=all&crop=0%2C0%2C100%2C100&w=2400\n",
            "https://platform.theverge.com/wp-content/uploads/sites/2/chorus/author_profile_images/197777/profilephoto.0.jpg?quality=90&strip=all&crop=0%2C0%2C100%2C100&w=2400\n",
            "https://platform.theverge.com/wp-content/uploads/sites/2/chorus/uploads/chorus_asset/file/25848984/STKB320_DEEPSEEK_AI_CVIRGINIA_C.jpg?quality=90&strip=all&crop=0%2C0%2C100%2C100&w=2400\n",
            "https://platform.theverge.com/wp-content/uploads/sites/2/chorus/uploads/chorus_asset/file/25848984/STKB320_DEEPSEEK_AI_CVIRGINIA_C.jpg?quality=90&strip=all&crop=0%2C0%2C100%2C100&w=2400\n",
            "https://platform.theverge.com/wp-content/uploads/sites/2/chorus/author_profile_images/195820/JESSICA_WEATHERBED.0.jpg?quality=90&strip=all&crop=0%2C0%2C100%2C100&w=2400\n",
            "https://platform.theverge.com/wp-content/uploads/sites/2/2025/01/STKB320_DEEPSEEK_AI_CVIRGINIA_D.jpg?quality=90&strip=all&crop=0%2C0%2C100%2C100&w=2400\n",
            "https://platform.theverge.com/wp-content/uploads/sites/2/2025/01/STKB320_DEEPSEEK_AI_CVIRGINIA_D.jpg?quality=90&strip=all&crop=0%2C0%2C100%2C100&w=2400\n",
            "https://platform.theverge.com/wp-content/uploads/sites/2/chorus/author_profile_images/197393/GMbiBVSaAAABxU1.0.jpeg?quality=90&strip=all&crop=0%2C0%2C100%2C100&w=2400\n",
            "https://platform.theverge.com/wp-content/uploads/sites/2/2025/01/257533_deepseek_bfd_CVirginia_2_D_9f26e7.jpg?quality=90&strip=all&crop=0%2C0%2C100%2C100&w=2400\n",
            "https://platform.theverge.com/wp-content/uploads/sites/2/2025/01/257533_deepseek_bfd_CVirginia_2_D_9f26e7.jpg?quality=90&strip=all&crop=0%2C0%2C100%2C100&w=2400\n",
            "https://platform.theverge.com/wp-content/uploads/sites/2/2025/01/0007835275_20.jpg?quality=90&strip=all&crop=0%2C0%2C100%2C100&w=2400\n",
            "https://platform.theverge.com/wp-content/uploads/sites/2/chorus/uploads/chorus_asset/file/25849821/samaltman_openai_deepseek.jpg?quality=90&strip=all&crop=0%2C0%2C100%2C100&w=2400\n",
            "https://platform.theverge.com/wp-content/uploads/sites/2/2025/01/0007835275_20.jpg?quality=90&strip=all&crop=0%2C0%2C100%2C100&w=2400\n",
            "https://platform.theverge.com/wp-content/uploads/sites/2/chorus/uploads/chorus_asset/file/25762139/STKS488_TARIFFS_CVirginia_D.jpg?quality=90&strip=all&crop=0%2C0%2C100%2C100&w=2400\n",
            "https://platform.theverge.com/wp-content/uploads/sites/2/chorus/uploads/chorus_asset/file/25762139/STKS488_TARIFFS_CVirginia_D.jpg?quality=90&strip=all&crop=0%2C0%2C100%2C100&w=2400\n",
            "https://platform.theverge.com/wp-content/uploads/sites/2/2025/01/0007835275_20.jpg?quality=90&strip=all&crop=0%2C0%2C100%2C100&w=2400\n",
            "https://platform.theverge.com/wp-content/uploads/sites/2/chorus/author_profile_images/195810/EMMA_ROTH.0.jpg?quality=90&strip=all&crop=0%2C0%2C100%2C100&w=2400\n",
            "https://platform.theverge.com/wp-content/uploads/sites/2/2025/01/0007835275_20.jpg?quality=90&strip=all&crop=0%2C0%2C100%2C100&w=2400\n",
            "https://platform.theverge.com/wp-content/uploads/sites/2/chorus/uploads/chorus_asset/file/25848993/Clipboard_01_27_2025_01.jpg?quality=90&strip=all&crop=0%2C0%2C100%2C100&w=2400\n",
            "https://platform.theverge.com/wp-content/uploads/sites/2/chorus/author_profile_images/195820/JESSICA_WEATHERBED.0.jpg?quality=90&strip=all&crop=0%2C0%2C100%2C100&w=2400\n",
            "https://platform.theverge.com/wp-content/uploads/sites/2/chorus/uploads/chorus_asset/file/25848982/STKB320_DEEPSEEK_AI_CVIRGINIA_A.jpg?quality=90&strip=all&crop=0%2C0%2C100%2C100&w=2400\n",
            "https://platform.theverge.com/wp-content/uploads/sites/2/chorus/uploads/chorus_asset/file/25848982/STKB320_DEEPSEEK_AI_CVIRGINIA_A.jpg?quality=90&strip=all&crop=0%2C0%2C100%2C100&w=2400\n",
            "https://platform.theverge.com/wp-content/uploads/sites/2/chorus/author_profile_images/195820/JESSICA_WEATHERBED.0.jpg?quality=90&strip=all&crop=0%2C0%2C100%2C100&w=2400\n",
            "https://platform.theverge.com/wp-content/uploads/sites/2/chorus/uploads/chorus_asset/file/25848982/STKB320_DEEPSEEK_AI_CVIRGINIA_A.jpg?quality=90&strip=all&crop=0%2C0%2C100%2C100&w=2400\n",
            "https://platform.theverge.com/wp-content/uploads/sites/2/chorus/uploads/chorus_asset/file/25848982/STKB320_DEEPSEEK_AI_CVIRGINIA_A.jpg?quality=90&strip=all&crop=0%2C0%2C100%2C100&w=2400\n",
            " --- \n",
            "Found 6 images:\n",
            "https://www.bu.edu/files/2025/02/deepseek-butoday_feat-crop.jpg\n",
            "https://www.bu.edu/files/2022/08/resize-22-1553-MARCOMHEAD-161-3-500x500.jpg\n",
            "https://secure.gravatar.com/avatar/4c5df37ceca4c17f8e763e49d4ea689e?s=150&d=mm&r=g\n",
            "https://secure.gravatar.com/avatar/4fea0a9368359cc8611acb0921f361b0?s=150&d=mm&r=g\n",
            "https://secure.gravatar.com/avatar/89d0948216fdd4952797c389d36c7b39?s=150&d=mm&r=g\n",
            "https://www.bu.edu/wp-content/plugins/bu-sharing/images/loading.gif\n",
            " --- \n"
          ]
        }
      ]
    },
    {
      "cell_type": "markdown",
      "source": [
        "###extract AND filter images\n",
        "\n",
        "####Filter rules:\n",
        "\n",
        "* skip **small** images (rendered size less than 200)\n",
        "* skip classes/ alt containing: **avatar, loading, icon, logo, banner, footer, placeholder**\n",
        "* skip **invisible** images\n",
        "* skip images without a source url\n"
      ],
      "metadata": {
        "id": "eJnIuErv0ETS"
      }
    },
    {
      "cell_type": "markdown",
      "source": [
        "####using **Selenium**"
      ],
      "metadata": {
        "id": "1n0s_xcQxHck"
      }
    },
    {
      "cell_type": "code",
      "source": [
        "def set_options():\n",
        "  options = Options();\n",
        "  options.add_argument(\"--headless=new\")\n",
        "  options.add_argument(\"--no-sandbox\")\n",
        "  options.add_argument(\"--disable-dev-shm-usage\")\n",
        "  options.add_argument(\"--disable-blink-features=AutomationControlled\")\n",
        "  options.binary_location = \"/usr/bin/google-chrome\"\n",
        "  return options"
      ],
      "metadata": {
        "id": "Mf9DY-vlr2Hx"
      },
      "execution_count": 5,
      "outputs": []
    },
    {
      "cell_type": "code",
      "source": [
        "def scroll_page(driver):\n",
        "    last_height = driver.execute_script(\"return document.body.scrollHeight\")\n",
        "    while True:\n",
        "        driver.execute_script(\"window.scrollTo(0, document.body.scrollHeight);\")\n",
        "        time.sleep(2)\n",
        "        new_height = driver.execute_script(\"return document.body.scrollHeight\")\n",
        "        if new_height == last_height:\n",
        "            break\n",
        "        last_height = new_height"
      ],
      "metadata": {
        "id": "ihP7LQE_6KZk"
      },
      "execution_count": 6,
      "outputs": []
    },
    {
      "cell_type": "code",
      "source": [
        "js_code = \"\"\"\n",
        "        const exclusionPattern = /avatar|loading|icon|logo|banner|footer|placeholder|teaser/i;\n",
        "\n",
        "        function isValidImage(img, minSize) {\n",
        "            let src = img.getAttribute('src');\n",
        "            let srcset = img.getAttribute('srcset');\n",
        "            let clientWidth = img.clientWidth;\n",
        "            let clientHeight = img.clientHeight;\n",
        "            let className = img.getAttribute('class') || \"\";\n",
        "            let alt = img.getAttribute('alt') || \"\";\n",
        "            let style = img.getAttribute('style') || \"\";\n",
        "\n",
        "            if (!src || !src.startsWith('http')) {\n",
        "                if (srcset) {\n",
        "                    let srcsetUrls = srcset.split(',')\n",
        "                        .map(s => s.trim().split(' ')[0])\n",
        "                        .filter(url => url && url.startsWith('http'));\n",
        "                    src = srcsetUrls.length > 0 ? srcsetUrls[0] : null;\n",
        "                }\n",
        "            }\n",
        "            if (!src) return null;\n",
        "            if (src && src.startsWith('//')) {\n",
        "                src = window.location.protocol + src;\n",
        "            }\n",
        "\n",
        "            if ((clientWidth < minSize) || (clientHeight < minSize)) return null;\n",
        "\n",
        "\n",
        "            if (style.includes(\"display: none\") || style.includes(\"opacity: 0\")) return null;\n",
        "            if (exclusionPattern.test(src)) return null;\n",
        "            if (exclusionPattern.test(className)) return null;\n",
        "            if (exclusionPattern.test(alt)) return null;\n",
        "            return src;\n",
        "        }\n",
        "\n",
        "        let imgSet = new Set();\n",
        "        document.querySelectorAll('img').forEach(img => {\n",
        "            let validSrc = isValidImage(img, arguments[0]);\n",
        "            if (validSrc) {\n",
        "                imgSet.add(validSrc);\n",
        "            }\n",
        "        });\n",
        "        return Array.from(imgSet);\n",
        "        \"\"\""
      ],
      "metadata": {
        "id": "4uYAhzNZsc9p"
      },
      "execution_count": 70,
      "outputs": []
    },
    {
      "cell_type": "code",
      "source": [
        "def get_images_selenium(url, min_size=200):\n",
        "    options = set_options()\n",
        "    driver = gcs.Chrome(options=options)\n",
        "\n",
        "    try:\n",
        "        driver.get(url)\n",
        "        WebDriverWait(driver, 10).until(\n",
        "            lambda d: d.execute_script(\"return document.readyState\") == \"complete\"\n",
        "        )\n",
        "\n",
        "        driver.execute_script(\"document.querySelectorAll('.popup-class').forEach(e => e.remove());\")\n",
        "\n",
        "        scroll_page(driver)\n",
        "\n",
        "        img_urls = driver.execute_script(js_code, min_size)\n",
        "\n",
        "    except Exception as e:\n",
        "        print(\"An error occurred: %s\", e)\n",
        "        raise\n",
        "    finally:\n",
        "        driver.quit()\n",
        "\n",
        "    return img_urls\n"
      ],
      "metadata": {
        "id": "5Koa65OzYjOY"
      },
      "execution_count": 71,
      "outputs": []
    },
    {
      "cell_type": "markdown",
      "source": [
        "####using **Soup**"
      ],
      "metadata": {
        "id": "c21tevYtxXtP"
      }
    },
    {
      "cell_type": "code",
      "source": [
        "def is_valid_image(img, min_size, base_url):\n",
        "    src = img.get('src')\n",
        "    srcset = img.get('srcset')\n",
        "    width = img.get('width')\n",
        "    height = img.get('height')\n",
        "\n",
        "    class_attr = \" \".join(img.get('class', [])) if img.get('class') else \"\"\n",
        "    alt = img.get('alt') or \"\"\n",
        "    style = img.get('style') or \"\"\n",
        "\n",
        "    if not src or not src.startswith('http'):\n",
        "        if srcset:\n",
        "            srcset_urls = [s.strip().split()[0] for s in srcset.split(',')]\n",
        "            srcset_urls = [url for url in srcset_urls if url.startswith('http')]\n",
        "            src = srcset_urls[0] if srcset_urls else None\n",
        "\n",
        "    if not src:\n",
        "        return None\n",
        "\n",
        "    if src.startswith(\"//\"):\n",
        "        parsed_base = urlparse(base_url)\n",
        "        scheme = parsed_base.scheme if parsed_base.scheme else \"https\"\n",
        "        src = f\"{scheme}:{src}\"\n",
        "\n",
        "    if not src.startswith('http'):\n",
        "        return None\n",
        "\n",
        "    try:\n",
        "        if width is not None and int(width) < min_size:\n",
        "            return None\n",
        "    except ValueError:\n",
        "        pass\n",
        "    try:\n",
        "        if height is not None and int(height) < min_size:\n",
        "            return None\n",
        "    except ValueError:\n",
        "        pass\n",
        "\n",
        "    if \"display:none\" in style.replace(\" \", \"\") or \"opacity:0\" in style.replace(\" \", \"\"):\n",
        "        return None\n",
        "\n",
        "    exclusion_pattern = re.compile(r\"avatar|loading|icon|logo|banner|footer|placeholder|teaser\", re.IGNORECASE)\n",
        "    if exclusion_pattern.search(src):\n",
        "        return None\n",
        "    if exclusion_pattern.search(class_attr):\n",
        "        return None\n",
        "    if exclusion_pattern.search(alt):\n",
        "        return None\n",
        "\n",
        "    return src"
      ],
      "metadata": {
        "id": "LqHxzhrWeIC1"
      },
      "execution_count": 86,
      "outputs": []
    },
    {
      "cell_type": "code",
      "source": [
        "def normalize_url(url):\n",
        "    \"\"\"\n",
        "    Returns the URL without any query parameters.\n",
        "    This helps grouping images that are essentially the same.\n",
        "    \"\"\"\n",
        "    parsed = urlparse(url)\n",
        "    return f\"{parsed.scheme}://{parsed.netloc}{parsed.path}\""
      ],
      "metadata": {
        "id": "KEFK2tQBfBq3"
      },
      "execution_count": null,
      "outputs": []
    },
    {
      "cell_type": "code",
      "source": [
        "def extract_width(url):\n",
        "    \"\"\"\n",
        "    Attempt to extract a width value from the URL query parameters.\n",
        "    Looks for parameters such as 'w' or 'resize' (which might be 'width,height').\n",
        "    \"\"\"\n",
        "    parsed = urlparse(url)\n",
        "    qs = parse_qs(parsed.query)\n",
        "    if 'w' in qs:\n",
        "        try:\n",
        "            return int(qs['w'][0])\n",
        "        except:\n",
        "            pass\n",
        "    if 'resize' in qs:\n",
        "        try:\n",
        "            parts = qs['resize'][0].split(',')\n",
        "            return int(parts[0])\n",
        "        except:\n",
        "            pass\n",
        "    if 'h' in qs:\n",
        "        try:\n",
        "            return int(qs['h'][0].replace('px', ''))\n",
        "        except:\n",
        "            pass\n",
        "    if 'crop' in qs:\n",
        "        try:\n",
        "            parts = qs['crop'][0].split(',')\n",
        "            if len(parts) >= 3:\n",
        "                return int(parts[2].replace('px', ''))\n",
        "        except:\n",
        "            pass\n",
        "    return 0"
      ],
      "metadata": {
        "id": "UlanxUnUfSMp"
      },
      "execution_count": null,
      "outputs": []
    },
    {
      "cell_type": "code",
      "source": [
        "def get_images_bs(url, min_size=300):\n",
        "    try:\n",
        "        response = requests.get(url)\n",
        "        response.raise_for_status()\n",
        "    except Exception as e:\n",
        "        print(\"An error occurred while fetching the page:\", e)\n",
        "        raise\n",
        "\n",
        "    soup = BeautifulSoup(response.text, 'html.parser')\n",
        "\n",
        "    for popup in soup.select('.popup-class'):\n",
        "        popup.decompose()\n",
        "\n",
        "    grouped_images = {}\n",
        "    for img in soup.find_all('img'):\n",
        "        valid_src = is_valid_image(img, min_size, url)\n",
        "        if valid_src:\n",
        "            key = normalize_url(valid_src)\n",
        "            current_width = extract_width(valid_src)\n",
        "            # If we already have an image for this key, keep the one with the larger width.\n",
        "            if key in grouped_images:\n",
        "                existing_width = extract_width(grouped_images[key])\n",
        "                if current_width > existing_width:\n",
        "                    grouped_images[key] = valid_src\n",
        "            else:\n",
        "                grouped_images[key] = valid_src\n",
        "\n",
        "    return list(grouped_images.values())"
      ],
      "metadata": {
        "id": "505gtDLGfJZ0"
      },
      "execution_count": null,
      "outputs": []
    },
    {
      "cell_type": "markdown",
      "source": [
        "###Testing:\n",
        "\n",
        "Selenium VS Beautiful Soup"
      ],
      "metadata": {
        "id": "7xNhFxw-Attw"
      }
    },
    {
      "cell_type": "code",
      "source": [
        "def print_found_imgs(images):\n",
        "  print(f\"Found {len(images)} image(s):\")\n",
        "  for img in images:\n",
        "      print(img)"
      ],
      "metadata": {
        "id": "W7tZLXEArHrS"
      },
      "execution_count": 10,
      "outputs": []
    },
    {
      "cell_type": "code",
      "source": [
        "page_url_1 = \"https://www.bbc.com/news/articles/c5yv5976z9po\"\n",
        "page_url_2 = \"https://www.spectator.co.uk/article/is-this-new-chinese-ai-even-better-than-deepseek/\"\n",
        "page_url_3 = \"https://www.theverge.com/24353060/deepseek-ai-china-nvidia-openai\"\n",
        "page_url_4 = \"https://www.bu.edu/articles/2025/does-chinas-deepseek-represent-a-new-frontier-in-ai/\"\n",
        "\n",
        "test_urls = [page_url_1, page_url_2, page_url_3, page_url_4]"
      ],
      "metadata": {
        "id": "Ebj1zbGsy6u3"
      },
      "execution_count": 78,
      "outputs": []
    },
    {
      "cell_type": "code",
      "source": [
        "def test(urls):\n",
        "  results = []\n",
        "\n",
        "  for url in test_urls:\n",
        "    row = {\"URL\": url}\n",
        "\n",
        "    # Test Selenium\n",
        "    start = time.time()\n",
        "    images_selenium = get_images_selenium(url)\n",
        "    elapsed_selenium = time.time() - start\n",
        "    row[\"Selenium Images Found\"] = len(images_selenium)\n",
        "    row[\"Selenium Time Taken (s)\"] = round(elapsed_selenium, 2)\n",
        "\n",
        "    # Test BeautifulSoup\n",
        "    start = time.time()\n",
        "    images_soup = get_images_bs(url)\n",
        "    elapsed_soup = time.time() - start\n",
        "    row[\"BeautifulSoup Images Found\"] = len(images_soup)\n",
        "    row[\"BeautifulSoup Time Taken (s)\"] = round(elapsed_soup, 2)\n",
        "\n",
        "    results.append(row)\n",
        "\n",
        "  return pd.DataFrame(results)\n",
        "\n",
        "\n",
        "df_comparison = test(test_urls)\n",
        "df_comparison"
      ],
      "metadata": {
        "colab": {
          "base_uri": "https://localhost:8080/",
          "height": 256
        },
        "id": "cFUCta8OFirY",
        "outputId": "9bd4e6fc-4023-47c6-aced-84051627f6b9"
      },
      "execution_count": 88,
      "outputs": [
        {
          "output_type": "display_data",
          "data": {
            "text/plain": [
              "<IPython.core.display.HTML object>"
            ],
            "text/html": [
              "\n",
              "            <div class=\"spinner-container\">\n",
              "                <div class=\"spinner\" id=\"56a4f528-a7d9-438d-bc9c-c1a238c7a1bb-circle\"></div>\n",
              "                <div class=\"spinner-text\" id=\"56a4f528-a7d9-438d-bc9c-c1a238c7a1bb-text\">Initializing Chromedriver</div>\n",
              "            </div>\n",
              "            <style>\n",
              "                @keyframes spin {\n",
              "                    from { transform: rotate(0deg); }\n",
              "                    to { transform: rotate(360deg); }\n",
              "                }\n",
              "\n",
              "                .spinner-container {\n",
              "                    display: flex;\n",
              "                    align-items: center;\n",
              "                    margin-bottom: 3px;\n",
              "                }\n",
              "\n",
              "                .spinner {\n",
              "                    border: 3px solid rgba(0, 0, 0, 0.1);\n",
              "                    border-left-color: lightblue;\n",
              "                    border-radius: 50%;\n",
              "                    width: 12px;\n",
              "                    height: 12px;\n",
              "                    animation: spin 1s linear infinite;\n",
              "                }\n",
              "\n",
              "                .spinner-text {\n",
              "                    padding-left: 6px;\n",
              "                }\n",
              "            </style>\n",
              "        "
            ]
          },
          "metadata": {}
        },
        {
          "output_type": "display_data",
          "data": {
            "text/plain": [
              "<IPython.core.display.Javascript object>"
            ],
            "application/javascript": [
              "\n",
              "            const element = document.getElementById(\"56a4f528-a7d9-438d-bc9c-c1a238c7a1bb-circle\");\n",
              "            element.style.border = \"3px solid limegreen\";\n",
              "            element.style.animation = \"none\";\n",
              "\n",
              "            const text = document.getElementById(\"56a4f528-a7d9-438d-bc9c-c1a238c7a1bb-text\");\n",
              "            text.innerText = \"Initialized Chromedriver\";\n",
              "        "
            ]
          },
          "metadata": {}
        },
        {
          "output_type": "display_data",
          "data": {
            "text/plain": [
              "<IPython.core.display.HTML object>"
            ],
            "text/html": [
              "\n",
              "            <div class=\"spinner-container\">\n",
              "                <div class=\"spinner\" id=\"7e6833f2-0a5c-46af-b715-946d3fc8cf7e-circle\"></div>\n",
              "                <div class=\"spinner-text\" id=\"7e6833f2-0a5c-46af-b715-946d3fc8cf7e-text\">Initializing Chromedriver</div>\n",
              "            </div>\n",
              "            <style>\n",
              "                @keyframes spin {\n",
              "                    from { transform: rotate(0deg); }\n",
              "                    to { transform: rotate(360deg); }\n",
              "                }\n",
              "\n",
              "                .spinner-container {\n",
              "                    display: flex;\n",
              "                    align-items: center;\n",
              "                    margin-bottom: 3px;\n",
              "                }\n",
              "\n",
              "                .spinner {\n",
              "                    border: 3px solid rgba(0, 0, 0, 0.1);\n",
              "                    border-left-color: lightblue;\n",
              "                    border-radius: 50%;\n",
              "                    width: 12px;\n",
              "                    height: 12px;\n",
              "                    animation: spin 1s linear infinite;\n",
              "                }\n",
              "\n",
              "                .spinner-text {\n",
              "                    padding-left: 6px;\n",
              "                }\n",
              "            </style>\n",
              "        "
            ]
          },
          "metadata": {}
        },
        {
          "output_type": "display_data",
          "data": {
            "text/plain": [
              "<IPython.core.display.Javascript object>"
            ],
            "application/javascript": [
              "\n",
              "            const element = document.getElementById(\"7e6833f2-0a5c-46af-b715-946d3fc8cf7e-circle\");\n",
              "            element.style.border = \"3px solid limegreen\";\n",
              "            element.style.animation = \"none\";\n",
              "\n",
              "            const text = document.getElementById(\"7e6833f2-0a5c-46af-b715-946d3fc8cf7e-text\");\n",
              "            text.innerText = \"Initialized Chromedriver\";\n",
              "        "
            ]
          },
          "metadata": {}
        },
        {
          "output_type": "display_data",
          "data": {
            "text/plain": [
              "<IPython.core.display.HTML object>"
            ],
            "text/html": [
              "\n",
              "            <div class=\"spinner-container\">\n",
              "                <div class=\"spinner\" id=\"4969ab92-b354-4843-a98f-0d52addc427b-circle\"></div>\n",
              "                <div class=\"spinner-text\" id=\"4969ab92-b354-4843-a98f-0d52addc427b-text\">Initializing Chromedriver</div>\n",
              "            </div>\n",
              "            <style>\n",
              "                @keyframes spin {\n",
              "                    from { transform: rotate(0deg); }\n",
              "                    to { transform: rotate(360deg); }\n",
              "                }\n",
              "\n",
              "                .spinner-container {\n",
              "                    display: flex;\n",
              "                    align-items: center;\n",
              "                    margin-bottom: 3px;\n",
              "                }\n",
              "\n",
              "                .spinner {\n",
              "                    border: 3px solid rgba(0, 0, 0, 0.1);\n",
              "                    border-left-color: lightblue;\n",
              "                    border-radius: 50%;\n",
              "                    width: 12px;\n",
              "                    height: 12px;\n",
              "                    animation: spin 1s linear infinite;\n",
              "                }\n",
              "\n",
              "                .spinner-text {\n",
              "                    padding-left: 6px;\n",
              "                }\n",
              "            </style>\n",
              "        "
            ]
          },
          "metadata": {}
        },
        {
          "output_type": "display_data",
          "data": {
            "text/plain": [
              "<IPython.core.display.Javascript object>"
            ],
            "application/javascript": [
              "\n",
              "            const element = document.getElementById(\"4969ab92-b354-4843-a98f-0d52addc427b-circle\");\n",
              "            element.style.border = \"3px solid limegreen\";\n",
              "            element.style.animation = \"none\";\n",
              "\n",
              "            const text = document.getElementById(\"4969ab92-b354-4843-a98f-0d52addc427b-text\");\n",
              "            text.innerText = \"Initialized Chromedriver\";\n",
              "        "
            ]
          },
          "metadata": {}
        },
        {
          "output_type": "display_data",
          "data": {
            "text/plain": [
              "<IPython.core.display.HTML object>"
            ],
            "text/html": [
              "\n",
              "            <div class=\"spinner-container\">\n",
              "                <div class=\"spinner\" id=\"bb5c2ff6-3c69-4cc1-93c5-612ee22ec879-circle\"></div>\n",
              "                <div class=\"spinner-text\" id=\"bb5c2ff6-3c69-4cc1-93c5-612ee22ec879-text\">Initializing Chromedriver</div>\n",
              "            </div>\n",
              "            <style>\n",
              "                @keyframes spin {\n",
              "                    from { transform: rotate(0deg); }\n",
              "                    to { transform: rotate(360deg); }\n",
              "                }\n",
              "\n",
              "                .spinner-container {\n",
              "                    display: flex;\n",
              "                    align-items: center;\n",
              "                    margin-bottom: 3px;\n",
              "                }\n",
              "\n",
              "                .spinner {\n",
              "                    border: 3px solid rgba(0, 0, 0, 0.1);\n",
              "                    border-left-color: lightblue;\n",
              "                    border-radius: 50%;\n",
              "                    width: 12px;\n",
              "                    height: 12px;\n",
              "                    animation: spin 1s linear infinite;\n",
              "                }\n",
              "\n",
              "                .spinner-text {\n",
              "                    padding-left: 6px;\n",
              "                }\n",
              "            </style>\n",
              "        "
            ]
          },
          "metadata": {}
        },
        {
          "output_type": "display_data",
          "data": {
            "text/plain": [
              "<IPython.core.display.Javascript object>"
            ],
            "application/javascript": [
              "\n",
              "            const element = document.getElementById(\"bb5c2ff6-3c69-4cc1-93c5-612ee22ec879-circle\");\n",
              "            element.style.border = \"3px solid limegreen\";\n",
              "            element.style.animation = \"none\";\n",
              "\n",
              "            const text = document.getElementById(\"bb5c2ff6-3c69-4cc1-93c5-612ee22ec879-text\");\n",
              "            text.innerText = \"Initialized Chromedriver\";\n",
              "        "
            ]
          },
          "metadata": {}
        },
        {
          "output_type": "execute_result",
          "data": {
            "text/plain": [
              "                                                 URL  Selenium Images Found  \\\n",
              "0     https://www.bbc.com/news/articles/c5yv5976z9po                      1   \n",
              "1  https://www.spectator.co.uk/article/is-this-ne...                      2   \n",
              "2  https://www.theverge.com/24353060/deepseek-ai-...                     10   \n",
              "3  https://www.bu.edu/articles/2025/does-chinas-d...                      0   \n",
              "\n",
              "   Selenium Time Taken (s)  BeautifulSoup Images Found  \\\n",
              "0                    16.07                           1   \n",
              "1                     5.54                           2   \n",
              "2                    18.39                          10   \n",
              "3                     4.83                           1   \n",
              "\n",
              "   BeautifulSoup Time Taken (s)  \n",
              "0                          0.30  \n",
              "1                          0.32  \n",
              "2                          0.19  \n",
              "3                          0.14  "
            ],
            "text/html": [
              "\n",
              "  <div id=\"df-159df9c9-c79b-4018-92e7-16be6f379e06\" class=\"colab-df-container\">\n",
              "    <div>\n",
              "<style scoped>\n",
              "    .dataframe tbody tr th:only-of-type {\n",
              "        vertical-align: middle;\n",
              "    }\n",
              "\n",
              "    .dataframe tbody tr th {\n",
              "        vertical-align: top;\n",
              "    }\n",
              "\n",
              "    .dataframe thead th {\n",
              "        text-align: right;\n",
              "    }\n",
              "</style>\n",
              "<table border=\"1\" class=\"dataframe\">\n",
              "  <thead>\n",
              "    <tr style=\"text-align: right;\">\n",
              "      <th></th>\n",
              "      <th>URL</th>\n",
              "      <th>Selenium Images Found</th>\n",
              "      <th>Selenium Time Taken (s)</th>\n",
              "      <th>BeautifulSoup Images Found</th>\n",
              "      <th>BeautifulSoup Time Taken (s)</th>\n",
              "    </tr>\n",
              "  </thead>\n",
              "  <tbody>\n",
              "    <tr>\n",
              "      <th>0</th>\n",
              "      <td>https://www.bbc.com/news/articles/c5yv5976z9po</td>\n",
              "      <td>1</td>\n",
              "      <td>16.07</td>\n",
              "      <td>1</td>\n",
              "      <td>0.30</td>\n",
              "    </tr>\n",
              "    <tr>\n",
              "      <th>1</th>\n",
              "      <td>https://www.spectator.co.uk/article/is-this-ne...</td>\n",
              "      <td>2</td>\n",
              "      <td>5.54</td>\n",
              "      <td>2</td>\n",
              "      <td>0.32</td>\n",
              "    </tr>\n",
              "    <tr>\n",
              "      <th>2</th>\n",
              "      <td>https://www.theverge.com/24353060/deepseek-ai-...</td>\n",
              "      <td>10</td>\n",
              "      <td>18.39</td>\n",
              "      <td>10</td>\n",
              "      <td>0.19</td>\n",
              "    </tr>\n",
              "    <tr>\n",
              "      <th>3</th>\n",
              "      <td>https://www.bu.edu/articles/2025/does-chinas-d...</td>\n",
              "      <td>0</td>\n",
              "      <td>4.83</td>\n",
              "      <td>1</td>\n",
              "      <td>0.14</td>\n",
              "    </tr>\n",
              "  </tbody>\n",
              "</table>\n",
              "</div>\n",
              "    <div class=\"colab-df-buttons\">\n",
              "\n",
              "  <div class=\"colab-df-container\">\n",
              "    <button class=\"colab-df-convert\" onclick=\"convertToInteractive('df-159df9c9-c79b-4018-92e7-16be6f379e06')\"\n",
              "            title=\"Convert this dataframe to an interactive table.\"\n",
              "            style=\"display:none;\">\n",
              "\n",
              "  <svg xmlns=\"http://www.w3.org/2000/svg\" height=\"24px\" viewBox=\"0 -960 960 960\">\n",
              "    <path d=\"M120-120v-720h720v720H120Zm60-500h600v-160H180v160Zm220 220h160v-160H400v160Zm0 220h160v-160H400v160ZM180-400h160v-160H180v160Zm440 0h160v-160H620v160ZM180-180h160v-160H180v160Zm440 0h160v-160H620v160Z\"/>\n",
              "  </svg>\n",
              "    </button>\n",
              "\n",
              "  <style>\n",
              "    .colab-df-container {\n",
              "      display:flex;\n",
              "      gap: 12px;\n",
              "    }\n",
              "\n",
              "    .colab-df-convert {\n",
              "      background-color: #E8F0FE;\n",
              "      border: none;\n",
              "      border-radius: 50%;\n",
              "      cursor: pointer;\n",
              "      display: none;\n",
              "      fill: #1967D2;\n",
              "      height: 32px;\n",
              "      padding: 0 0 0 0;\n",
              "      width: 32px;\n",
              "    }\n",
              "\n",
              "    .colab-df-convert:hover {\n",
              "      background-color: #E2EBFA;\n",
              "      box-shadow: 0px 1px 2px rgba(60, 64, 67, 0.3), 0px 1px 3px 1px rgba(60, 64, 67, 0.15);\n",
              "      fill: #174EA6;\n",
              "    }\n",
              "\n",
              "    .colab-df-buttons div {\n",
              "      margin-bottom: 4px;\n",
              "    }\n",
              "\n",
              "    [theme=dark] .colab-df-convert {\n",
              "      background-color: #3B4455;\n",
              "      fill: #D2E3FC;\n",
              "    }\n",
              "\n",
              "    [theme=dark] .colab-df-convert:hover {\n",
              "      background-color: #434B5C;\n",
              "      box-shadow: 0px 1px 3px 1px rgba(0, 0, 0, 0.15);\n",
              "      filter: drop-shadow(0px 1px 2px rgba(0, 0, 0, 0.3));\n",
              "      fill: #FFFFFF;\n",
              "    }\n",
              "  </style>\n",
              "\n",
              "    <script>\n",
              "      const buttonEl =\n",
              "        document.querySelector('#df-159df9c9-c79b-4018-92e7-16be6f379e06 button.colab-df-convert');\n",
              "      buttonEl.style.display =\n",
              "        google.colab.kernel.accessAllowed ? 'block' : 'none';\n",
              "\n",
              "      async function convertToInteractive(key) {\n",
              "        const element = document.querySelector('#df-159df9c9-c79b-4018-92e7-16be6f379e06');\n",
              "        const dataTable =\n",
              "          await google.colab.kernel.invokeFunction('convertToInteractive',\n",
              "                                                    [key], {});\n",
              "        if (!dataTable) return;\n",
              "\n",
              "        const docLinkHtml = 'Like what you see? Visit the ' +\n",
              "          '<a target=\"_blank\" href=https://colab.research.google.com/notebooks/data_table.ipynb>data table notebook</a>'\n",
              "          + ' to learn more about interactive tables.';\n",
              "        element.innerHTML = '';\n",
              "        dataTable['output_type'] = 'display_data';\n",
              "        await google.colab.output.renderOutput(dataTable, element);\n",
              "        const docLink = document.createElement('div');\n",
              "        docLink.innerHTML = docLinkHtml;\n",
              "        element.appendChild(docLink);\n",
              "      }\n",
              "    </script>\n",
              "  </div>\n",
              "\n",
              "\n",
              "<div id=\"df-f0432840-ce04-4840-8da8-1f41ca8aa3fa\">\n",
              "  <button class=\"colab-df-quickchart\" onclick=\"quickchart('df-f0432840-ce04-4840-8da8-1f41ca8aa3fa')\"\n",
              "            title=\"Suggest charts\"\n",
              "            style=\"display:none;\">\n",
              "\n",
              "<svg xmlns=\"http://www.w3.org/2000/svg\" height=\"24px\"viewBox=\"0 0 24 24\"\n",
              "     width=\"24px\">\n",
              "    <g>\n",
              "        <path d=\"M19 3H5c-1.1 0-2 .9-2 2v14c0 1.1.9 2 2 2h14c1.1 0 2-.9 2-2V5c0-1.1-.9-2-2-2zM9 17H7v-7h2v7zm4 0h-2V7h2v10zm4 0h-2v-4h2v4z\"/>\n",
              "    </g>\n",
              "</svg>\n",
              "  </button>\n",
              "\n",
              "<style>\n",
              "  .colab-df-quickchart {\n",
              "      --bg-color: #E8F0FE;\n",
              "      --fill-color: #1967D2;\n",
              "      --hover-bg-color: #E2EBFA;\n",
              "      --hover-fill-color: #174EA6;\n",
              "      --disabled-fill-color: #AAA;\n",
              "      --disabled-bg-color: #DDD;\n",
              "  }\n",
              "\n",
              "  [theme=dark] .colab-df-quickchart {\n",
              "      --bg-color: #3B4455;\n",
              "      --fill-color: #D2E3FC;\n",
              "      --hover-bg-color: #434B5C;\n",
              "      --hover-fill-color: #FFFFFF;\n",
              "      --disabled-bg-color: #3B4455;\n",
              "      --disabled-fill-color: #666;\n",
              "  }\n",
              "\n",
              "  .colab-df-quickchart {\n",
              "    background-color: var(--bg-color);\n",
              "    border: none;\n",
              "    border-radius: 50%;\n",
              "    cursor: pointer;\n",
              "    display: none;\n",
              "    fill: var(--fill-color);\n",
              "    height: 32px;\n",
              "    padding: 0;\n",
              "    width: 32px;\n",
              "  }\n",
              "\n",
              "  .colab-df-quickchart:hover {\n",
              "    background-color: var(--hover-bg-color);\n",
              "    box-shadow: 0 1px 2px rgba(60, 64, 67, 0.3), 0 1px 3px 1px rgba(60, 64, 67, 0.15);\n",
              "    fill: var(--button-hover-fill-color);\n",
              "  }\n",
              "\n",
              "  .colab-df-quickchart-complete:disabled,\n",
              "  .colab-df-quickchart-complete:disabled:hover {\n",
              "    background-color: var(--disabled-bg-color);\n",
              "    fill: var(--disabled-fill-color);\n",
              "    box-shadow: none;\n",
              "  }\n",
              "\n",
              "  .colab-df-spinner {\n",
              "    border: 2px solid var(--fill-color);\n",
              "    border-color: transparent;\n",
              "    border-bottom-color: var(--fill-color);\n",
              "    animation:\n",
              "      spin 1s steps(1) infinite;\n",
              "  }\n",
              "\n",
              "  @keyframes spin {\n",
              "    0% {\n",
              "      border-color: transparent;\n",
              "      border-bottom-color: var(--fill-color);\n",
              "      border-left-color: var(--fill-color);\n",
              "    }\n",
              "    20% {\n",
              "      border-color: transparent;\n",
              "      border-left-color: var(--fill-color);\n",
              "      border-top-color: var(--fill-color);\n",
              "    }\n",
              "    30% {\n",
              "      border-color: transparent;\n",
              "      border-left-color: var(--fill-color);\n",
              "      border-top-color: var(--fill-color);\n",
              "      border-right-color: var(--fill-color);\n",
              "    }\n",
              "    40% {\n",
              "      border-color: transparent;\n",
              "      border-right-color: var(--fill-color);\n",
              "      border-top-color: var(--fill-color);\n",
              "    }\n",
              "    60% {\n",
              "      border-color: transparent;\n",
              "      border-right-color: var(--fill-color);\n",
              "    }\n",
              "    80% {\n",
              "      border-color: transparent;\n",
              "      border-right-color: var(--fill-color);\n",
              "      border-bottom-color: var(--fill-color);\n",
              "    }\n",
              "    90% {\n",
              "      border-color: transparent;\n",
              "      border-bottom-color: var(--fill-color);\n",
              "    }\n",
              "  }\n",
              "</style>\n",
              "\n",
              "  <script>\n",
              "    async function quickchart(key) {\n",
              "      const quickchartButtonEl =\n",
              "        document.querySelector('#' + key + ' button');\n",
              "      quickchartButtonEl.disabled = true;  // To prevent multiple clicks.\n",
              "      quickchartButtonEl.classList.add('colab-df-spinner');\n",
              "      try {\n",
              "        const charts = await google.colab.kernel.invokeFunction(\n",
              "            'suggestCharts', [key], {});\n",
              "      } catch (error) {\n",
              "        console.error('Error during call to suggestCharts:', error);\n",
              "      }\n",
              "      quickchartButtonEl.classList.remove('colab-df-spinner');\n",
              "      quickchartButtonEl.classList.add('colab-df-quickchart-complete');\n",
              "    }\n",
              "    (() => {\n",
              "      let quickchartButtonEl =\n",
              "        document.querySelector('#df-f0432840-ce04-4840-8da8-1f41ca8aa3fa button');\n",
              "      quickchartButtonEl.style.display =\n",
              "        google.colab.kernel.accessAllowed ? 'block' : 'none';\n",
              "    })();\n",
              "  </script>\n",
              "</div>\n",
              "\n",
              "  <div id=\"id_b56572a9-4755-466e-b21e-0b0b4fbb54b5\">\n",
              "    <style>\n",
              "      .colab-df-generate {\n",
              "        background-color: #E8F0FE;\n",
              "        border: none;\n",
              "        border-radius: 50%;\n",
              "        cursor: pointer;\n",
              "        display: none;\n",
              "        fill: #1967D2;\n",
              "        height: 32px;\n",
              "        padding: 0 0 0 0;\n",
              "        width: 32px;\n",
              "      }\n",
              "\n",
              "      .colab-df-generate:hover {\n",
              "        background-color: #E2EBFA;\n",
              "        box-shadow: 0px 1px 2px rgba(60, 64, 67, 0.3), 0px 1px 3px 1px rgba(60, 64, 67, 0.15);\n",
              "        fill: #174EA6;\n",
              "      }\n",
              "\n",
              "      [theme=dark] .colab-df-generate {\n",
              "        background-color: #3B4455;\n",
              "        fill: #D2E3FC;\n",
              "      }\n",
              "\n",
              "      [theme=dark] .colab-df-generate:hover {\n",
              "        background-color: #434B5C;\n",
              "        box-shadow: 0px 1px 3px 1px rgba(0, 0, 0, 0.15);\n",
              "        filter: drop-shadow(0px 1px 2px rgba(0, 0, 0, 0.3));\n",
              "        fill: #FFFFFF;\n",
              "      }\n",
              "    </style>\n",
              "    <button class=\"colab-df-generate\" onclick=\"generateWithVariable('df_comparison')\"\n",
              "            title=\"Generate code using this dataframe.\"\n",
              "            style=\"display:none;\">\n",
              "\n",
              "  <svg xmlns=\"http://www.w3.org/2000/svg\" height=\"24px\"viewBox=\"0 0 24 24\"\n",
              "       width=\"24px\">\n",
              "    <path d=\"M7,19H8.4L18.45,9,17,7.55,7,17.6ZM5,21V16.75L18.45,3.32a2,2,0,0,1,2.83,0l1.4,1.43a1.91,1.91,0,0,1,.58,1.4,1.91,1.91,0,0,1-.58,1.4L9.25,21ZM18.45,9,17,7.55Zm-12,3A5.31,5.31,0,0,0,4.9,8.1,5.31,5.31,0,0,0,1,6.5,5.31,5.31,0,0,0,4.9,4.9,5.31,5.31,0,0,0,6.5,1,5.31,5.31,0,0,0,8.1,4.9,5.31,5.31,0,0,0,12,6.5,5.46,5.46,0,0,0,6.5,12Z\"/>\n",
              "  </svg>\n",
              "    </button>\n",
              "    <script>\n",
              "      (() => {\n",
              "      const buttonEl =\n",
              "        document.querySelector('#id_b56572a9-4755-466e-b21e-0b0b4fbb54b5 button.colab-df-generate');\n",
              "      buttonEl.style.display =\n",
              "        google.colab.kernel.accessAllowed ? 'block' : 'none';\n",
              "\n",
              "      buttonEl.onclick = () => {\n",
              "        google.colab.notebook.generateWithVariable('df_comparison');\n",
              "      }\n",
              "      })();\n",
              "    </script>\n",
              "  </div>\n",
              "\n",
              "    </div>\n",
              "  </div>\n"
            ],
            "application/vnd.google.colaboratory.intrinsic+json": {
              "type": "dataframe",
              "variable_name": "df_comparison",
              "summary": "{\n  \"name\": \"df_comparison\",\n  \"rows\": 4,\n  \"fields\": [\n    {\n      \"column\": \"URL\",\n      \"properties\": {\n        \"dtype\": \"string\",\n        \"num_unique_values\": 4,\n        \"samples\": [\n          \"https://www.spectator.co.uk/article/is-this-new-chinese-ai-even-better-than-deepseek/\",\n          \"https://www.bu.edu/articles/2025/does-chinas-deepseek-represent-a-new-frontier-in-ai/\",\n          \"https://www.bbc.com/news/articles/c5yv5976z9po\"\n        ],\n        \"semantic_type\": \"\",\n        \"description\": \"\"\n      }\n    },\n    {\n      \"column\": \"Selenium Images Found\",\n      \"properties\": {\n        \"dtype\": \"number\",\n        \"std\": 4,\n        \"min\": 0,\n        \"max\": 10,\n        \"num_unique_values\": 4,\n        \"samples\": [\n          2,\n          0,\n          1\n        ],\n        \"semantic_type\": \"\",\n        \"description\": \"\"\n      }\n    },\n    {\n      \"column\": \"Selenium Time Taken (s)\",\n      \"properties\": {\n        \"dtype\": \"number\",\n        \"std\": 7.024368892173398,\n        \"min\": 4.83,\n        \"max\": 18.39,\n        \"num_unique_values\": 4,\n        \"samples\": [\n          5.54,\n          4.83,\n          16.07\n        ],\n        \"semantic_type\": \"\",\n        \"description\": \"\"\n      }\n    },\n    {\n      \"column\": \"BeautifulSoup Images Found\",\n      \"properties\": {\n        \"dtype\": \"number\",\n        \"std\": 4,\n        \"min\": 1,\n        \"max\": 10,\n        \"num_unique_values\": 3,\n        \"samples\": [\n          1,\n          2,\n          10\n        ],\n        \"semantic_type\": \"\",\n        \"description\": \"\"\n      }\n    },\n    {\n      \"column\": \"BeautifulSoup Time Taken (s)\",\n      \"properties\": {\n        \"dtype\": \"number\",\n        \"std\": 0.08655441448399188,\n        \"min\": 0.14,\n        \"max\": 0.32,\n        \"num_unique_values\": 4,\n        \"samples\": [\n          0.32,\n          0.14,\n          0.3\n        ],\n        \"semantic_type\": \"\",\n        \"description\": \"\"\n      }\n    }\n  ]\n}"
            }
          },
          "metadata": {},
          "execution_count": 88
        }
      ]
    },
    {
      "cell_type": "code",
      "source": [
        "# Test Selenium\n",
        "for url in test_urls:\n",
        "    images = get_images_selenium(url)\n",
        "    print_found_imgs(images)\n",
        "    print(\" --- \")"
      ],
      "metadata": {
        "colab": {
          "base_uri": "https://localhost:8080/",
          "height": 483
        },
        "id": "mWqMs8BfzOSu",
        "outputId": "9b5b9336-0db9-4b77-f247-14d83c99f5ed"
      },
      "execution_count": 82,
      "outputs": [
        {
          "output_type": "display_data",
          "data": {
            "text/plain": [
              "<IPython.core.display.HTML object>"
            ],
            "text/html": [
              "\n",
              "            <div class=\"spinner-container\">\n",
              "                <div class=\"spinner\" id=\"096f9b4c-8d31-4fc1-9c2d-d15386a42637-circle\"></div>\n",
              "                <div class=\"spinner-text\" id=\"096f9b4c-8d31-4fc1-9c2d-d15386a42637-text\">Initializing Chromedriver</div>\n",
              "            </div>\n",
              "            <style>\n",
              "                @keyframes spin {\n",
              "                    from { transform: rotate(0deg); }\n",
              "                    to { transform: rotate(360deg); }\n",
              "                }\n",
              "\n",
              "                .spinner-container {\n",
              "                    display: flex;\n",
              "                    align-items: center;\n",
              "                    margin-bottom: 3px;\n",
              "                }\n",
              "\n",
              "                .spinner {\n",
              "                    border: 3px solid rgba(0, 0, 0, 0.1);\n",
              "                    border-left-color: lightblue;\n",
              "                    border-radius: 50%;\n",
              "                    width: 12px;\n",
              "                    height: 12px;\n",
              "                    animation: spin 1s linear infinite;\n",
              "                }\n",
              "\n",
              "                .spinner-text {\n",
              "                    padding-left: 6px;\n",
              "                }\n",
              "            </style>\n",
              "        "
            ]
          },
          "metadata": {}
        },
        {
          "output_type": "display_data",
          "data": {
            "text/plain": [
              "<IPython.core.display.Javascript object>"
            ],
            "application/javascript": [
              "\n",
              "            const element = document.getElementById(\"096f9b4c-8d31-4fc1-9c2d-d15386a42637-circle\");\n",
              "            element.style.border = \"3px solid limegreen\";\n",
              "            element.style.animation = \"none\";\n",
              "\n",
              "            const text = document.getElementById(\"096f9b4c-8d31-4fc1-9c2d-d15386a42637-text\");\n",
              "            text.innerText = \"Initialized Chromedriver\";\n",
              "        "
            ]
          },
          "metadata": {}
        },
        {
          "output_type": "stream",
          "name": "stdout",
          "text": [
            "Found 1 image(s):\n",
            "https://ichef.bbci.co.uk/news/480/cpsprodpb/3cb2/live/61ec64f0-dd4c-11ef-b20c-cf1b3bd7a488.jpg.webp\n",
            " --- \n"
          ]
        },
        {
          "output_type": "display_data",
          "data": {
            "text/plain": [
              "<IPython.core.display.HTML object>"
            ],
            "text/html": [
              "\n",
              "            <div class=\"spinner-container\">\n",
              "                <div class=\"spinner\" id=\"61715a37-4d12-40b8-ba20-eb611d90ee64-circle\"></div>\n",
              "                <div class=\"spinner-text\" id=\"61715a37-4d12-40b8-ba20-eb611d90ee64-text\">Initializing Chromedriver</div>\n",
              "            </div>\n",
              "            <style>\n",
              "                @keyframes spin {\n",
              "                    from { transform: rotate(0deg); }\n",
              "                    to { transform: rotate(360deg); }\n",
              "                }\n",
              "\n",
              "                .spinner-container {\n",
              "                    display: flex;\n",
              "                    align-items: center;\n",
              "                    margin-bottom: 3px;\n",
              "                }\n",
              "\n",
              "                .spinner {\n",
              "                    border: 3px solid rgba(0, 0, 0, 0.1);\n",
              "                    border-left-color: lightblue;\n",
              "                    border-radius: 50%;\n",
              "                    width: 12px;\n",
              "                    height: 12px;\n",
              "                    animation: spin 1s linear infinite;\n",
              "                }\n",
              "\n",
              "                .spinner-text {\n",
              "                    padding-left: 6px;\n",
              "                }\n",
              "            </style>\n",
              "        "
            ]
          },
          "metadata": {}
        },
        {
          "output_type": "display_data",
          "data": {
            "text/plain": [
              "<IPython.core.display.Javascript object>"
            ],
            "application/javascript": [
              "\n",
              "            const element = document.getElementById(\"61715a37-4d12-40b8-ba20-eb611d90ee64-circle\");\n",
              "            element.style.border = \"3px solid limegreen\";\n",
              "            element.style.animation = \"none\";\n",
              "\n",
              "            const text = document.getElementById(\"61715a37-4d12-40b8-ba20-eb611d90ee64-text\");\n",
              "            text.innerText = \"Initialized Chromedriver\";\n",
              "        "
            ]
          },
          "metadata": {}
        },
        {
          "output_type": "stream",
          "name": "stdout",
          "text": [
            "Found 2 image(s):\n",
            "https://www.spectator.co.uk/wp-content/uploads/2025/03/iStock-1456167226.jpg?w=1280\n",
            "https://www.spectator.co.uk/wp-content/uploads/2025/03/RossClarkSchoolsVATWeb.jpg?resize=378,213\n",
            " --- \n"
          ]
        },
        {
          "output_type": "display_data",
          "data": {
            "text/plain": [
              "<IPython.core.display.HTML object>"
            ],
            "text/html": [
              "\n",
              "            <div class=\"spinner-container\">\n",
              "                <div class=\"spinner\" id=\"9f113e9e-88c0-48e3-9c1c-a7d0ea9c1040-circle\"></div>\n",
              "                <div class=\"spinner-text\" id=\"9f113e9e-88c0-48e3-9c1c-a7d0ea9c1040-text\">Initializing Chromedriver</div>\n",
              "            </div>\n",
              "            <style>\n",
              "                @keyframes spin {\n",
              "                    from { transform: rotate(0deg); }\n",
              "                    to { transform: rotate(360deg); }\n",
              "                }\n",
              "\n",
              "                .spinner-container {\n",
              "                    display: flex;\n",
              "                    align-items: center;\n",
              "                    margin-bottom: 3px;\n",
              "                }\n",
              "\n",
              "                .spinner {\n",
              "                    border: 3px solid rgba(0, 0, 0, 0.1);\n",
              "                    border-left-color: lightblue;\n",
              "                    border-radius: 50%;\n",
              "                    width: 12px;\n",
              "                    height: 12px;\n",
              "                    animation: spin 1s linear infinite;\n",
              "                }\n",
              "\n",
              "                .spinner-text {\n",
              "                    padding-left: 6px;\n",
              "                }\n",
              "            </style>\n",
              "        "
            ]
          },
          "metadata": {}
        },
        {
          "output_type": "display_data",
          "data": {
            "text/plain": [
              "<IPython.core.display.Javascript object>"
            ],
            "application/javascript": [
              "\n",
              "            const element = document.getElementById(\"9f113e9e-88c0-48e3-9c1c-a7d0ea9c1040-circle\");\n",
              "            element.style.border = \"3px solid limegreen\";\n",
              "            element.style.animation = \"none\";\n",
              "\n",
              "            const text = document.getElementById(\"9f113e9e-88c0-48e3-9c1c-a7d0ea9c1040-text\");\n",
              "            text.innerText = \"Initialized Chromedriver\";\n",
              "        "
            ]
          },
          "metadata": {}
        },
        {
          "output_type": "stream",
          "name": "stdout",
          "text": [
            "Found 10 image(s):\n",
            "https://platform.theverge.com/wp-content/uploads/sites/2/2025/01/STKB320_DEEPSEEK_AI_CVIRGINIA_B.jpg?quality=90&strip=all&crop=0%2C0%2C100%2C100&w=2400\n",
            "https://platform.theverge.com/wp-content/uploads/sites/2/2025/01/VST_0131_Site.jpg?quality=90&strip=all&crop=0%2C0%2C100%2C100&w=2400\n",
            "https://platform.theverge.com/wp-content/uploads/sites/2/2025/01/247141_NOTEPAD_DEEPSEEK_AI_MICROSOFT_CVIRGINIA-1.jpg?quality=90&strip=all&crop=0%2C0%2C100%2C100&w=2400\n",
            "https://platform.theverge.com/wp-content/uploads/sites/2/2025/01/DCD_013024_v1.jpg?quality=90&strip=all&crop=0%2C0%2C100%2C100&w=2400\n",
            "https://platform.theverge.com/wp-content/uploads/sites/2/chorus/uploads/chorus_asset/file/25546251/STK169_Mark_Zuckerburg_CVIRGINIA_C.jpg?quality=90&strip=all&crop=0%2C0%2C100%2C100&w=2400\n",
            "https://platform.theverge.com/wp-content/uploads/sites/2/2025/01/STKB320_DEEPSEEK_AI_CVIRGINIA_D.jpg?quality=90&strip=all&crop=0%2C0%2C100%2C100&w=2400\n",
            "https://platform.theverge.com/wp-content/uploads/sites/2/2025/01/257533_deepseek_bfd_CVirginia_2_D_9f26e7.jpg?quality=90&strip=all&crop=0%2C0%2C100%2C100&w=2400\n",
            "https://platform.theverge.com/wp-content/uploads/sites/2/chorus/uploads/chorus_asset/file/25849821/samaltman_openai_deepseek.jpg?quality=90&strip=all&crop=0%2C0%2C100%2C100&w=2400\n",
            "https://platform.theverge.com/wp-content/uploads/sites/2/chorus/uploads/chorus_asset/file/25762139/STKS488_TARIFFS_CVirginia_D.jpg?quality=90&strip=all&crop=0%2C0%2C100%2C100&w=2400\n",
            "https://platform.theverge.com/wp-content/uploads/sites/2/chorus/uploads/chorus_asset/file/25848993/Clipboard_01_27_2025_01.jpg?quality=90&strip=all&crop=0%2C0%2C100%2C100&w=2400\n",
            " --- \n"
          ]
        },
        {
          "output_type": "display_data",
          "data": {
            "text/plain": [
              "<IPython.core.display.HTML object>"
            ],
            "text/html": [
              "\n",
              "            <div class=\"spinner-container\">\n",
              "                <div class=\"spinner\" id=\"64c8577d-6f44-47e1-8fad-d5379c988f02-circle\"></div>\n",
              "                <div class=\"spinner-text\" id=\"64c8577d-6f44-47e1-8fad-d5379c988f02-text\">Initializing Chromedriver</div>\n",
              "            </div>\n",
              "            <style>\n",
              "                @keyframes spin {\n",
              "                    from { transform: rotate(0deg); }\n",
              "                    to { transform: rotate(360deg); }\n",
              "                }\n",
              "\n",
              "                .spinner-container {\n",
              "                    display: flex;\n",
              "                    align-items: center;\n",
              "                    margin-bottom: 3px;\n",
              "                }\n",
              "\n",
              "                .spinner {\n",
              "                    border: 3px solid rgba(0, 0, 0, 0.1);\n",
              "                    border-left-color: lightblue;\n",
              "                    border-radius: 50%;\n",
              "                    width: 12px;\n",
              "                    height: 12px;\n",
              "                    animation: spin 1s linear infinite;\n",
              "                }\n",
              "\n",
              "                .spinner-text {\n",
              "                    padding-left: 6px;\n",
              "                }\n",
              "            </style>\n",
              "        "
            ]
          },
          "metadata": {}
        },
        {
          "output_type": "display_data",
          "data": {
            "text/plain": [
              "<IPython.core.display.Javascript object>"
            ],
            "application/javascript": [
              "\n",
              "            const element = document.getElementById(\"64c8577d-6f44-47e1-8fad-d5379c988f02-circle\");\n",
              "            element.style.border = \"3px solid limegreen\";\n",
              "            element.style.animation = \"none\";\n",
              "\n",
              "            const text = document.getElementById(\"64c8577d-6f44-47e1-8fad-d5379c988f02-text\");\n",
              "            text.innerText = \"Initialized Chromedriver\";\n",
              "        "
            ]
          },
          "metadata": {}
        },
        {
          "output_type": "stream",
          "name": "stdout",
          "text": [
            "Found 0 image(s):\n",
            " --- \n"
          ]
        }
      ]
    },
    {
      "cell_type": "code",
      "source": [
        "# Test BeautifulSoup\n",
        "for url in test_urls:\n",
        "    images = get_images_bs(url)\n",
        "    print_found_imgs(images)"
      ],
      "metadata": {
        "colab": {
          "base_uri": "https://localhost:8080/"
        },
        "id": "cx9uDomS6fSN",
        "outputId": "c9430093-ca75-4de6-f56a-640e8aa4cd14"
      },
      "execution_count": 87,
      "outputs": [
        {
          "output_type": "stream",
          "name": "stdout",
          "text": [
            "Found 1 image(s):\n",
            "https://ichef.bbci.co.uk/news/480/cpsprodpb/3cb2/live/61ec64f0-dd4c-11ef-b20c-cf1b3bd7a488.jpg.webp\n",
            "Found 2 image(s):\n",
            "https://www.spectator.co.uk/wp-content/uploads/2025/03/cover-15032025-issue.jpg?w=358\n",
            "https://www.spectator.co.uk/wp-content/uploads/2025/03/iStock-1456167226.jpg?w=1365\n",
            "Found 10 image(s):\n",
            "https://platform.theverge.com/wp-content/uploads/sites/2/2025/01/STKB320_DEEPSEEK_AI_CVIRGINIA_B.jpg?quality=90&strip=all&crop=0%2C0%2C100%2C100&w=2400\n",
            "https://platform.theverge.com/wp-content/uploads/sites/2/2025/01/VST_0131_Site.jpg?quality=90&strip=all&crop=0%2C0%2C100%2C100&w=2400\n",
            "https://platform.theverge.com/wp-content/uploads/sites/2/2025/01/247141_NOTEPAD_DEEPSEEK_AI_MICROSOFT_CVIRGINIA-1.jpg?quality=90&strip=all&crop=0%2C0%2C100%2C100&w=2400\n",
            "https://platform.theverge.com/wp-content/uploads/sites/2/2025/01/DCD_013024_v1.jpg?quality=90&strip=all&crop=0%2C0%2C100%2C100&w=2400\n",
            "https://platform.theverge.com/wp-content/uploads/sites/2/chorus/uploads/chorus_asset/file/25546251/STK169_Mark_Zuckerburg_CVIRGINIA_C.jpg?quality=90&strip=all&crop=0%2C0%2C100%2C100&w=2400\n",
            "https://platform.theverge.com/wp-content/uploads/sites/2/2025/01/STKB320_DEEPSEEK_AI_CVIRGINIA_D.jpg?quality=90&strip=all&crop=0%2C0%2C100%2C100&w=2400\n",
            "https://platform.theverge.com/wp-content/uploads/sites/2/2025/01/257533_deepseek_bfd_CVirginia_2_D_9f26e7.jpg?quality=90&strip=all&crop=0%2C0%2C100%2C100&w=2400\n",
            "https://platform.theverge.com/wp-content/uploads/sites/2/chorus/uploads/chorus_asset/file/25849821/samaltman_openai_deepseek.jpg?quality=90&strip=all&crop=0%2C0%2C100%2C100&w=2400\n",
            "https://platform.theverge.com/wp-content/uploads/sites/2/chorus/uploads/chorus_asset/file/25762139/STKS488_TARIFFS_CVirginia_D.jpg?quality=90&strip=all&crop=0%2C0%2C100%2C100&w=2400\n",
            "https://platform.theverge.com/wp-content/uploads/sites/2/chorus/uploads/chorus_asset/file/25848993/Clipboard_01_27_2025_01.jpg?quality=90&strip=all&crop=0%2C0%2C100%2C100&w=2400\n",
            "Found 1 image(s):\n",
            "https://www.bu.edu/files/2022/08/resize-22-1553-MARCOMHEAD-161-3-500x500.jpg\n"
          ]
        }
      ]
    },
    {
      "cell_type": "markdown",
      "source": [
        "The only difference is that BS scraped a photo that which rendered size is smaller than minimum, but original size in html DOM is larger. In this case it's an avatar for the author, so it's not a photograph directly related to the contents of the article."
      ],
      "metadata": {
        "id": "VgUyqas5iBvJ"
      }
    },
    {
      "cell_type": "markdown",
      "source": [
        "\n",
        "---\n",
        "\n",
        "TEST 2\n",
        "\n",
        "\n",
        "---\n",
        "\n",
        "\n",
        "\n"
      ],
      "metadata": {
        "id": "F63wbKfefaao"
      }
    },
    {
      "cell_type": "code",
      "source": [
        "page_url_2 = \"https://wiadomosci.onet.pl/kraj/lukaszenko-na-kremlu-ujawnil-zamiary-putina-w-sprawie-usa-relacja-na-zywo/vj1vlcg?utm_campaign=cb\"\n",
        "page_url_3 = \"https://c.newsnow.co.uk/A/1265886131?-2645%3A2959%3Ann_topic_top\"\n",
        "page_url_4 = \"https://news.sky.com/story/politics-latest-live-starmer-speech-ukraine-zelenskyy-war-trump-welfare-cuts-tories-reform-12593360\"\n",
        "page_url_5 = \"https://www.bbc.com/news/live/cg70jylp32gt\"\n",
        "\n",
        "test_urls = [page_url_2, page_url_3, page_url_4, page_url_5]"
      ],
      "metadata": {
        "id": "IAyv4Cxh8hRw"
      },
      "execution_count": 89,
      "outputs": []
    },
    {
      "cell_type": "code",
      "source": [
        "def test(urls):\n",
        "  results = []\n",
        "\n",
        "  for url in test_urls:\n",
        "    row = {\"URL\": url}\n",
        "\n",
        "    # Test Selenium\n",
        "    start = time.time()\n",
        "    images_selenium = get_images_selenium(url)\n",
        "    elapsed_selenium = time.time() - start\n",
        "    row[\"Selenium Images Found\"] = len(images_selenium)\n",
        "    row[\"Selenium Time Taken (s)\"] = round(elapsed_selenium, 2)\n",
        "\n",
        "    # Test BeautifulSoup\n",
        "    start = time.time()\n",
        "    images_soup = get_images_bs(url)\n",
        "    elapsed_soup = time.time() - start\n",
        "    row[\"BeautifulSoup Images Found\"] = len(images_soup)\n",
        "    row[\"BeautifulSoup Time Taken (s)\"] = round(elapsed_soup, 2)\n",
        "\n",
        "    results.append(row)\n",
        "\n",
        "  return pd.DataFrame(results)\n",
        "\n",
        "\n",
        "df_comparison = test(test_urls)\n",
        "df_comparison"
      ],
      "metadata": {
        "colab": {
          "base_uri": "https://localhost:8080/",
          "height": 256
        },
        "id": "aEW1nnDn8uha",
        "outputId": "8cdbbed8-c7d3-46d0-eb90-1043a8005be2"
      },
      "execution_count": 90,
      "outputs": [
        {
          "output_type": "display_data",
          "data": {
            "text/plain": [
              "<IPython.core.display.HTML object>"
            ],
            "text/html": [
              "\n",
              "            <div class=\"spinner-container\">\n",
              "                <div class=\"spinner\" id=\"951c28e8-dc10-40f8-928b-7c8c5c606782-circle\"></div>\n",
              "                <div class=\"spinner-text\" id=\"951c28e8-dc10-40f8-928b-7c8c5c606782-text\">Initializing Chromedriver</div>\n",
              "            </div>\n",
              "            <style>\n",
              "                @keyframes spin {\n",
              "                    from { transform: rotate(0deg); }\n",
              "                    to { transform: rotate(360deg); }\n",
              "                }\n",
              "\n",
              "                .spinner-container {\n",
              "                    display: flex;\n",
              "                    align-items: center;\n",
              "                    margin-bottom: 3px;\n",
              "                }\n",
              "\n",
              "                .spinner {\n",
              "                    border: 3px solid rgba(0, 0, 0, 0.1);\n",
              "                    border-left-color: lightblue;\n",
              "                    border-radius: 50%;\n",
              "                    width: 12px;\n",
              "                    height: 12px;\n",
              "                    animation: spin 1s linear infinite;\n",
              "                }\n",
              "\n",
              "                .spinner-text {\n",
              "                    padding-left: 6px;\n",
              "                }\n",
              "            </style>\n",
              "        "
            ]
          },
          "metadata": {}
        },
        {
          "output_type": "display_data",
          "data": {
            "text/plain": [
              "<IPython.core.display.Javascript object>"
            ],
            "application/javascript": [
              "\n",
              "            const element = document.getElementById(\"951c28e8-dc10-40f8-928b-7c8c5c606782-circle\");\n",
              "            element.style.border = \"3px solid limegreen\";\n",
              "            element.style.animation = \"none\";\n",
              "\n",
              "            const text = document.getElementById(\"951c28e8-dc10-40f8-928b-7c8c5c606782-text\");\n",
              "            text.innerText = \"Initialized Chromedriver\";\n",
              "        "
            ]
          },
          "metadata": {}
        },
        {
          "output_type": "display_data",
          "data": {
            "text/plain": [
              "<IPython.core.display.HTML object>"
            ],
            "text/html": [
              "\n",
              "            <div class=\"spinner-container\">\n",
              "                <div class=\"spinner\" id=\"00f98539-f85f-4c41-9a8a-bee7a9bea336-circle\"></div>\n",
              "                <div class=\"spinner-text\" id=\"00f98539-f85f-4c41-9a8a-bee7a9bea336-text\">Initializing Chromedriver</div>\n",
              "            </div>\n",
              "            <style>\n",
              "                @keyframes spin {\n",
              "                    from { transform: rotate(0deg); }\n",
              "                    to { transform: rotate(360deg); }\n",
              "                }\n",
              "\n",
              "                .spinner-container {\n",
              "                    display: flex;\n",
              "                    align-items: center;\n",
              "                    margin-bottom: 3px;\n",
              "                }\n",
              "\n",
              "                .spinner {\n",
              "                    border: 3px solid rgba(0, 0, 0, 0.1);\n",
              "                    border-left-color: lightblue;\n",
              "                    border-radius: 50%;\n",
              "                    width: 12px;\n",
              "                    height: 12px;\n",
              "                    animation: spin 1s linear infinite;\n",
              "                }\n",
              "\n",
              "                .spinner-text {\n",
              "                    padding-left: 6px;\n",
              "                }\n",
              "            </style>\n",
              "        "
            ]
          },
          "metadata": {}
        },
        {
          "output_type": "display_data",
          "data": {
            "text/plain": [
              "<IPython.core.display.Javascript object>"
            ],
            "application/javascript": [
              "\n",
              "            const element = document.getElementById(\"00f98539-f85f-4c41-9a8a-bee7a9bea336-circle\");\n",
              "            element.style.border = \"3px solid limegreen\";\n",
              "            element.style.animation = \"none\";\n",
              "\n",
              "            const text = document.getElementById(\"00f98539-f85f-4c41-9a8a-bee7a9bea336-text\");\n",
              "            text.innerText = \"Initialized Chromedriver\";\n",
              "        "
            ]
          },
          "metadata": {}
        },
        {
          "output_type": "display_data",
          "data": {
            "text/plain": [
              "<IPython.core.display.HTML object>"
            ],
            "text/html": [
              "\n",
              "            <div class=\"spinner-container\">\n",
              "                <div class=\"spinner\" id=\"4e0f9217-d2ff-42c6-8eed-1fe75919646b-circle\"></div>\n",
              "                <div class=\"spinner-text\" id=\"4e0f9217-d2ff-42c6-8eed-1fe75919646b-text\">Initializing Chromedriver</div>\n",
              "            </div>\n",
              "            <style>\n",
              "                @keyframes spin {\n",
              "                    from { transform: rotate(0deg); }\n",
              "                    to { transform: rotate(360deg); }\n",
              "                }\n",
              "\n",
              "                .spinner-container {\n",
              "                    display: flex;\n",
              "                    align-items: center;\n",
              "                    margin-bottom: 3px;\n",
              "                }\n",
              "\n",
              "                .spinner {\n",
              "                    border: 3px solid rgba(0, 0, 0, 0.1);\n",
              "                    border-left-color: lightblue;\n",
              "                    border-radius: 50%;\n",
              "                    width: 12px;\n",
              "                    height: 12px;\n",
              "                    animation: spin 1s linear infinite;\n",
              "                }\n",
              "\n",
              "                .spinner-text {\n",
              "                    padding-left: 6px;\n",
              "                }\n",
              "            </style>\n",
              "        "
            ]
          },
          "metadata": {}
        },
        {
          "output_type": "display_data",
          "data": {
            "text/plain": [
              "<IPython.core.display.Javascript object>"
            ],
            "application/javascript": [
              "\n",
              "            const element = document.getElementById(\"4e0f9217-d2ff-42c6-8eed-1fe75919646b-circle\");\n",
              "            element.style.border = \"3px solid limegreen\";\n",
              "            element.style.animation = \"none\";\n",
              "\n",
              "            const text = document.getElementById(\"4e0f9217-d2ff-42c6-8eed-1fe75919646b-text\");\n",
              "            text.innerText = \"Initialized Chromedriver\";\n",
              "        "
            ]
          },
          "metadata": {}
        },
        {
          "output_type": "display_data",
          "data": {
            "text/plain": [
              "<IPython.core.display.HTML object>"
            ],
            "text/html": [
              "\n",
              "            <div class=\"spinner-container\">\n",
              "                <div class=\"spinner\" id=\"35c7578b-5f75-4469-bb45-810b5ba790e6-circle\"></div>\n",
              "                <div class=\"spinner-text\" id=\"35c7578b-5f75-4469-bb45-810b5ba790e6-text\">Initializing Chromedriver</div>\n",
              "            </div>\n",
              "            <style>\n",
              "                @keyframes spin {\n",
              "                    from { transform: rotate(0deg); }\n",
              "                    to { transform: rotate(360deg); }\n",
              "                }\n",
              "\n",
              "                .spinner-container {\n",
              "                    display: flex;\n",
              "                    align-items: center;\n",
              "                    margin-bottom: 3px;\n",
              "                }\n",
              "\n",
              "                .spinner {\n",
              "                    border: 3px solid rgba(0, 0, 0, 0.1);\n",
              "                    border-left-color: lightblue;\n",
              "                    border-radius: 50%;\n",
              "                    width: 12px;\n",
              "                    height: 12px;\n",
              "                    animation: spin 1s linear infinite;\n",
              "                }\n",
              "\n",
              "                .spinner-text {\n",
              "                    padding-left: 6px;\n",
              "                }\n",
              "            </style>\n",
              "        "
            ]
          },
          "metadata": {}
        },
        {
          "output_type": "display_data",
          "data": {
            "text/plain": [
              "<IPython.core.display.Javascript object>"
            ],
            "application/javascript": [
              "\n",
              "            const element = document.getElementById(\"35c7578b-5f75-4469-bb45-810b5ba790e6-circle\");\n",
              "            element.style.border = \"3px solid limegreen\";\n",
              "            element.style.animation = \"none\";\n",
              "\n",
              "            const text = document.getElementById(\"35c7578b-5f75-4469-bb45-810b5ba790e6-text\");\n",
              "            text.innerText = \"Initialized Chromedriver\";\n",
              "        "
            ]
          },
          "metadata": {}
        },
        {
          "output_type": "execute_result",
          "data": {
            "text/plain": [
              "                                                 URL  Selenium Images Found  \\\n",
              "0  https://wiadomosci.onet.pl/kraj/lukaszenko-na-...                      1   \n",
              "1  https://c.newsnow.co.uk/A/1265886131?-2645%3A2...                     12   \n",
              "2  https://news.sky.com/story/politics-latest-liv...                      9   \n",
              "3         https://www.bbc.com/news/live/cg70jylp32gt                     12   \n",
              "\n",
              "   Selenium Time Taken (s)  BeautifulSoup Images Found  \\\n",
              "0                     8.29                           1   \n",
              "1                     9.77                           0   \n",
              "2                     7.20                           0   \n",
              "3                    10.10                          14   \n",
              "\n",
              "   BeautifulSoup Time Taken (s)  \n",
              "0                          1.30  \n",
              "1                          0.30  \n",
              "2                          0.12  \n",
              "3                          0.26  "
            ],
            "text/html": [
              "\n",
              "  <div id=\"df-e8311518-a414-43b1-a1b8-fbd8d20d457d\" class=\"colab-df-container\">\n",
              "    <div>\n",
              "<style scoped>\n",
              "    .dataframe tbody tr th:only-of-type {\n",
              "        vertical-align: middle;\n",
              "    }\n",
              "\n",
              "    .dataframe tbody tr th {\n",
              "        vertical-align: top;\n",
              "    }\n",
              "\n",
              "    .dataframe thead th {\n",
              "        text-align: right;\n",
              "    }\n",
              "</style>\n",
              "<table border=\"1\" class=\"dataframe\">\n",
              "  <thead>\n",
              "    <tr style=\"text-align: right;\">\n",
              "      <th></th>\n",
              "      <th>URL</th>\n",
              "      <th>Selenium Images Found</th>\n",
              "      <th>Selenium Time Taken (s)</th>\n",
              "      <th>BeautifulSoup Images Found</th>\n",
              "      <th>BeautifulSoup Time Taken (s)</th>\n",
              "    </tr>\n",
              "  </thead>\n",
              "  <tbody>\n",
              "    <tr>\n",
              "      <th>0</th>\n",
              "      <td>https://wiadomosci.onet.pl/kraj/lukaszenko-na-...</td>\n",
              "      <td>1</td>\n",
              "      <td>8.29</td>\n",
              "      <td>1</td>\n",
              "      <td>1.30</td>\n",
              "    </tr>\n",
              "    <tr>\n",
              "      <th>1</th>\n",
              "      <td>https://c.newsnow.co.uk/A/1265886131?-2645%3A2...</td>\n",
              "      <td>12</td>\n",
              "      <td>9.77</td>\n",
              "      <td>0</td>\n",
              "      <td>0.30</td>\n",
              "    </tr>\n",
              "    <tr>\n",
              "      <th>2</th>\n",
              "      <td>https://news.sky.com/story/politics-latest-liv...</td>\n",
              "      <td>9</td>\n",
              "      <td>7.20</td>\n",
              "      <td>0</td>\n",
              "      <td>0.12</td>\n",
              "    </tr>\n",
              "    <tr>\n",
              "      <th>3</th>\n",
              "      <td>https://www.bbc.com/news/live/cg70jylp32gt</td>\n",
              "      <td>12</td>\n",
              "      <td>10.10</td>\n",
              "      <td>14</td>\n",
              "      <td>0.26</td>\n",
              "    </tr>\n",
              "  </tbody>\n",
              "</table>\n",
              "</div>\n",
              "    <div class=\"colab-df-buttons\">\n",
              "\n",
              "  <div class=\"colab-df-container\">\n",
              "    <button class=\"colab-df-convert\" onclick=\"convertToInteractive('df-e8311518-a414-43b1-a1b8-fbd8d20d457d')\"\n",
              "            title=\"Convert this dataframe to an interactive table.\"\n",
              "            style=\"display:none;\">\n",
              "\n",
              "  <svg xmlns=\"http://www.w3.org/2000/svg\" height=\"24px\" viewBox=\"0 -960 960 960\">\n",
              "    <path d=\"M120-120v-720h720v720H120Zm60-500h600v-160H180v160Zm220 220h160v-160H400v160Zm0 220h160v-160H400v160ZM180-400h160v-160H180v160Zm440 0h160v-160H620v160ZM180-180h160v-160H180v160Zm440 0h160v-160H620v160Z\"/>\n",
              "  </svg>\n",
              "    </button>\n",
              "\n",
              "  <style>\n",
              "    .colab-df-container {\n",
              "      display:flex;\n",
              "      gap: 12px;\n",
              "    }\n",
              "\n",
              "    .colab-df-convert {\n",
              "      background-color: #E8F0FE;\n",
              "      border: none;\n",
              "      border-radius: 50%;\n",
              "      cursor: pointer;\n",
              "      display: none;\n",
              "      fill: #1967D2;\n",
              "      height: 32px;\n",
              "      padding: 0 0 0 0;\n",
              "      width: 32px;\n",
              "    }\n",
              "\n",
              "    .colab-df-convert:hover {\n",
              "      background-color: #E2EBFA;\n",
              "      box-shadow: 0px 1px 2px rgba(60, 64, 67, 0.3), 0px 1px 3px 1px rgba(60, 64, 67, 0.15);\n",
              "      fill: #174EA6;\n",
              "    }\n",
              "\n",
              "    .colab-df-buttons div {\n",
              "      margin-bottom: 4px;\n",
              "    }\n",
              "\n",
              "    [theme=dark] .colab-df-convert {\n",
              "      background-color: #3B4455;\n",
              "      fill: #D2E3FC;\n",
              "    }\n",
              "\n",
              "    [theme=dark] .colab-df-convert:hover {\n",
              "      background-color: #434B5C;\n",
              "      box-shadow: 0px 1px 3px 1px rgba(0, 0, 0, 0.15);\n",
              "      filter: drop-shadow(0px 1px 2px rgba(0, 0, 0, 0.3));\n",
              "      fill: #FFFFFF;\n",
              "    }\n",
              "  </style>\n",
              "\n",
              "    <script>\n",
              "      const buttonEl =\n",
              "        document.querySelector('#df-e8311518-a414-43b1-a1b8-fbd8d20d457d button.colab-df-convert');\n",
              "      buttonEl.style.display =\n",
              "        google.colab.kernel.accessAllowed ? 'block' : 'none';\n",
              "\n",
              "      async function convertToInteractive(key) {\n",
              "        const element = document.querySelector('#df-e8311518-a414-43b1-a1b8-fbd8d20d457d');\n",
              "        const dataTable =\n",
              "          await google.colab.kernel.invokeFunction('convertToInteractive',\n",
              "                                                    [key], {});\n",
              "        if (!dataTable) return;\n",
              "\n",
              "        const docLinkHtml = 'Like what you see? Visit the ' +\n",
              "          '<a target=\"_blank\" href=https://colab.research.google.com/notebooks/data_table.ipynb>data table notebook</a>'\n",
              "          + ' to learn more about interactive tables.';\n",
              "        element.innerHTML = '';\n",
              "        dataTable['output_type'] = 'display_data';\n",
              "        await google.colab.output.renderOutput(dataTable, element);\n",
              "        const docLink = document.createElement('div');\n",
              "        docLink.innerHTML = docLinkHtml;\n",
              "        element.appendChild(docLink);\n",
              "      }\n",
              "    </script>\n",
              "  </div>\n",
              "\n",
              "\n",
              "<div id=\"df-7d8cfdc7-57a3-4f02-b26a-710013cb4e31\">\n",
              "  <button class=\"colab-df-quickchart\" onclick=\"quickchart('df-7d8cfdc7-57a3-4f02-b26a-710013cb4e31')\"\n",
              "            title=\"Suggest charts\"\n",
              "            style=\"display:none;\">\n",
              "\n",
              "<svg xmlns=\"http://www.w3.org/2000/svg\" height=\"24px\"viewBox=\"0 0 24 24\"\n",
              "     width=\"24px\">\n",
              "    <g>\n",
              "        <path d=\"M19 3H5c-1.1 0-2 .9-2 2v14c0 1.1.9 2 2 2h14c1.1 0 2-.9 2-2V5c0-1.1-.9-2-2-2zM9 17H7v-7h2v7zm4 0h-2V7h2v10zm4 0h-2v-4h2v4z\"/>\n",
              "    </g>\n",
              "</svg>\n",
              "  </button>\n",
              "\n",
              "<style>\n",
              "  .colab-df-quickchart {\n",
              "      --bg-color: #E8F0FE;\n",
              "      --fill-color: #1967D2;\n",
              "      --hover-bg-color: #E2EBFA;\n",
              "      --hover-fill-color: #174EA6;\n",
              "      --disabled-fill-color: #AAA;\n",
              "      --disabled-bg-color: #DDD;\n",
              "  }\n",
              "\n",
              "  [theme=dark] .colab-df-quickchart {\n",
              "      --bg-color: #3B4455;\n",
              "      --fill-color: #D2E3FC;\n",
              "      --hover-bg-color: #434B5C;\n",
              "      --hover-fill-color: #FFFFFF;\n",
              "      --disabled-bg-color: #3B4455;\n",
              "      --disabled-fill-color: #666;\n",
              "  }\n",
              "\n",
              "  .colab-df-quickchart {\n",
              "    background-color: var(--bg-color);\n",
              "    border: none;\n",
              "    border-radius: 50%;\n",
              "    cursor: pointer;\n",
              "    display: none;\n",
              "    fill: var(--fill-color);\n",
              "    height: 32px;\n",
              "    padding: 0;\n",
              "    width: 32px;\n",
              "  }\n",
              "\n",
              "  .colab-df-quickchart:hover {\n",
              "    background-color: var(--hover-bg-color);\n",
              "    box-shadow: 0 1px 2px rgba(60, 64, 67, 0.3), 0 1px 3px 1px rgba(60, 64, 67, 0.15);\n",
              "    fill: var(--button-hover-fill-color);\n",
              "  }\n",
              "\n",
              "  .colab-df-quickchart-complete:disabled,\n",
              "  .colab-df-quickchart-complete:disabled:hover {\n",
              "    background-color: var(--disabled-bg-color);\n",
              "    fill: var(--disabled-fill-color);\n",
              "    box-shadow: none;\n",
              "  }\n",
              "\n",
              "  .colab-df-spinner {\n",
              "    border: 2px solid var(--fill-color);\n",
              "    border-color: transparent;\n",
              "    border-bottom-color: var(--fill-color);\n",
              "    animation:\n",
              "      spin 1s steps(1) infinite;\n",
              "  }\n",
              "\n",
              "  @keyframes spin {\n",
              "    0% {\n",
              "      border-color: transparent;\n",
              "      border-bottom-color: var(--fill-color);\n",
              "      border-left-color: var(--fill-color);\n",
              "    }\n",
              "    20% {\n",
              "      border-color: transparent;\n",
              "      border-left-color: var(--fill-color);\n",
              "      border-top-color: var(--fill-color);\n",
              "    }\n",
              "    30% {\n",
              "      border-color: transparent;\n",
              "      border-left-color: var(--fill-color);\n",
              "      border-top-color: var(--fill-color);\n",
              "      border-right-color: var(--fill-color);\n",
              "    }\n",
              "    40% {\n",
              "      border-color: transparent;\n",
              "      border-right-color: var(--fill-color);\n",
              "      border-top-color: var(--fill-color);\n",
              "    }\n",
              "    60% {\n",
              "      border-color: transparent;\n",
              "      border-right-color: var(--fill-color);\n",
              "    }\n",
              "    80% {\n",
              "      border-color: transparent;\n",
              "      border-right-color: var(--fill-color);\n",
              "      border-bottom-color: var(--fill-color);\n",
              "    }\n",
              "    90% {\n",
              "      border-color: transparent;\n",
              "      border-bottom-color: var(--fill-color);\n",
              "    }\n",
              "  }\n",
              "</style>\n",
              "\n",
              "  <script>\n",
              "    async function quickchart(key) {\n",
              "      const quickchartButtonEl =\n",
              "        document.querySelector('#' + key + ' button');\n",
              "      quickchartButtonEl.disabled = true;  // To prevent multiple clicks.\n",
              "      quickchartButtonEl.classList.add('colab-df-spinner');\n",
              "      try {\n",
              "        const charts = await google.colab.kernel.invokeFunction(\n",
              "            'suggestCharts', [key], {});\n",
              "      } catch (error) {\n",
              "        console.error('Error during call to suggestCharts:', error);\n",
              "      }\n",
              "      quickchartButtonEl.classList.remove('colab-df-spinner');\n",
              "      quickchartButtonEl.classList.add('colab-df-quickchart-complete');\n",
              "    }\n",
              "    (() => {\n",
              "      let quickchartButtonEl =\n",
              "        document.querySelector('#df-7d8cfdc7-57a3-4f02-b26a-710013cb4e31 button');\n",
              "      quickchartButtonEl.style.display =\n",
              "        google.colab.kernel.accessAllowed ? 'block' : 'none';\n",
              "    })();\n",
              "  </script>\n",
              "</div>\n",
              "\n",
              "  <div id=\"id_6dd6b9bb-3bb5-4265-a4b3-cb178ba6dede\">\n",
              "    <style>\n",
              "      .colab-df-generate {\n",
              "        background-color: #E8F0FE;\n",
              "        border: none;\n",
              "        border-radius: 50%;\n",
              "        cursor: pointer;\n",
              "        display: none;\n",
              "        fill: #1967D2;\n",
              "        height: 32px;\n",
              "        padding: 0 0 0 0;\n",
              "        width: 32px;\n",
              "      }\n",
              "\n",
              "      .colab-df-generate:hover {\n",
              "        background-color: #E2EBFA;\n",
              "        box-shadow: 0px 1px 2px rgba(60, 64, 67, 0.3), 0px 1px 3px 1px rgba(60, 64, 67, 0.15);\n",
              "        fill: #174EA6;\n",
              "      }\n",
              "\n",
              "      [theme=dark] .colab-df-generate {\n",
              "        background-color: #3B4455;\n",
              "        fill: #D2E3FC;\n",
              "      }\n",
              "\n",
              "      [theme=dark] .colab-df-generate:hover {\n",
              "        background-color: #434B5C;\n",
              "        box-shadow: 0px 1px 3px 1px rgba(0, 0, 0, 0.15);\n",
              "        filter: drop-shadow(0px 1px 2px rgba(0, 0, 0, 0.3));\n",
              "        fill: #FFFFFF;\n",
              "      }\n",
              "    </style>\n",
              "    <button class=\"colab-df-generate\" onclick=\"generateWithVariable('df_comparison')\"\n",
              "            title=\"Generate code using this dataframe.\"\n",
              "            style=\"display:none;\">\n",
              "\n",
              "  <svg xmlns=\"http://www.w3.org/2000/svg\" height=\"24px\"viewBox=\"0 0 24 24\"\n",
              "       width=\"24px\">\n",
              "    <path d=\"M7,19H8.4L18.45,9,17,7.55,7,17.6ZM5,21V16.75L18.45,3.32a2,2,0,0,1,2.83,0l1.4,1.43a1.91,1.91,0,0,1,.58,1.4,1.91,1.91,0,0,1-.58,1.4L9.25,21ZM18.45,9,17,7.55Zm-12,3A5.31,5.31,0,0,0,4.9,8.1,5.31,5.31,0,0,0,1,6.5,5.31,5.31,0,0,0,4.9,4.9,5.31,5.31,0,0,0,6.5,1,5.31,5.31,0,0,0,8.1,4.9,5.31,5.31,0,0,0,12,6.5,5.46,5.46,0,0,0,6.5,12Z\"/>\n",
              "  </svg>\n",
              "    </button>\n",
              "    <script>\n",
              "      (() => {\n",
              "      const buttonEl =\n",
              "        document.querySelector('#id_6dd6b9bb-3bb5-4265-a4b3-cb178ba6dede button.colab-df-generate');\n",
              "      buttonEl.style.display =\n",
              "        google.colab.kernel.accessAllowed ? 'block' : 'none';\n",
              "\n",
              "      buttonEl.onclick = () => {\n",
              "        google.colab.notebook.generateWithVariable('df_comparison');\n",
              "      }\n",
              "      })();\n",
              "    </script>\n",
              "  </div>\n",
              "\n",
              "    </div>\n",
              "  </div>\n"
            ],
            "application/vnd.google.colaboratory.intrinsic+json": {
              "type": "dataframe",
              "variable_name": "df_comparison",
              "summary": "{\n  \"name\": \"df_comparison\",\n  \"rows\": 4,\n  \"fields\": [\n    {\n      \"column\": \"URL\",\n      \"properties\": {\n        \"dtype\": \"string\",\n        \"num_unique_values\": 4,\n        \"samples\": [\n          \"https://c.newsnow.co.uk/A/1265886131?-2645%3A2959%3Ann_topic_top\",\n          \"https://www.bbc.com/news/live/cg70jylp32gt\",\n          \"https://wiadomosci.onet.pl/kraj/lukaszenko-na-kremlu-ujawnil-zamiary-putina-w-sprawie-usa-relacja-na-zywo/vj1vlcg?utm_campaign=cb\"\n        ],\n        \"semantic_type\": \"\",\n        \"description\": \"\"\n      }\n    },\n    {\n      \"column\": \"Selenium Images Found\",\n      \"properties\": {\n        \"dtype\": \"number\",\n        \"std\": 5,\n        \"min\": 1,\n        \"max\": 12,\n        \"num_unique_values\": 3,\n        \"samples\": [\n          1,\n          12,\n          9\n        ],\n        \"semantic_type\": \"\",\n        \"description\": \"\"\n      }\n    },\n    {\n      \"column\": \"Selenium Time Taken (s)\",\n      \"properties\": {\n        \"dtype\": \"number\",\n        \"std\": 1.3471698729806372,\n        \"min\": 7.2,\n        \"max\": 10.1,\n        \"num_unique_values\": 4,\n        \"samples\": [\n          9.77,\n          10.1,\n          8.29\n        ],\n        \"semantic_type\": \"\",\n        \"description\": \"\"\n      }\n    },\n    {\n      \"column\": \"BeautifulSoup Images Found\",\n      \"properties\": {\n        \"dtype\": \"number\",\n        \"std\": 6,\n        \"min\": 0,\n        \"max\": 14,\n        \"num_unique_values\": 3,\n        \"samples\": [\n          1,\n          0,\n          14\n        ],\n        \"semantic_type\": \"\",\n        \"description\": \"\"\n      }\n    },\n    {\n      \"column\": \"BeautifulSoup Time Taken (s)\",\n      \"properties\": {\n        \"dtype\": \"number\",\n        \"std\": 0.5421869296346663,\n        \"min\": 0.12,\n        \"max\": 1.3,\n        \"num_unique_values\": 4,\n        \"samples\": [\n          0.3,\n          0.26,\n          1.3\n        ],\n        \"semantic_type\": \"\",\n        \"description\": \"\"\n      }\n    }\n  ]\n}"
            }
          },
          "metadata": {},
          "execution_count": 90
        }
      ]
    },
    {
      "cell_type": "code",
      "source": [
        "# Test Selenium\n",
        "for url in test_urls:\n",
        "    images = get_images_selenium(url)\n",
        "    print_found_imgs(images)\n",
        "    print(\" --- \")"
      ],
      "metadata": {
        "colab": {
          "base_uri": "https://localhost:8080/",
          "height": 847
        },
        "id": "dyGfwHp9fYce",
        "outputId": "09280e10-4003-42ba-da81-0b1e3b3aab34"
      },
      "execution_count": 92,
      "outputs": [
        {
          "output_type": "display_data",
          "data": {
            "text/plain": [
              "<IPython.core.display.HTML object>"
            ],
            "text/html": [
              "\n",
              "            <div class=\"spinner-container\">\n",
              "                <div class=\"spinner\" id=\"bd1a9f66-b6a4-4e1e-9e86-b8e004530f94-circle\"></div>\n",
              "                <div class=\"spinner-text\" id=\"bd1a9f66-b6a4-4e1e-9e86-b8e004530f94-text\">Initializing Chromedriver</div>\n",
              "            </div>\n",
              "            <style>\n",
              "                @keyframes spin {\n",
              "                    from { transform: rotate(0deg); }\n",
              "                    to { transform: rotate(360deg); }\n",
              "                }\n",
              "\n",
              "                .spinner-container {\n",
              "                    display: flex;\n",
              "                    align-items: center;\n",
              "                    margin-bottom: 3px;\n",
              "                }\n",
              "\n",
              "                .spinner {\n",
              "                    border: 3px solid rgba(0, 0, 0, 0.1);\n",
              "                    border-left-color: lightblue;\n",
              "                    border-radius: 50%;\n",
              "                    width: 12px;\n",
              "                    height: 12px;\n",
              "                    animation: spin 1s linear infinite;\n",
              "                }\n",
              "\n",
              "                .spinner-text {\n",
              "                    padding-left: 6px;\n",
              "                }\n",
              "            </style>\n",
              "        "
            ]
          },
          "metadata": {}
        },
        {
          "output_type": "display_data",
          "data": {
            "text/plain": [
              "<IPython.core.display.Javascript object>"
            ],
            "application/javascript": [
              "\n",
              "            const element = document.getElementById(\"bd1a9f66-b6a4-4e1e-9e86-b8e004530f94-circle\");\n",
              "            element.style.border = \"3px solid limegreen\";\n",
              "            element.style.animation = \"none\";\n",
              "\n",
              "            const text = document.getElementById(\"bd1a9f66-b6a4-4e1e-9e86-b8e004530f94-text\");\n",
              "            text.innerText = \"Initialized Chromedriver\";\n",
              "        "
            ]
          },
          "metadata": {}
        },
        {
          "output_type": "stream",
          "name": "stdout",
          "text": [
            "Found 1 image(s):\n",
            "https://ocdn.eu/pulscms-transforms/1/7VAk9kpTURBXy84ZjhkMjkwZGMyNTIyMDkwMGQyYjNjZjBiNDE5NzRlZC5qcGeTlQPMxM0BrM0GAM0DYJMFzQSwzQKkkwmmYTgzODE4Bt4AAaEwAQ/wolodymyr-zelenski.jpg\n",
            " --- \n"
          ]
        },
        {
          "output_type": "display_data",
          "data": {
            "text/plain": [
              "<IPython.core.display.HTML object>"
            ],
            "text/html": [
              "\n",
              "            <div class=\"spinner-container\">\n",
              "                <div class=\"spinner\" id=\"3ed07bfe-73eb-4f58-9df6-2c5b5e09c547-circle\"></div>\n",
              "                <div class=\"spinner-text\" id=\"3ed07bfe-73eb-4f58-9df6-2c5b5e09c547-text\">Initializing Chromedriver</div>\n",
              "            </div>\n",
              "            <style>\n",
              "                @keyframes spin {\n",
              "                    from { transform: rotate(0deg); }\n",
              "                    to { transform: rotate(360deg); }\n",
              "                }\n",
              "\n",
              "                .spinner-container {\n",
              "                    display: flex;\n",
              "                    align-items: center;\n",
              "                    margin-bottom: 3px;\n",
              "                }\n",
              "\n",
              "                .spinner {\n",
              "                    border: 3px solid rgba(0, 0, 0, 0.1);\n",
              "                    border-left-color: lightblue;\n",
              "                    border-radius: 50%;\n",
              "                    width: 12px;\n",
              "                    height: 12px;\n",
              "                    animation: spin 1s linear infinite;\n",
              "                }\n",
              "\n",
              "                .spinner-text {\n",
              "                    padding-left: 6px;\n",
              "                }\n",
              "            </style>\n",
              "        "
            ]
          },
          "metadata": {}
        },
        {
          "output_type": "display_data",
          "data": {
            "text/plain": [
              "<IPython.core.display.Javascript object>"
            ],
            "application/javascript": [
              "\n",
              "            const element = document.getElementById(\"3ed07bfe-73eb-4f58-9df6-2c5b5e09c547-circle\");\n",
              "            element.style.border = \"3px solid limegreen\";\n",
              "            element.style.animation = \"none\";\n",
              "\n",
              "            const text = document.getElementById(\"3ed07bfe-73eb-4f58-9df6-2c5b5e09c547-text\");\n",
              "            text.innerText = \"Initialized Chromedriver\";\n",
              "        "
            ]
          },
          "metadata": {}
        },
        {
          "output_type": "stream",
          "name": "stdout",
          "text": [
            "Found 12 image(s):\n",
            "https://img.wort.lu/public/luxemburg/dgqieg-itv-zur-europawahl-monica-semedo-focus-31922534.jpeg/alternates/SIXTEEN_NINE_1920/itv-zur-europawahl-monica-semedo-focus-31922534.jpeg\n",
            "https://img.wort.lu/public/luxemburg/c9cp3a-fernand-kartheiser-donald-trump-lettre.jpeg/alternates/SIXTEEN_NINE_1920/Fernand-Kartheiser-Donald-Trump-lettre.jpeg\n",
            "https://img.virgule.lu/public/luxembourg/o31pg8-tour-alcide-de-gasperi-1965-2025.jpg/alternates/SIXTEEN_NINE_1920/tour-alcide-de-gasperi-1965-2025.jpg\n",
            "https://img.luxtimes.lu/public/luxembourg/6jhqgy-th-26323415-20220607.jpg/alternates/SIXTEEN_NINE_1920/TH_26323415_20220607.jpg\n",
            "https://img.wort.lu/public/luxemburg/q3xtol-th-30254049-20231117.jpg/alternates/SIXTEEN_NINE_1920/TH_30254049_20231117.jpg\n",
            "https://img.luxtimes.lu/public/luxembourg/piy1lb-kirchberg-is-home-to-most-of-luxembourgs-eu-institutions-photo-pierre-matge/alternates/SIXTEEN_NINE_1920/Kirchberg%20is%20home%20to%20most%20of%20Luxembourgs%20EU%20institutions%20Photo%20Pierre%20Matg%C3%A9\n",
            "https://img.wort.lu/public/luxemburg/kxm0qe-lh-5573468-20150323.jpg/alternates/SIXTEEN_NINE_1920/LH_5573468_20150323.jpg\n",
            "https://img.wort.lu/public/luxemburg/m8e8u6-krieps-le-pen.jpg/alternates/SIXTEEN_NINE_1920/krieps%20le%20pen.jpg\n",
            "https://img.luxtimes.lu/public/luxembourg/ixzy4l-pexels-rdne-8230948-1.jpg/alternates/SIXTEEN_NINE_1920/pexels-rdne-8230948_1.jpg\n",
            "https://img.luxtimes.lu/public/luxembourg/b33wx8-spuerkeess-article-electric-car-header.png/alternates/SIXTEEN_NINE_1920/Spuerkeess_Article_Electric%20Car_Header.png\n",
            "https://img.luxtimes.lu/public/luxembourg/b2gn0r-shutterstock-2234146135.jpg/alternates/SIXTEEN_NINE_1920/shutterstock_2234146135.jpg\n",
            "https://img.wort.lu/public/luxemburg/l682ac-shutterstock-2465970681.jpg/alternates/SIXTEEN_NINE_1920/shutterstock_2465970681.jpg\n",
            " --- \n"
          ]
        },
        {
          "output_type": "display_data",
          "data": {
            "text/plain": [
              "<IPython.core.display.HTML object>"
            ],
            "text/html": [
              "\n",
              "            <div class=\"spinner-container\">\n",
              "                <div class=\"spinner\" id=\"dc282f46-62c5-4649-bfda-4372a5d4fcc1-circle\"></div>\n",
              "                <div class=\"spinner-text\" id=\"dc282f46-62c5-4649-bfda-4372a5d4fcc1-text\">Initializing Chromedriver</div>\n",
              "            </div>\n",
              "            <style>\n",
              "                @keyframes spin {\n",
              "                    from { transform: rotate(0deg); }\n",
              "                    to { transform: rotate(360deg); }\n",
              "                }\n",
              "\n",
              "                .spinner-container {\n",
              "                    display: flex;\n",
              "                    align-items: center;\n",
              "                    margin-bottom: 3px;\n",
              "                }\n",
              "\n",
              "                .spinner {\n",
              "                    border: 3px solid rgba(0, 0, 0, 0.1);\n",
              "                    border-left-color: lightblue;\n",
              "                    border-radius: 50%;\n",
              "                    width: 12px;\n",
              "                    height: 12px;\n",
              "                    animation: spin 1s linear infinite;\n",
              "                }\n",
              "\n",
              "                .spinner-text {\n",
              "                    padding-left: 6px;\n",
              "                }\n",
              "            </style>\n",
              "        "
            ]
          },
          "metadata": {}
        },
        {
          "output_type": "display_data",
          "data": {
            "text/plain": [
              "<IPython.core.display.Javascript object>"
            ],
            "application/javascript": [
              "\n",
              "            const element = document.getElementById(\"dc282f46-62c5-4649-bfda-4372a5d4fcc1-circle\");\n",
              "            element.style.border = \"3px solid limegreen\";\n",
              "            element.style.animation = \"none\";\n",
              "\n",
              "            const text = document.getElementById(\"dc282f46-62c5-4649-bfda-4372a5d4fcc1-text\");\n",
              "            text.innerText = \"Initialized Chromedriver\";\n",
              "        "
            ]
          },
          "metadata": {}
        },
        {
          "output_type": "stream",
          "name": "stdout",
          "text": [
            "Found 9 image(s):\n",
            "https://liveblog.digitalimages.sky/lc-images-sky/lcimg-cdeee651-6941-4577-915b-f03c06c1d24d.jpg\n",
            "https://liveblog.digitalimages.sky/lc-images-sky/lcimg-18ab2bf0-752f-46e0-a264-074061f2e7f8.jpg\n",
            "https://liveblog.digitalimages.sky/lc-images-sky/lcimg-aecb8d20-6a2b-4544-b950-f3ae715e9da2.jpg\n",
            "https://liveblog.digitalimages.sky/lc-images-sky/lcimg-b77869ee-46d2-402e-b5b0-2c57a199db65.jpeg\n",
            "https://liveblog.digitalimages.sky/lc-images-sky/lcimg-7066197a-aa91-49b4-8d79-fbdceeb91e80.jpg\n",
            "https://liveblog.digitalimages.sky/lc-images-sky/lcimg-60a11157-3576-4b7f-b61d-ab906953ecfb.jpeg\n",
            "https://liveblog.digitalimages.sky/lc-images-sky/lcimg-065e90e5-7418-4a5c-ab55-1187ec66b3bb.jpg\n",
            "https://liveblog.digitalimages.sky/lc-images-sky/lcimg-3c46d87f-eea0-4ed8-ad55-a7faf6ee6025.jpeg\n",
            "https://liveblog.digitalimages.sky/lc-images-sky/lcimg-a6da1bf3-f875-491f-a5b7-5979bb67a5d4.jpeg\n",
            " --- \n"
          ]
        },
        {
          "output_type": "display_data",
          "data": {
            "text/plain": [
              "<IPython.core.display.HTML object>"
            ],
            "text/html": [
              "\n",
              "            <div class=\"spinner-container\">\n",
              "                <div class=\"spinner\" id=\"579d5b7e-f70d-4667-a692-b09eaa3a66e0-circle\"></div>\n",
              "                <div class=\"spinner-text\" id=\"579d5b7e-f70d-4667-a692-b09eaa3a66e0-text\">Initializing Chromedriver</div>\n",
              "            </div>\n",
              "            <style>\n",
              "                @keyframes spin {\n",
              "                    from { transform: rotate(0deg); }\n",
              "                    to { transform: rotate(360deg); }\n",
              "                }\n",
              "\n",
              "                .spinner-container {\n",
              "                    display: flex;\n",
              "                    align-items: center;\n",
              "                    margin-bottom: 3px;\n",
              "                }\n",
              "\n",
              "                .spinner {\n",
              "                    border: 3px solid rgba(0, 0, 0, 0.1);\n",
              "                    border-left-color: lightblue;\n",
              "                    border-radius: 50%;\n",
              "                    width: 12px;\n",
              "                    height: 12px;\n",
              "                    animation: spin 1s linear infinite;\n",
              "                }\n",
              "\n",
              "                .spinner-text {\n",
              "                    padding-left: 6px;\n",
              "                }\n",
              "            </style>\n",
              "        "
            ]
          },
          "metadata": {}
        },
        {
          "output_type": "display_data",
          "data": {
            "text/plain": [
              "<IPython.core.display.Javascript object>"
            ],
            "application/javascript": [
              "\n",
              "            const element = document.getElementById(\"579d5b7e-f70d-4667-a692-b09eaa3a66e0-circle\");\n",
              "            element.style.border = \"3px solid limegreen\";\n",
              "            element.style.animation = \"none\";\n",
              "\n",
              "            const text = document.getElementById(\"579d5b7e-f70d-4667-a692-b09eaa3a66e0-text\");\n",
              "            text.innerText = \"Initialized Chromedriver\";\n",
              "        "
            ]
          },
          "metadata": {}
        },
        {
          "output_type": "stream",
          "name": "stdout",
          "text": [
            "Found 12 image(s):\n",
            "https://ichef.bbci.co.uk/ace/standard/1024/cpsprodpb/04a6/live/ac7b8e00-fc01-11ef-896e-d7e7fb1719a4.jpg\n",
            "https://ichef.bbci.co.uk/ace/standard/640/cpsprodpb/vivo/live/images/2025/3/8/436c2105-59ed-434e-8551-bee3f52bcba4.jpg.webp\n",
            "https://ichef.bbci.co.uk/ace/standard/640/cpsprodpb/vivo/live/images/2025/3/8/acba735e-4465-4111-bc0c-1e1f3d4c2045.jpg.webp\n",
            "https://ichef.bbci.co.uk/ace/standard/640/cpsprodpb/vivo/live/images/2025/3/8/022049d6-3042-41f0-a019-237d6afeff36.jpg.webp\n",
            "https://ichef.bbci.co.uk/ace/standard/640/cpsprodpb/vivo/live/images/2025/3/8/a4ab30fa-fbb2-4113-8f26-dc1afc7d2a6c.jpg.webp\n",
            "https://ichef.bbci.co.uk/ace/standard/640/cpsprodpb/vivo/live/images/2025/3/8/89c70375-0afa-4e88-b3aa-e179f926989f.jpg.webp\n",
            "https://ichef.bbci.co.uk/ace/standard/640/cpsprodpb/vivo/live/images/2025/3/8/9a965970-a856-436d-9994-3b85b9ec88ff.jpg.webp\n",
            "https://ichef.bbci.co.uk/ace/standard/640/cpsprodpb/vivo/live/images/2025/3/8/85bc566d-e6bd-45e9-af66-42cacf1932cc.jpg.webp\n",
            "https://ichef.bbci.co.uk/ace/standard/640/cpsprodpb/vivo/live/images/2025/3/8/39fd55e1-2186-452a-918a-895a2b4352dd.jpg.webp\n",
            "https://ichef.bbci.co.uk/ace/standard/640/cpsprodpb/vivo/live/images/2025/3/8/bea38bb3-4101-460a-80e2-d05469f11ed2.jpg.webp\n",
            "https://ichef.bbci.co.uk/ace/standard/640/cpsprodpb/vivo/live/images/2025/3/8/c4583ad4-e713-46eb-85e6-1636e067e188.jpg.webp\n",
            "https://ichef.bbci.co.uk/ace/standard/640/cpsprodpb/vivo/live/images/2025/3/8/66d8772d-ab96-4148-9af4-a48ebfcd0af0.png.webp\n",
            " --- \n"
          ]
        }
      ]
    },
    {
      "cell_type": "code",
      "source": [
        "# Test BeautifulSoup\n",
        "for url in test_urls:\n",
        "    images = get_images_bs(url)\n",
        "    print_found_imgs(images)"
      ],
      "metadata": {
        "colab": {
          "base_uri": "https://localhost:8080/"
        },
        "id": "gGb6tGCxfgkt",
        "outputId": "e4999d55-876f-4039-b8da-59276915835d"
      },
      "execution_count": 93,
      "outputs": [
        {
          "output_type": "stream",
          "name": "stdout",
          "text": [
            "Found 1 image(s):\n",
            "https://ocdn.eu/pulscms-transforms/1/7VAk9kpTURBXy84ZjhkMjkwZGMyNTIyMDkwMGQyYjNjZjBiNDE5NzRlZC5qcGeTlQPMxM0BrM0GAM0DYJMFzQSwzQKkkwmmYTgzODE4Bt4AAaEwAQ/wolodymyr-zelenski.jpg\n",
            "Found 0 image(s):\n",
            "Found 0 image(s):\n",
            "Found 14 image(s):\n",
            "https://ichef.bbci.co.uk/ace/standard/1024/cpsprodpb/04a6/live/ac7b8e00-fc01-11ef-896e-d7e7fb1719a4.jpg\n",
            "https://ichef.bbci.co.uk/ace/standard/640/cpsprodpb/vivo/live/images/2025/3/8/436c2105-59ed-434e-8551-bee3f52bcba4.jpg.webp\n",
            "https://static.files.bbci.co.uk/core/website/assets/static/news/incident-types/bbc-verify.bac8ff232a.svg\n",
            "https://ichef.bbci.co.uk/ace/standard/640/cpsprodpb/vivo/live/images/2025/3/8/acba735e-4465-4111-bc0c-1e1f3d4c2045.jpg.webp\n",
            "https://ichef.bbci.co.uk/ace/standard/640/cpsprodpb/vivo/live/images/2025/3/8/022049d6-3042-41f0-a019-237d6afeff36.jpg.webp\n",
            "https://ichef.bbci.co.uk/ace/standard/640/cpsprodpb/vivo/live/images/2025/3/8/a4ab30fa-fbb2-4113-8f26-dc1afc7d2a6c.jpg.webp\n",
            "https://ichef.bbci.co.uk/ace/standard/640/cpsprodpb/vivo/live/images/2025/3/8/89c70375-0afa-4e88-b3aa-e179f926989f.jpg.webp\n",
            "https://static.files.bbci.co.uk/core/website/assets/static/news/incident-types/analysis.77b314ef10.svg\n",
            "https://ichef.bbci.co.uk/ace/standard/640/cpsprodpb/vivo/live/images/2025/3/8/9a965970-a856-436d-9994-3b85b9ec88ff.jpg.webp\n",
            "https://ichef.bbci.co.uk/ace/standard/640/cpsprodpb/vivo/live/images/2025/3/8/85bc566d-e6bd-45e9-af66-42cacf1932cc.jpg.webp\n",
            "https://ichef.bbci.co.uk/ace/standard/640/cpsprodpb/vivo/live/images/2025/3/8/39fd55e1-2186-452a-918a-895a2b4352dd.jpg.webp\n",
            "https://ichef.bbci.co.uk/ace/standard/640/cpsprodpb/vivo/live/images/2025/3/8/bea38bb3-4101-460a-80e2-d05469f11ed2.jpg.webp\n",
            "https://ichef.bbci.co.uk/ace/standard/640/cpsprodpb/vivo/live/images/2025/3/8/c4583ad4-e713-46eb-85e6-1636e067e188.jpg.webp\n",
            "https://ichef.bbci.co.uk/ace/standard/640/cpsprodpb/vivo/live/images/2025/3/8/66d8772d-ab96-4148-9af4-a48ebfcd0af0.png.webp\n"
          ]
        }
      ]
    },
    {
      "cell_type": "markdown",
      "source": [
        "\n",
        "\n",
        "---\n",
        "\n",
        "CONCLUSIONS:\n",
        "\n",
        "\n",
        "---\n",
        "\n",
        "BeutifulSoup is **significantly** faster, however, since it doesn't use JS rendering it can't scrape images from longer articles with lazy loading. Selenium not only let's us scrape more, but also can check the rendered size of an image which is very useful in differentiating thumbnails for other articles, or avatars etc. Ultimately, the choice is between speed and accuracy. Perhaps we should also consider:\n",
        "* limiting the number of scraped images to top X (e.g. first 5)\n",
        "* limiting the images to bigger sizes (sometimes thumbnails can be quite big, more than 300px even)\n",
        "\n",
        "\n",
        "\n",
        "Worth to note:\n",
        "* some websites block web scraping, for example: politico, x (former twitter)"
      ],
      "metadata": {
        "id": "qiHV9We1fhv9"
      }
    }
  ]
}