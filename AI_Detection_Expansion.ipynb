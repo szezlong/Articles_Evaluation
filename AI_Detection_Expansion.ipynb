{
  "nbformat": 4,
  "nbformat_minor": 0,
  "metadata": {
    "colab": {
      "provenance": [],
      "authorship_tag": "ABX9TyMdIoPdwk6rwZHAqF0DMAkI"
    },
    "kernelspec": {
      "name": "python3",
      "display_name": "Python 3"
    },
    "language_info": {
      "name": "python"
    }
  },
  "cells": [
    {
      "cell_type": "markdown",
      "source": [
        "# This is a web scraping demo, for:\n",
        "\n",
        "\n",
        "*   extracting all images from an article (url)\n",
        "*   filtering them (e.g. ignoring small icons, duplicates etc.)\n",
        "* testing bulk requests to the external Hive API\n",
        "* aggregating the results into a \"trustworthiness score\" for an article/ post etc.\n",
        "\n"
      ],
      "metadata": {
        "id": "gElV3zI_q4yg"
      }
    },
    {
      "cell_type": "markdown",
      "source": [
        "##Environment Config"
      ],
      "metadata": {
        "id": "-em3sZSOsFqJ"
      }
    },
    {
      "cell_type": "code",
      "source": [
        "!pip install -q selenium\n",
        "!pip install -q webdriver-manager\n",
        "!pip install -q google-colab-selenium"
      ],
      "metadata": {
        "id": "kMo3eoGqowtq",
        "colab": {
          "base_uri": "https://localhost:8080/"
        },
        "outputId": "3ba532e9-6211-4133-91b8-5577a01edea4"
      },
      "execution_count": 1,
      "outputs": [
        {
          "output_type": "stream",
          "name": "stdout",
          "text": [
            "\u001b[2K   \u001b[90m━━━━━━━━━━━━━━━━━━━━━━━━━━━━━━━━━━━━━━━━\u001b[0m \u001b[32m9.5/9.5 MB\u001b[0m \u001b[31m19.8 MB/s\u001b[0m eta \u001b[36m0:00:00\u001b[0m\n",
            "\u001b[2K   \u001b[90m━━━━━━━━━━━━━━━━━━━━━━━━━━━━━━━━━━━━━━━━\u001b[0m \u001b[32m492.9/492.9 kB\u001b[0m \u001b[31m18.0 MB/s\u001b[0m eta \u001b[36m0:00:00\u001b[0m\n",
            "\u001b[?25h"
          ]
        }
      ]
    },
    {
      "cell_type": "code",
      "source": [
        "import requests\n",
        "import re\n",
        "import time\n",
        "import google_colab_selenium as gcs\n",
        "\n",
        "from selenium import webdriver\n",
        "from selenium.webdriver.chrome.service import Service\n",
        "from selenium.webdriver.chrome.options import Options\n",
        "from selenium.webdriver.common.by import By\n",
        "from selenium.webdriver.common.keys import Keys\n",
        "from selenium.webdriver.support.ui import WebDriverWait\n",
        "from selenium.webdriver.support import expected_conditions as EC\n",
        "\n",
        "from bs4 import BeautifulSoup\n",
        "from urllib.parse import urljoin\n",
        "from webdriver_manager.chrome import ChromeDriverManager\n",
        "from concurrent.futures import ThreadPoolExecutor"
      ],
      "metadata": {
        "id": "NaNH8HUtsUgl"
      },
      "execution_count": 2,
      "outputs": []
    },
    {
      "cell_type": "code",
      "execution_count": 3,
      "metadata": {
        "id": "oVXRw0bnqsO5"
      },
      "outputs": [],
      "source": [
        "from google.colab import userdata\n",
        "API_KEY = userdata.get('API_KEY')"
      ]
    },
    {
      "cell_type": "markdown",
      "source": [
        "##Extract all images"
      ],
      "metadata": {
        "id": "KpDA2lySsVYH"
      }
    },
    {
      "cell_type": "markdown",
      "source": [
        "###basic version"
      ],
      "metadata": {
        "id": "D17MQGOW0B5n"
      }
    },
    {
      "cell_type": "code",
      "source": [
        "def get_images_from_page_basic(url):\n",
        "    headers = {\"User-Agent\": \"Mozilla/5.0\"}\n",
        "    response = requests.get(url, headers=headers)\n",
        "\n",
        "    if response.status_code != 200:\n",
        "        print(f\"Error: {response.status_code}\")\n",
        "        return []\n",
        "\n",
        "    soup = BeautifulSoup(response.text, \"html.parser\")\n",
        "\n",
        "    img_tags = soup.find_all(\"img\")\n",
        "\n",
        "    img_urls = [img.get(\"src\") for img in img_tags if img.get(\"src\")]\n",
        "    img_urls = [urljoin(url, img_url) for img_url in img_urls]\n",
        "\n",
        "    return img_urls"
      ],
      "metadata": {
        "id": "k24DROKjsX38"
      },
      "execution_count": 12,
      "outputs": []
    },
    {
      "cell_type": "code",
      "source": [
        "#page_url = \"https://www.politico.com/news/2025/03/11/trump-pardons-white-collar-defendant-interest-00219801\"\n",
        "page_url = \"https://www.bu.edu/articles/2025/does-chinas-deepseek-represent-a-new-frontier-in-ai/\"\n",
        "\n",
        "image_urls = get_images_from_page_basic(page_url)\n",
        "\n",
        "print(f\"Found {len(image_urls)} images:\")\n",
        "for img_url in image_urls:\n",
        "    print(img_url)"
      ],
      "metadata": {
        "colab": {
          "base_uri": "https://localhost:8080/"
        },
        "id": "EfSYF3dksd5s",
        "outputId": "d6da931e-5c79-49c2-bd96-7a13c01fc339"
      },
      "execution_count": 13,
      "outputs": [
        {
          "output_type": "stream",
          "name": "stdout",
          "text": [
            "Found 6 images:\n",
            "https://www.bu.edu/files/2025/02/deepseek-butoday_feat-crop.jpg\n",
            "https://www.bu.edu/files/2022/08/resize-22-1553-MARCOMHEAD-161-3-500x500.jpg\n",
            "https://secure.gravatar.com/avatar/4c5df37ceca4c17f8e763e49d4ea689e?s=150&d=mm&r=g\n",
            "https://secure.gravatar.com/avatar/4fea0a9368359cc8611acb0921f361b0?s=150&d=mm&r=g\n",
            "https://secure.gravatar.com/avatar/89d0948216fdd4952797c389d36c7b39?s=150&d=mm&r=g\n",
            "https://www.bu.edu/wp-content/plugins/bu-sharing/images/loading.gif\n"
          ]
        }
      ]
    },
    {
      "cell_type": "markdown",
      "source": [
        "###more advanced version"
      ],
      "metadata": {
        "id": "eJnIuErv0ETS"
      }
    },
    {
      "cell_type": "code",
      "source": [
        "def click_element(driver, xpath, timeout=3):\n",
        "  try:\n",
        "    element = WebDriverWait(driver, timeout).until(EC.element_to_be_clickable((By.XPATH, xpath)))\n",
        "    print(f\"Clicking {xpath}\")\n",
        "    element.click()\n",
        "    time.sleep(0.5)\n",
        "    return True\n",
        "  except Exception:\n",
        "    return False"
      ],
      "metadata": {
        "id": "n6TQGab0zA0I"
      },
      "execution_count": null,
      "outputs": []
    },
    {
      "cell_type": "markdown",
      "source": [
        "\n",
        "\n",
        "---\n",
        "\n"
      ],
      "metadata": {
        "id": "UcuUQi4NuZUI"
      }
    },
    {
      "cell_type": "code",
      "source": [
        "def set_options():\n",
        "  options = Options();\n",
        "  options.add_argument(\"--headless=new\")\n",
        "  options.add_argument(\"--no-sandbox\")\n",
        "  options.add_argument(\"--disable-dev-shm-usage\")\n",
        "  options.add_argument(\"--disable-blink-features=AutomationControlled\")\n",
        "  options.binary_location = \"/usr/bin/google-chrome\"\n",
        "  return options"
      ],
      "metadata": {
        "id": "Mf9DY-vlr2Hx"
      },
      "execution_count": 4,
      "outputs": []
    },
    {
      "cell_type": "code",
      "source": [
        "def scroll_page(driver):\n",
        "    last_height = driver.execute_script(\"return document.body.scrollHeight\")\n",
        "    while True:\n",
        "        driver.execute_script(\"window.scrollTo(0, document.body.scrollHeight);\")\n",
        "        time.sleep(2)\n",
        "        new_height = driver.execute_script(\"return document.body.scrollHeight\")\n",
        "        if new_height == last_height:\n",
        "            break\n",
        "        last_height = new_height"
      ],
      "metadata": {
        "id": "ihP7LQE_6KZk"
      },
      "execution_count": 5,
      "outputs": []
    },
    {
      "cell_type": "code",
      "source": [
        "def get_images_from_page(url):\n",
        "  options = set_options()\n",
        "  driver = gcs.Chrome(options=options)\n",
        "  driver.get(url)\n",
        "\n",
        "  print(\"waiting for doc loading\")\n",
        "  WebDriverWait(driver, 10).until(lambda d: d.execute_script(\"return document.readyState\") == \"complete\")\n",
        "\n",
        "  print(\"waiting for removing pop-ups\")\n",
        "  driver.execute_script(\"document.querySelectorAll('.popup-class').forEach(e => e.remove());\")\n",
        "\n",
        "  print(\"scrolling...\")\n",
        "  scroll_page(driver)\n",
        "\n",
        "  print(\"extracting Imgs\")\n",
        "  img_urls = driver.execute_script(\"\"\"\n",
        "    return Array.from(document.querySelectorAll('img'))\n",
        "        .map(img => {\n",
        "            let src = img.getAttribute('src');\n",
        "            let srcset = img.getAttribute('srcset');\n",
        "\n",
        "            let width = img.getAttribute('width');\n",
        "            let height = img.getAttribute('height');\n",
        "            let className = img.getAttribute('class') || \"\";\n",
        "            let alt = img.getAttribute('alt') || \"\";\n",
        "\n",
        "            if (!src || !src.startsWith('http')) {\n",
        "                if (srcset) {\n",
        "                    let srcsetUrls = srcset.split(',').map(s => s.trim().split(' ')[0]);\n",
        "                    src = srcsetUrls.find(url => url.startsWith('http')) || srcsetUrls[0];\n",
        "                }\n",
        "            }\n",
        "\n",
        "            let minSize = 100;\n",
        "            if ((width && width < minSize) || (height && height < minSize)) return null;\n",
        "            if (className.includes(\"avatar\") || className.includes(\"loading\") || className.includes(\"icon\")) return null;\n",
        "            if (alt.toLowerCase().includes(\"loading\")) return null;\n",
        "\n",
        "            return src;\n",
        "        })\n",
        "        .filter(src => src !== null && src.startsWith('http'));\n",
        "  \"\"\")\n",
        "\n",
        "\n",
        "  driver.quit()\n",
        "\n",
        "  return img_urls\n"
      ],
      "metadata": {
        "id": "gqjkiv0kp3qi"
      },
      "execution_count": 23,
      "outputs": []
    },
    {
      "cell_type": "markdown",
      "source": [
        "Filter rules:\n",
        "\n",
        "\n",
        "*   skip **small** images (less than 100)\n",
        "* skip classes/ alt containing: **avatar, loading, icon**\n",
        "\n"
      ],
      "metadata": {
        "id": "7xNhFxw-Attw"
      }
    },
    {
      "cell_type": "code",
      "source": [
        "\n",
        "def print_found_imgs(images):\n",
        "  print(f\"Found {len(images)} images:\")\n",
        "  for img in images:\n",
        "      print(img)"
      ],
      "metadata": {
        "id": "W7tZLXEArHrS"
      },
      "execution_count": 7,
      "outputs": []
    },
    {
      "cell_type": "code",
      "source": [
        "#page_url = \"https://www.politico.com/news/2025/03/11/trump-pardons-white-collar-defendant-interest-00219801\"\n",
        "page_url = \"https://www.bu.edu/articles/2025/does-chinas-deepseek-represent-a-new-frontier-in-ai/\"\n",
        "#page_url = \"https://www.bbc.com/news/articles/c5yv5976z9po\"\n",
        "#page_url = \"https://www.spectator.co.uk/article/is-this-new-chinese-ai-even-better-than-deepseek/\"\n",
        "#page_url = \"https://www.theverge.com/24353060/deepseek-ai-china-nvidia-openai\"\n",
        "\n",
        "images = get_images_from_page(page_url)\n",
        "\n",
        "print_found_imgs(images)"
      ],
      "metadata": {
        "colab": {
          "base_uri": "https://localhost:8080/",
          "height": 197
        },
        "id": "wpjwbjZ9rCU8",
        "outputId": "08b4c90d-7796-4056-e4d6-c27088682aa2"
      },
      "execution_count": 24,
      "outputs": [
        {
          "output_type": "display_data",
          "data": {
            "text/plain": [
              "<IPython.core.display.HTML object>"
            ],
            "text/html": [
              "\n",
              "            <div class=\"spinner-container\">\n",
              "                <div class=\"spinner\" id=\"e5ca6a40-a9e5-45aa-9feb-0baac9f40e93-circle\"></div>\n",
              "                <div class=\"spinner-text\" id=\"e5ca6a40-a9e5-45aa-9feb-0baac9f40e93-text\">Initializing Chromedriver</div>\n",
              "            </div>\n",
              "            <style>\n",
              "                @keyframes spin {\n",
              "                    from { transform: rotate(0deg); }\n",
              "                    to { transform: rotate(360deg); }\n",
              "                }\n",
              "\n",
              "                .spinner-container {\n",
              "                    display: flex;\n",
              "                    align-items: center;\n",
              "                    margin-bottom: 3px;\n",
              "                }\n",
              "\n",
              "                .spinner {\n",
              "                    border: 3px solid rgba(0, 0, 0, 0.1);\n",
              "                    border-left-color: lightblue;\n",
              "                    border-radius: 50%;\n",
              "                    width: 12px;\n",
              "                    height: 12px;\n",
              "                    animation: spin 1s linear infinite;\n",
              "                }\n",
              "\n",
              "                .spinner-text {\n",
              "                    padding-left: 6px;\n",
              "                }\n",
              "            </style>\n",
              "        "
            ]
          },
          "metadata": {}
        },
        {
          "output_type": "display_data",
          "data": {
            "text/plain": [
              "<IPython.core.display.Javascript object>"
            ],
            "application/javascript": [
              "\n",
              "            const element = document.getElementById(\"e5ca6a40-a9e5-45aa-9feb-0baac9f40e93-circle\");\n",
              "            element.style.border = \"3px solid limegreen\";\n",
              "            element.style.animation = \"none\";\n",
              "\n",
              "            const text = document.getElementById(\"e5ca6a40-a9e5-45aa-9feb-0baac9f40e93-text\");\n",
              "            text.innerText = \"Initialized Chromedriver\";\n",
              "        "
            ]
          },
          "metadata": {}
        },
        {
          "output_type": "stream",
          "name": "stdout",
          "text": [
            "waiting for doc loading\n",
            "waiting for removing pop-ups\n",
            "['<img width=\"2000\" height=\"1335\" src=\"/files/2025/02/deepseek-butoday_feat-crop.jpg\" class=\"\" alt=\"Photo: The logo of DeepSeek overlayed on a pixel background\" srcset=\"https://www.bu.edu/files/2025/02/deepseek-butoday_feat-crop.jpg 2000w, https://www.bu.edu/files/2025/02/deepseek-butoday_feat-crop-636x425.jpg 636w, https://www.bu.edu/files/2025/02/deepseek-butoday_feat-crop-1024x684.jpg 1024w, https://www.bu.edu/files/2025/02/deepseek-butoday_feat-crop-768x512.jpg 768w, https://www.bu.edu/files/2025/02/deepseek-butoday_feat-crop-1536x1025.jpg 1536w, https://www.bu.edu/files/2025/02/deepseek-butoday_feat-crop-1498x1000.jpg 1498w, https://www.bu.edu/files/2025/02/deepseek-butoday_feat-crop-900x601.jpg 900w, https://www.bu.edu/files/2025/02/deepseek-butoday_feat-crop-450x300.jpg 450w, https://www.bu.edu/files/2025/02/deepseek-butoday_feat-crop-600x401.jpg 600w, https://www.bu.edu/files/2025/02/deepseek-butoday_feat-crop-220x147.jpg 220w, https://www.bu.edu/files/2025/02/deepseek-butoday_feat-crop-180x120.jpg 180w\" sizes=\"(max-width: 2000px) 100vw, 2000px\">', '<img width=\"500\" height=\"500\" src=\"/files/2022/08/resize-22-1553-MARCOMHEAD-161-3-500x500.jpg\" class=\"attachment-bu_prepress_square size-bu_prepress_square wp-post-image\" alt=\"Photo: Headshot of Molly Callahan. A white woman with short, curly brown hair, wearing glasses and a blue sweater, smiles and poses in front of a dark grey backdrop.\" srcset=\"https://www.bu.edu/files/2022/08/resize-22-1553-MARCOMHEAD-161-3-500x500.jpg 500w, https://www.bu.edu/files/2022/08/resize-22-1553-MARCOMHEAD-161-3-636x636.jpg 636w, https://www.bu.edu/files/2022/08/resize-22-1553-MARCOMHEAD-161-3-1024x1024.jpg 1024w, https://www.bu.edu/files/2022/08/resize-22-1553-MARCOMHEAD-161-3-150x150.jpg 150w, https://www.bu.edu/files/2022/08/resize-22-1553-MARCOMHEAD-161-3-768x768.jpg 768w, https://www.bu.edu/files/2022/08/resize-22-1553-MARCOMHEAD-161-3-1000x1000.jpg 1000w, https://www.bu.edu/files/2022/08/resize-22-1553-MARCOMHEAD-161-3-1200x1200.jpg 1200w, https://www.bu.edu/files/2022/08/resize-22-1553-MARCOMHEAD-161-3-600x600.jpg 600w, https://www.bu.edu/files/2022/08/resize-22-1553-MARCOMHEAD-161-3-900x900.jpg 900w, https://www.bu.edu/files/2022/08/resize-22-1553-MARCOMHEAD-161-3-220x220.jpg 220w, https://www.bu.edu/files/2022/08/resize-22-1553-MARCOMHEAD-161-3-130x130.jpg 130w, https://www.bu.edu/files/2022/08/resize-22-1553-MARCOMHEAD-161-3-550x550.jpg 550w, https://www.bu.edu/files/2022/08/resize-22-1553-MARCOMHEAD-161-3-710x710.jpg 710w, https://www.bu.edu/files/2022/08/resize-22-1553-MARCOMHEAD-161-3-300x300.jpg 300w, https://www.bu.edu/files/2022/08/resize-22-1553-MARCOMHEAD-161-3-100x100.jpg 100w, https://www.bu.edu/files/2022/08/resize-22-1553-MARCOMHEAD-161-3.jpg 1500w\" sizes=\"(max-width: 500px) 100vw, 500px\">', '<img alt=\"\" src=\"https://secure.gravatar.com/avatar/4c5df37ceca4c17f8e763e49d4ea689e?s=150&amp;d=mm&amp;r=g\" srcset=\"https://secure.gravatar.com/avatar/4c5df37ceca4c17f8e763e49d4ea689e?s=300&amp;d=mm&amp;r=g 2x\" class=\"avatar avatar-150 photo\" height=\"150\" width=\"150\">', '<img alt=\"\" src=\"https://secure.gravatar.com/avatar/4fea0a9368359cc8611acb0921f361b0?s=150&amp;d=mm&amp;r=g\" srcset=\"https://secure.gravatar.com/avatar/4fea0a9368359cc8611acb0921f361b0?s=300&amp;d=mm&amp;r=g 2x\" class=\"avatar avatar-150 photo\" height=\"150\" width=\"150\">', '<img alt=\"\" src=\"https://secure.gravatar.com/avatar/89d0948216fdd4952797c389d36c7b39?s=150&amp;d=mm&amp;r=g\" srcset=\"https://secure.gravatar.com/avatar/89d0948216fdd4952797c389d36c7b39?s=300&amp;d=mm&amp;r=g 2x\" class=\"avatar avatar-150 photo\" height=\"150\" width=\"150\">', '<img style=\"float: right; display: none\" class=\"loading\" src=\"https://www.bu.edu/wp-content/plugins/bu-sharing/images/loading.gif\" alt=\"loading\" width=\"16\" height=\"16\">']\n",
            "scrolling...\n",
            "extracting Imgs\n",
            "Found 2 images:\n",
            "https://www.bu.edu/files/2025/02/deepseek-butoday_feat-crop.jpg\n",
            "https://www.bu.edu/files/2022/08/resize-22-1553-MARCOMHEAD-161-3-500x500.jpg\n"
          ]
        }
      ]
    }
  ]
}