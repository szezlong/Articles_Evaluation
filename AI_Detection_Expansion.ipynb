{
  "nbformat": 4,
  "nbformat_minor": 0,
  "metadata": {
    "colab": {
      "provenance": [],
      "authorship_tag": "ABX9TyMfhuYNljm2+y/ah3iJGWWR"
    },
    "kernelspec": {
      "name": "python3",
      "display_name": "Python 3"
    },
    "language_info": {
      "name": "python"
    }
  },
  "cells": [
    {
      "cell_type": "markdown",
      "source": [
        "# This is a web scraping demo, for:\n",
        "\n",
        "\n",
        "*   extracting all images from an article (url)\n",
        "*   filtering them (e.g. ignoring small icons, duplicates etc.)\n",
        "* testing bulk requests to the external Hive API\n",
        "* aggregating the results into a \"trustworthiness score\" for an article/ post etc.\n",
        "\n"
      ],
      "metadata": {
        "id": "gElV3zI_q4yg"
      }
    },
    {
      "cell_type": "markdown",
      "source": [
        "##Environment Config"
      ],
      "metadata": {
        "id": "-em3sZSOsFqJ"
      }
    },
    {
      "cell_type": "code",
      "source": [
        "!pip install -q selenium\n",
        "!pip install -q webdriver-manager\n",
        "!pip install -q google-colab-selenium"
      ],
      "metadata": {
        "id": "kMo3eoGqowtq",
        "colab": {
          "base_uri": "https://localhost:8080/"
        },
        "outputId": "3ba532e9-6211-4133-91b8-5577a01edea4"
      },
      "execution_count": 1,
      "outputs": [
        {
          "output_type": "stream",
          "name": "stdout",
          "text": [
            "\u001b[2K   \u001b[90m━━━━━━━━━━━━━━━━━━━━━━━━━━━━━━━━━━━━━━━━\u001b[0m \u001b[32m9.5/9.5 MB\u001b[0m \u001b[31m19.8 MB/s\u001b[0m eta \u001b[36m0:00:00\u001b[0m\n",
            "\u001b[2K   \u001b[90m━━━━━━━━━━━━━━━━━━━━━━━━━━━━━━━━━━━━━━━━\u001b[0m \u001b[32m492.9/492.9 kB\u001b[0m \u001b[31m18.0 MB/s\u001b[0m eta \u001b[36m0:00:00\u001b[0m\n",
            "\u001b[?25h"
          ]
        }
      ]
    },
    {
      "cell_type": "code",
      "source": [
        "import requests\n",
        "import re\n",
        "import time\n",
        "import google_colab_selenium as gcs\n",
        "\n",
        "from selenium import webdriver\n",
        "from selenium.webdriver.chrome.service import Service\n",
        "from selenium.webdriver.chrome.options import Options\n",
        "from selenium.webdriver.common.by import By\n",
        "from selenium.webdriver.common.keys import Keys\n",
        "from selenium.webdriver.support.ui import WebDriverWait\n",
        "from selenium.webdriver.support import expected_conditions as EC\n",
        "\n",
        "from bs4 import BeautifulSoup\n",
        "from urllib.parse import urljoin\n",
        "from webdriver_manager.chrome import ChromeDriverManager\n",
        "from concurrent.futures import ThreadPoolExecutor"
      ],
      "metadata": {
        "id": "NaNH8HUtsUgl"
      },
      "execution_count": 2,
      "outputs": []
    },
    {
      "cell_type": "code",
      "execution_count": 3,
      "metadata": {
        "id": "oVXRw0bnqsO5"
      },
      "outputs": [],
      "source": [
        "from google.colab import userdata\n",
        "API_KEY = userdata.get('API_KEY')"
      ]
    },
    {
      "cell_type": "markdown",
      "source": [
        "##Extract all images"
      ],
      "metadata": {
        "id": "KpDA2lySsVYH"
      }
    },
    {
      "cell_type": "markdown",
      "source": [
        "###basic version"
      ],
      "metadata": {
        "id": "D17MQGOW0B5n"
      }
    },
    {
      "cell_type": "code",
      "source": [
        "def get_images_from_page_basic(url):\n",
        "    headers = {\"User-Agent\": \"Mozilla/5.0\"}\n",
        "    response = requests.get(url, headers=headers)\n",
        "\n",
        "    if response.status_code != 200:\n",
        "        print(f\"Error: {response.status_code}\")\n",
        "        return []\n",
        "\n",
        "    soup = BeautifulSoup(response.text, \"html.parser\")\n",
        "\n",
        "    img_tags = soup.find_all(\"img\")\n",
        "\n",
        "    img_urls = [img.get(\"src\") for img in img_tags if img.get(\"src\")]\n",
        "    img_urls = [urljoin(url, img_url) for img_url in img_urls]\n",
        "\n",
        "    return img_urls"
      ],
      "metadata": {
        "id": "k24DROKjsX38"
      },
      "execution_count": 12,
      "outputs": []
    },
    {
      "cell_type": "code",
      "source": [
        "#page_url = \"https://www.politico.com/news/2025/03/11/trump-pardons-white-collar-defendant-interest-00219801\"\n",
        "page_url = \"https://www.theverge.com/24353060/deepseek-ai-china-nvidia-openai\"\n",
        "\n",
        "image_urls = get_images_from_page_basic(page_url)\n",
        "\n",
        "print(f\"Found {len(image_urls)} images:\")\n",
        "for img_url in image_urls:\n",
        "    print(img_url)"
      ],
      "metadata": {
        "colab": {
          "base_uri": "https://localhost:8080/"
        },
        "id": "EfSYF3dksd5s",
        "outputId": "21be2e4d-9c2e-4df7-ebaa-e4907f8367c9"
      },
      "execution_count": 28,
      "outputs": [
        {
          "output_type": "stream",
          "name": "stdout",
          "text": [
            "Found 52 images:\n",
            "https://www.google-analytics.com/g/collect?v=2&tid=G-C3QZPB4GVE&cid=555&en=noscript_page_view\n",
            "https://platform.theverge.com/wp-content/uploads/sites/2/chorus/author_profile_images/195810/EMMA_ROTH.0.jpg?quality=90&strip=all&crop=0%2C0%2C100%2C100&w=2400\n",
            "https://platform.theverge.com/wp-content/uploads/sites/2/chorus/author_profile_images/197794/dominic-preston.0.jpg?quality=90&strip=all&crop=0%2C0%2C100%2C100&w=2400\n",
            "https://platform.theverge.com/wp-content/uploads/sites/2/2025/01/0007835275_20.jpg?quality=90&strip=all&crop=0%2C0%2C100%2C100&w=2400\n",
            "https://platform.theverge.com/wp-content/uploads/sites/2/chorus/author_profile_images/197794/dominic-preston.0.jpg?quality=90&strip=all&crop=0%2C0%2C100%2C100&w=2400\n",
            "https://platform.theverge.com/wp-content/uploads/sites/2/chorus/author_profile_images/195819/JAY_PETERS.0.jpg?quality=90&strip=all&crop=0%2C0%2C100%2C100&w=2400\n",
            "https://platform.theverge.com/wp-content/uploads/sites/2/chorus/uploads/chorus_asset/file/25728971/STK083_NVIDIA_2_D.jpg?quality=90&strip=all&crop=0%2C0%2C100%2C100&w=2400\n",
            "https://platform.theverge.com/wp-content/uploads/sites/2/chorus/uploads/chorus_asset/file/25728971/STK083_NVIDIA_2_D.jpg?quality=90&strip=all&crop=0%2C0%2C100%2C100&w=2400\n",
            "https://platform.theverge.com/wp-content/uploads/sites/2/2025/01/247148_staff_portraits_2024_AKrales_JUSTINE_2787-1.jpg?quality=90&strip=all&crop=0%2C0%2C100%2C66.666666666667&w=2400\n",
            "https://platform.theverge.com/wp-content/uploads/sites/2/2025/01/STKB320_DEEPSEEK_AI_CVIRGINIA_B.jpg?quality=90&strip=all&crop=0%2C0%2C100%2C100&w=2400\n",
            "https://platform.theverge.com/wp-content/uploads/sites/2/2025/01/STKB320_DEEPSEEK_AI_CVIRGINIA_B.jpg?quality=90&strip=all&crop=0%2C0%2C100%2C100&w=2400\n",
            "https://platform.theverge.com/wp-content/uploads/sites/2/chorus/author_profile_images/195807/DAVID_PIERCE.0.jpg?quality=90&strip=all&crop=0%2C0%2C100%2C100&w=2400\n",
            "https://platform.theverge.com/wp-content/uploads/sites/2/2025/01/VST_0131_Site.jpg?quality=90&strip=all&crop=0%2C0%2C100%2C100&w=2400\n",
            "https://platform.theverge.com/wp-content/uploads/sites/2/2025/01/VST_0131_Site.jpg?quality=90&strip=all&crop=0%2C0%2C100%2C100&w=2400\n",
            "https://platform.theverge.com/wp-content/uploads/sites/2/chorus/author_profile_images/195809/ELIZABETH_LOPATTO.0.jpg?quality=90&strip=all&crop=0%2C0%2C100%2C100&w=2400\n",
            "https://platform.theverge.com/wp-content/uploads/sites/2/chorus/author_profile_images/195810/EMMA_ROTH.0.jpg?quality=90&strip=all&crop=0%2C0%2C100%2C100&w=2400\n",
            "https://platform.theverge.com/wp-content/uploads/sites/2/chorus/uploads/chorus_asset/file/25848982/STKB320_DEEPSEEK_AI_CVIRGINIA_A.jpg?quality=90&strip=all&crop=0%2C0%2C100%2C100&w=2400\n",
            "https://platform.theverge.com/wp-content/uploads/sites/2/chorus/uploads/chorus_asset/file/25848982/STKB320_DEEPSEEK_AI_CVIRGINIA_A.jpg?quality=90&strip=all&crop=0%2C0%2C100%2C100&w=2400\n",
            "https://platform.theverge.com/wp-content/uploads/sites/2/chorus/author_profile_images/197777/profilephoto.0.jpg?quality=90&strip=all&crop=0%2C0%2C100%2C100&w=2400\n",
            "https://platform.theverge.com/wp-content/uploads/sites/2/2025/01/247141_NOTEPAD_DEEPSEEK_AI_MICROSOFT_CVIRGINIA-1.jpg?quality=90&strip=all&crop=0%2C0%2C100%2C100&w=2400\n",
            "https://platform.theverge.com/wp-content/uploads/sites/2/2025/01/247141_NOTEPAD_DEEPSEEK_AI_MICROSOFT_CVIRGINIA-1.jpg?quality=90&strip=all&crop=0%2C0%2C100%2C100&w=2400\n",
            "https://platform.theverge.com/wp-content/uploads/sites/2/chorus/author_profile_images/195834/NILAY_PATEL.0.jpg?quality=90&strip=all&crop=0%2C0%2C100%2C100&w=2400\n",
            "https://platform.theverge.com/wp-content/uploads/sites/2/2025/01/DCD_013024_v1.jpg?quality=90&strip=all&crop=0%2C0%2C100%2C100&w=2400\n",
            "https://platform.theverge.com/wp-content/uploads/sites/2/2025/01/DCD_013024_v1.jpg?quality=90&strip=all&crop=0%2C0%2C100%2C100&w=2400\n",
            "https://platform.theverge.com/wp-content/uploads/sites/2/chorus/author_profile_images/196090/alex_heath_blurple_headshot_720.0.png?quality=90&strip=all&crop=0%2C0%2C100%2C100&w=2400\n",
            "https://platform.theverge.com/wp-content/uploads/sites/2/chorus/uploads/chorus_asset/file/25546251/STK169_Mark_Zuckerburg_CVIRGINIA_C.jpg?quality=90&strip=all&crop=0%2C0%2C100%2C100&w=2400\n",
            "https://platform.theverge.com/wp-content/uploads/sites/2/chorus/uploads/chorus_asset/file/25546251/STK169_Mark_Zuckerburg_CVIRGINIA_C.jpg?quality=90&strip=all&crop=0%2C0%2C100%2C100&w=2400\n",
            "https://platform.theverge.com/wp-content/uploads/sites/2/chorus/author_profile_images/195810/EMMA_ROTH.0.jpg?quality=90&strip=all&crop=0%2C0%2C100%2C100&w=2400\n",
            "https://platform.theverge.com/wp-content/uploads/sites/2/chorus/author_profile_images/197777/profilephoto.0.jpg?quality=90&strip=all&crop=0%2C0%2C100%2C100&w=2400\n",
            "https://platform.theverge.com/wp-content/uploads/sites/2/chorus/uploads/chorus_asset/file/25848984/STKB320_DEEPSEEK_AI_CVIRGINIA_C.jpg?quality=90&strip=all&crop=0%2C0%2C100%2C100&w=2400\n",
            "https://platform.theverge.com/wp-content/uploads/sites/2/chorus/uploads/chorus_asset/file/25848984/STKB320_DEEPSEEK_AI_CVIRGINIA_C.jpg?quality=90&strip=all&crop=0%2C0%2C100%2C100&w=2400\n",
            "https://platform.theverge.com/wp-content/uploads/sites/2/chorus/author_profile_images/195820/JESSICA_WEATHERBED.0.jpg?quality=90&strip=all&crop=0%2C0%2C100%2C100&w=2400\n",
            "https://platform.theverge.com/wp-content/uploads/sites/2/2025/01/STKB320_DEEPSEEK_AI_CVIRGINIA_D.jpg?quality=90&strip=all&crop=0%2C0%2C100%2C100&w=2400\n",
            "https://platform.theverge.com/wp-content/uploads/sites/2/2025/01/STKB320_DEEPSEEK_AI_CVIRGINIA_D.jpg?quality=90&strip=all&crop=0%2C0%2C100%2C100&w=2400\n",
            "https://platform.theverge.com/wp-content/uploads/sites/2/chorus/author_profile_images/197393/GMbiBVSaAAABxU1.0.jpeg?quality=90&strip=all&crop=0%2C0%2C100%2C100&w=2400\n",
            "https://platform.theverge.com/wp-content/uploads/sites/2/2025/01/257533_deepseek_bfd_CVirginia_2_D_9f26e7.jpg?quality=90&strip=all&crop=0%2C0%2C100%2C100&w=2400\n",
            "https://platform.theverge.com/wp-content/uploads/sites/2/2025/01/257533_deepseek_bfd_CVirginia_2_D_9f26e7.jpg?quality=90&strip=all&crop=0%2C0%2C100%2C100&w=2400\n",
            "https://platform.theverge.com/wp-content/uploads/sites/2/2025/01/0007835275_20.jpg?quality=90&strip=all&crop=0%2C0%2C100%2C100&w=2400\n",
            "https://platform.theverge.com/wp-content/uploads/sites/2/chorus/uploads/chorus_asset/file/25849821/samaltman_openai_deepseek.jpg?quality=90&strip=all&crop=0%2C0%2C100%2C100&w=2400\n",
            "https://platform.theverge.com/wp-content/uploads/sites/2/2025/01/0007835275_20.jpg?quality=90&strip=all&crop=0%2C0%2C100%2C100&w=2400\n",
            "https://platform.theverge.com/wp-content/uploads/sites/2/chorus/uploads/chorus_asset/file/25762139/STKS488_TARIFFS_CVirginia_D.jpg?quality=90&strip=all&crop=0%2C0%2C100%2C100&w=2400\n",
            "https://platform.theverge.com/wp-content/uploads/sites/2/chorus/uploads/chorus_asset/file/25762139/STKS488_TARIFFS_CVirginia_D.jpg?quality=90&strip=all&crop=0%2C0%2C100%2C100&w=2400\n",
            "https://platform.theverge.com/wp-content/uploads/sites/2/2025/01/0007835275_20.jpg?quality=90&strip=all&crop=0%2C0%2C100%2C100&w=2400\n",
            "https://platform.theverge.com/wp-content/uploads/sites/2/chorus/author_profile_images/195810/EMMA_ROTH.0.jpg?quality=90&strip=all&crop=0%2C0%2C100%2C100&w=2400\n",
            "https://platform.theverge.com/wp-content/uploads/sites/2/2025/01/0007835275_20.jpg?quality=90&strip=all&crop=0%2C0%2C100%2C100&w=2400\n",
            "https://platform.theverge.com/wp-content/uploads/sites/2/chorus/uploads/chorus_asset/file/25848993/Clipboard_01_27_2025_01.jpg?quality=90&strip=all&crop=0%2C0%2C100%2C100&w=2400\n",
            "https://platform.theverge.com/wp-content/uploads/sites/2/chorus/author_profile_images/195820/JESSICA_WEATHERBED.0.jpg?quality=90&strip=all&crop=0%2C0%2C100%2C100&w=2400\n",
            "https://platform.theverge.com/wp-content/uploads/sites/2/chorus/uploads/chorus_asset/file/25848982/STKB320_DEEPSEEK_AI_CVIRGINIA_A.jpg?quality=90&strip=all&crop=0%2C0%2C100%2C100&w=2400\n",
            "https://platform.theverge.com/wp-content/uploads/sites/2/chorus/uploads/chorus_asset/file/25848982/STKB320_DEEPSEEK_AI_CVIRGINIA_A.jpg?quality=90&strip=all&crop=0%2C0%2C100%2C100&w=2400\n",
            "https://platform.theverge.com/wp-content/uploads/sites/2/chorus/author_profile_images/195820/JESSICA_WEATHERBED.0.jpg?quality=90&strip=all&crop=0%2C0%2C100%2C100&w=2400\n",
            "https://platform.theverge.com/wp-content/uploads/sites/2/chorus/uploads/chorus_asset/file/25848982/STKB320_DEEPSEEK_AI_CVIRGINIA_A.jpg?quality=90&strip=all&crop=0%2C0%2C100%2C100&w=2400\n",
            "https://platform.theverge.com/wp-content/uploads/sites/2/chorus/uploads/chorus_asset/file/25848982/STKB320_DEEPSEEK_AI_CVIRGINIA_A.jpg?quality=90&strip=all&crop=0%2C0%2C100%2C100&w=2400\n"
          ]
        }
      ]
    },
    {
      "cell_type": "markdown",
      "source": [
        "###more advanced version"
      ],
      "metadata": {
        "id": "eJnIuErv0ETS"
      }
    },
    {
      "cell_type": "code",
      "source": [
        "def click_element(driver, xpath, timeout=3):\n",
        "  try:\n",
        "    element = WebDriverWait(driver, timeout).until(EC.element_to_be_clickable((By.XPATH, xpath)))\n",
        "    print(f\"Clicking {xpath}\")\n",
        "    element.click()\n",
        "    time.sleep(0.5)\n",
        "    return True\n",
        "  except Exception:\n",
        "    return False"
      ],
      "metadata": {
        "id": "n6TQGab0zA0I"
      },
      "execution_count": null,
      "outputs": []
    },
    {
      "cell_type": "markdown",
      "source": [
        "\n",
        "\n",
        "---\n",
        "\n"
      ],
      "metadata": {
        "id": "UcuUQi4NuZUI"
      }
    },
    {
      "cell_type": "code",
      "source": [
        "def set_options():\n",
        "  options = Options();\n",
        "  options.add_argument(\"--headless=new\")\n",
        "  options.add_argument(\"--no-sandbox\")\n",
        "  options.add_argument(\"--disable-dev-shm-usage\")\n",
        "  options.add_argument(\"--disable-blink-features=AutomationControlled\")\n",
        "  options.binary_location = \"/usr/bin/google-chrome\"\n",
        "  return options"
      ],
      "metadata": {
        "id": "Mf9DY-vlr2Hx"
      },
      "execution_count": 4,
      "outputs": []
    },
    {
      "cell_type": "code",
      "source": [
        "def scroll_page(driver):\n",
        "    last_height = driver.execute_script(\"return document.body.scrollHeight\")\n",
        "    while True:\n",
        "        driver.execute_script(\"window.scrollTo(0, document.body.scrollHeight);\")\n",
        "        time.sleep(2)\n",
        "        new_height = driver.execute_script(\"return document.body.scrollHeight\")\n",
        "        if new_height == last_height:\n",
        "            break\n",
        "        last_height = new_height"
      ],
      "metadata": {
        "id": "ihP7LQE_6KZk"
      },
      "execution_count": 5,
      "outputs": []
    },
    {
      "cell_type": "code",
      "source": [
        "def get_images_from_page(url):\n",
        "  options = set_options()\n",
        "  driver = gcs.Chrome(options=options)\n",
        "  driver.get(url)\n",
        "\n",
        "  print(\"waiting for doc loading\")\n",
        "  WebDriverWait(driver, 10).until(lambda d: d.execute_script(\"return document.readyState\") == \"complete\")\n",
        "\n",
        "  print(\"waiting for removing pop-ups\")\n",
        "  driver.execute_script(\"document.querySelectorAll('.popup-class').forEach(e => e.remove());\")\n",
        "\n",
        "  print(\"scrolling...\")\n",
        "  scroll_page(driver)\n",
        "\n",
        "  print(\"extracting Imgs\")\n",
        "  img_urls = driver.execute_script(\"\"\"\n",
        "    let imgSet = new Set();\n",
        "\n",
        "    Array.from(document.querySelectorAll('img'))\n",
        "        .map(img => {\n",
        "            let src = img.getAttribute('src');\n",
        "            let srcset = img.getAttribute('srcset');\n",
        "\n",
        "            let width = img.getAttribute('width');\n",
        "            let height = img.getAttribute('height');\n",
        "\n",
        "            let className = img.getAttribute('class') || \"\";\n",
        "            let alt = img.getAttribute('alt') || \"\";\n",
        "            let style = img.getAttribute('style') || \"\";\n",
        "\n",
        "            if (!src || !src.startsWith('http')) {\n",
        "                if (srcset) {\n",
        "                  let srcsetUrls = srcset.split(',')\n",
        "                    .map(s => s.trim().split(' ')[0])\n",
        "                    .filter(url => url && url.startsWith('http')); // Filter out undefined values\n",
        "                  src = srcsetUrls.length > 0 ? srcsetUrls[0] : null;\n",
        "                }\n",
        "            }\n",
        "            if (!src) return null;\n",
        "\n",
        "            let minSize = 100;\n",
        "            if ((width && width < minSize) || (height && height < minSize)) return null;\n",
        "\n",
        "            if (style.includes(\"display: none\") || style.includes(\"opacity: 0\")) return;\n",
        "\n",
        "            if (src.includes(\"avatar\")\n",
        "                    || src.includes(\"loading\")\n",
        "                    || src.includes(\"icon\")\n",
        "                    || src.includes(\"thumbnail\")\n",
        "                    || src.includes(\"logo\")\n",
        "                ) return null;\n",
        "            if (className.includes(\"avatar\")\n",
        "                    || className.includes(\"loading\")\n",
        "                    || className.includes(\"icon\")\n",
        "                    || className.includes(\"thumbnail\")\n",
        "                    || className.includes(\"logo\")\n",
        "                ) return null;\n",
        "            if (alt.toLowerCase().includes(\"avatar\")\n",
        "                    || alt.toLowerCase().includes(\"loading\")\n",
        "                    || alt.toLowerCase().includes(\"icon\")\n",
        "                    || alt.toLowerCase().includes(\"thumbnail\")\n",
        "                    || alt.toLowerCase().includes(\"logo\")\n",
        "                ) return null;\n",
        "\n",
        "            imgSet.add(src);\n",
        "        })\n",
        "\n",
        "        .filter(src => src !== null && src !== undefined && src.startsWith('http'));\n",
        "        return Array.from(imgSet);\n",
        "  \"\"\")\n",
        "\n",
        "\n",
        "  driver.quit()\n",
        "\n",
        "  return img_urls\n"
      ],
      "metadata": {
        "id": "gqjkiv0kp3qi"
      },
      "execution_count": 46,
      "outputs": []
    },
    {
      "cell_type": "markdown",
      "source": [
        "Filter rules:\n",
        "\n",
        "\n",
        "*   skip **small** images (less than 100)\n",
        "* skip classes/ alt containing: **avatar, loading, icon, thumbnail, logo**\n",
        "* skip **invisible** images\n",
        "\n"
      ],
      "metadata": {
        "id": "7xNhFxw-Attw"
      }
    },
    {
      "cell_type": "code",
      "source": [
        "\n",
        "def print_found_imgs(images):\n",
        "  print(f\"Found {len(images)} images:\")\n",
        "  for img in images:\n",
        "      print(img)"
      ],
      "metadata": {
        "id": "W7tZLXEArHrS"
      },
      "execution_count": 7,
      "outputs": []
    },
    {
      "cell_type": "code",
      "source": [
        "#page_url = \"https://www.politico.com/news/2025/03/11/trump-pardons-white-collar-defendant-interest-00219801\"\n",
        "#page_url = \"https://www.bu.edu/articles/2025/does-chinas-deepseek-represent-a-new-frontier-in-ai/\"\n",
        "#page_url = \"https://www.bbc.com/news/articles/c5yv5976z9po\"\n",
        "#page_url = \"https://www.spectator.co.uk/article/is-this-new-chinese-ai-even-better-than-deepseek/\"\n",
        "page_url = \"https://www.theverge.com/24353060/deepseek-ai-china-nvidia-openai\"\n",
        "\n",
        "images = get_images_from_page(page_url)\n",
        "\n",
        "print_found_imgs(images)"
      ],
      "metadata": {
        "colab": {
          "base_uri": "https://localhost:8080/",
          "height": 298
        },
        "id": "wpjwbjZ9rCU8",
        "outputId": "5208ce63-69b1-4b7f-f8b3-b2910404b1e7"
      },
      "execution_count": 47,
      "outputs": [
        {
          "output_type": "display_data",
          "data": {
            "text/plain": [
              "<IPython.core.display.HTML object>"
            ],
            "text/html": [
              "\n",
              "            <div class=\"spinner-container\">\n",
              "                <div class=\"spinner\" id=\"f296fde9-cb04-40d8-a496-a2c3383b6d84-circle\"></div>\n",
              "                <div class=\"spinner-text\" id=\"f296fde9-cb04-40d8-a496-a2c3383b6d84-text\">Initializing Chromedriver</div>\n",
              "            </div>\n",
              "            <style>\n",
              "                @keyframes spin {\n",
              "                    from { transform: rotate(0deg); }\n",
              "                    to { transform: rotate(360deg); }\n",
              "                }\n",
              "\n",
              "                .spinner-container {\n",
              "                    display: flex;\n",
              "                    align-items: center;\n",
              "                    margin-bottom: 3px;\n",
              "                }\n",
              "\n",
              "                .spinner {\n",
              "                    border: 3px solid rgba(0, 0, 0, 0.1);\n",
              "                    border-left-color: lightblue;\n",
              "                    border-radius: 50%;\n",
              "                    width: 12px;\n",
              "                    height: 12px;\n",
              "                    animation: spin 1s linear infinite;\n",
              "                }\n",
              "\n",
              "                .spinner-text {\n",
              "                    padding-left: 6px;\n",
              "                }\n",
              "            </style>\n",
              "        "
            ]
          },
          "metadata": {}
        },
        {
          "output_type": "display_data",
          "data": {
            "text/plain": [
              "<IPython.core.display.Javascript object>"
            ],
            "application/javascript": [
              "\n",
              "            const element = document.getElementById(\"f296fde9-cb04-40d8-a496-a2c3383b6d84-circle\");\n",
              "            element.style.border = \"3px solid limegreen\";\n",
              "            element.style.animation = \"none\";\n",
              "\n",
              "            const text = document.getElementById(\"f296fde9-cb04-40d8-a496-a2c3383b6d84-text\");\n",
              "            text.innerText = \"Initialized Chromedriver\";\n",
              "        "
            ]
          },
          "metadata": {}
        },
        {
          "output_type": "stream",
          "name": "stdout",
          "text": [
            "waiting for doc loading\n",
            "waiting for removing pop-ups\n",
            "scrolling...\n",
            "extracting Imgs\n",
            "Found 10 images:\n",
            "https://platform.theverge.com/wp-content/uploads/sites/2/2025/01/STKB320_DEEPSEEK_AI_CVIRGINIA_B.jpg?quality=90&strip=all&crop=0%2C0%2C100%2C100&w=2400\n",
            "https://platform.theverge.com/wp-content/uploads/sites/2/2025/01/VST_0131_Site.jpg?quality=90&strip=all&crop=0%2C0%2C100%2C100&w=2400\n",
            "https://platform.theverge.com/wp-content/uploads/sites/2/2025/01/247141_NOTEPAD_DEEPSEEK_AI_MICROSOFT_CVIRGINIA-1.jpg?quality=90&strip=all&crop=0%2C0%2C100%2C100&w=2400\n",
            "https://platform.theverge.com/wp-content/uploads/sites/2/2025/01/DCD_013024_v1.jpg?quality=90&strip=all&crop=0%2C0%2C100%2C100&w=2400\n",
            "https://platform.theverge.com/wp-content/uploads/sites/2/chorus/uploads/chorus_asset/file/25546251/STK169_Mark_Zuckerburg_CVIRGINIA_C.jpg?quality=90&strip=all&crop=0%2C0%2C100%2C100&w=2400\n",
            "https://platform.theverge.com/wp-content/uploads/sites/2/2025/01/STKB320_DEEPSEEK_AI_CVIRGINIA_D.jpg?quality=90&strip=all&crop=0%2C0%2C100%2C100&w=2400\n",
            "https://platform.theverge.com/wp-content/uploads/sites/2/2025/01/257533_deepseek_bfd_CVirginia_2_D_9f26e7.jpg?quality=90&strip=all&crop=0%2C0%2C100%2C100&w=2400\n",
            "https://platform.theverge.com/wp-content/uploads/sites/2/chorus/uploads/chorus_asset/file/25849821/samaltman_openai_deepseek.jpg?quality=90&strip=all&crop=0%2C0%2C100%2C100&w=2400\n",
            "https://platform.theverge.com/wp-content/uploads/sites/2/chorus/uploads/chorus_asset/file/25762139/STKS488_TARIFFS_CVirginia_D.jpg?quality=90&strip=all&crop=0%2C0%2C100%2C100&w=2400\n",
            "https://platform.theverge.com/wp-content/uploads/sites/2/chorus/uploads/chorus_asset/file/25848993/Clipboard_01_27_2025_01.jpg?quality=90&strip=all&crop=0%2C0%2C100%2C100&w=2400\n"
          ]
        }
      ]
    }
  ]
}