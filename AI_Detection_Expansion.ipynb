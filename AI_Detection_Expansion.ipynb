{
  "nbformat": 4,
  "nbformat_minor": 0,
  "metadata": {
    "colab": {
      "provenance": [],
      "authorship_tag": "ABX9TyMznZvA8VB+wJtgHDZFWAw8"
    },
    "kernelspec": {
      "name": "python3",
      "display_name": "Python 3"
    },
    "language_info": {
      "name": "python"
    }
  },
  "cells": [
    {
      "cell_type": "markdown",
      "source": [
        "# This is a web scraping demo, for:\n",
        "\n",
        "\n",
        "*   extracting all images from an article (url)\n",
        "*   filtering them (e.g. ignoring small icons, duplicates etc.)\n",
        "* testing bulk requests to the external Hive API\n",
        "* aggregating the results into a \"trustworthiness score\" for an article/ post etc.\n",
        "\n"
      ],
      "metadata": {
        "id": "gElV3zI_q4yg"
      }
    },
    {
      "cell_type": "markdown",
      "source": [
        "##Environment Config"
      ],
      "metadata": {
        "id": "-em3sZSOsFqJ"
      }
    },
    {
      "cell_type": "code",
      "source": [
        "!pip install -q selenium\n",
        "!pip install -q webdriver-manager\n",
        "!pip install -q google-colab-selenium"
      ],
      "metadata": {
        "id": "kMo3eoGqowtq",
        "colab": {
          "base_uri": "https://localhost:8080/"
        },
        "outputId": "3ba532e9-6211-4133-91b8-5577a01edea4"
      },
      "execution_count": 1,
      "outputs": [
        {
          "output_type": "stream",
          "name": "stdout",
          "text": [
            "\u001b[2K   \u001b[90m━━━━━━━━━━━━━━━━━━━━━━━━━━━━━━━━━━━━━━━━\u001b[0m \u001b[32m9.5/9.5 MB\u001b[0m \u001b[31m19.8 MB/s\u001b[0m eta \u001b[36m0:00:00\u001b[0m\n",
            "\u001b[2K   \u001b[90m━━━━━━━━━━━━━━━━━━━━━━━━━━━━━━━━━━━━━━━━\u001b[0m \u001b[32m492.9/492.9 kB\u001b[0m \u001b[31m18.0 MB/s\u001b[0m eta \u001b[36m0:00:00\u001b[0m\n",
            "\u001b[?25h"
          ]
        }
      ]
    },
    {
      "cell_type": "code",
      "source": [
        "import requests\n",
        "import re\n",
        "import time\n",
        "import google_colab_selenium as gcs\n",
        "\n",
        "from selenium import webdriver\n",
        "from selenium.webdriver.chrome.service import Service\n",
        "from selenium.webdriver.chrome.options import Options\n",
        "from selenium.webdriver.common.by import By\n",
        "from selenium.webdriver.common.keys import Keys\n",
        "from selenium.webdriver.support.ui import WebDriverWait\n",
        "from selenium.webdriver.support import expected_conditions as EC\n",
        "\n",
        "from bs4 import BeautifulSoup\n",
        "from urllib.parse import urljoin\n",
        "from webdriver_manager.chrome import ChromeDriverManager\n",
        "from concurrent.futures import ThreadPoolExecutor"
      ],
      "metadata": {
        "id": "NaNH8HUtsUgl"
      },
      "execution_count": 67,
      "outputs": []
    },
    {
      "cell_type": "code",
      "execution_count": 3,
      "metadata": {
        "id": "oVXRw0bnqsO5"
      },
      "outputs": [],
      "source": [
        "from google.colab import userdata\n",
        "API_KEY = userdata.get('API_KEY')"
      ]
    },
    {
      "cell_type": "markdown",
      "source": [
        "##Extract all images"
      ],
      "metadata": {
        "id": "KpDA2lySsVYH"
      }
    },
    {
      "cell_type": "markdown",
      "source": [
        "###basic version"
      ],
      "metadata": {
        "id": "D17MQGOW0B5n"
      }
    },
    {
      "cell_type": "code",
      "source": [
        "def get_images_from_page_basic(url):\n",
        "    headers = {\"User-Agent\": \"Mozilla/5.0\"}\n",
        "    response = requests.get(url, headers=headers)\n",
        "\n",
        "    if response.status_code != 200:\n",
        "        print(f\"Error: {response.status_code}\")\n",
        "        return []\n",
        "\n",
        "    soup = BeautifulSoup(response.text, \"html.parser\")\n",
        "\n",
        "    img_tags = soup.find_all(\"img\")\n",
        "\n",
        "    img_urls = [img.get(\"src\") for img in img_tags if img.get(\"src\")]\n",
        "    img_urls = [urljoin(url, img_url) for img_url in img_urls]\n",
        "\n",
        "    return img_urls"
      ],
      "metadata": {
        "id": "k24DROKjsX38"
      },
      "execution_count": 91,
      "outputs": []
    },
    {
      "cell_type": "code",
      "source": [
        "page_url_1 = \"https://www.bbc.com/news/articles/c5yv5976z9po\"\n",
        "page_url_2 = \"https://www.spectator.co.uk/article/is-this-new-chinese-ai-even-better-than-deepseek/\"\n",
        "page_url_3 = \"https://www.theverge.com/24353060/deepseek-ai-china-nvidia-openai\"\n",
        "page_url_4 = \"https://www.bu.edu/articles/2025/does-chinas-deepseek-represent-a-new-frontier-in-ai/\"\n",
        "\n",
        "test_urls = [page_url_1, page_url_2, page_url_3, page_url_4]\n",
        "\n",
        "for url in test_urls:\n",
        "  images = get_images_from_page_basic(url)\n",
        "  print_found_imgs(images)\n",
        "  print(\" --- \")"
      ],
      "metadata": {
        "colab": {
          "base_uri": "https://localhost:8080/"
        },
        "id": "HIoh3Ilfuo4b",
        "outputId": "8eca00c7-be09-4cee-ca9f-fbb7c1ab392a"
      },
      "execution_count": 92,
      "outputs": [
        {
          "output_type": "stream",
          "name": "stdout",
          "text": [
            "Found 2 images:\n",
            "https://www.bbc.com/bbcx/grey-placeholder.png\n",
            "https://ichef.bbci.co.uk/news/480/cpsprodpb/3cb2/live/61ec64f0-dd4c-11ef-b20c-cf1b3bd7a488.jpg.webp\n",
            " --- \n",
            "Found 15 images:\n",
            "https://www.spectator.co.uk/wp-content/uploads/2025/03/cover-15032025-issue.jpg?w=358\n",
            "https://www.spectator.co.uk/wp-content/uploads/2025/03/cover-15032025-issue.jpg?w=358\n",
            "https://www.spectator.co.uk/wp-content/uploads/2025/03/iStock-1456167226.jpg?w=1280\n",
            "https://www.spectator.co.uk/wp-content/uploads/2025/03/iStock-1456167226.jpg?w=1365\n",
            "https://src.spectator.co.uk/wp-content/uploads/2023/01/Newsletter-plane_-footer_1000w.jpg\n",
            "https://www.spectator.co.uk/wp-content/uploads/2025/03/iStock-1456167226.jpg?w=1365\n",
            "https://www.spectator.co.uk/wp-content/uploads/2025/03/GettyImages-1246845745-2.jpg?resize=378,213\n",
            "https://www.spectator.co.uk/wp-content/uploads/2025/03/POLCOL.png?resize=200,133\n",
            "https://www.spectator.co.uk/wp-content/uploads/2025/01/PA-78818805.jpg?resize=200,133\n",
            "https://www.spectator.co.uk/wp-content/uploads/2025/03/Sponsored-content-hero-with-overlay-benenden-march25.jpg?resize=378,252\n",
            "https://www.spectator.co.uk/wp-content/uploads/2025/03/PA-775238421.jpg?h=252px&crop=0,0,378px,252px\n",
            "https://www.spectator.co.uk/wp-content/uploads/2025/03/WLM_240617_Unit_02768RC.png?resize=378,252\n",
            "https://www.spectator.co.uk/wp-content/uploads/2025/03/PAulWoodInnocentsWeb.jpg?resize=378,252\n",
            "https://www.spectator.co.uk/wp-content/uploads/2025/03/Colin-Freeman-Getty.png?resize=378,252\n",
            "https://www.spectator.co.uk/wp-content/uploads/2025/03/iStock-1200872324.jpg?resize=378,252\n",
            " --- \n",
            "Found 52 images:\n",
            "https://www.google-analytics.com/g/collect?v=2&tid=G-C3QZPB4GVE&cid=555&en=noscript_page_view\n",
            "https://platform.theverge.com/wp-content/uploads/sites/2/chorus/author_profile_images/195810/EMMA_ROTH.0.jpg?quality=90&strip=all&crop=0%2C0%2C100%2C100&w=2400\n",
            "https://platform.theverge.com/wp-content/uploads/sites/2/chorus/author_profile_images/197794/dominic-preston.0.jpg?quality=90&strip=all&crop=0%2C0%2C100%2C100&w=2400\n",
            "https://platform.theverge.com/wp-content/uploads/sites/2/2025/01/0007835275_20.jpg?quality=90&strip=all&crop=0%2C0%2C100%2C100&w=2400\n",
            "https://platform.theverge.com/wp-content/uploads/sites/2/chorus/author_profile_images/197794/dominic-preston.0.jpg?quality=90&strip=all&crop=0%2C0%2C100%2C100&w=2400\n",
            "https://platform.theverge.com/wp-content/uploads/sites/2/chorus/author_profile_images/195819/JAY_PETERS.0.jpg?quality=90&strip=all&crop=0%2C0%2C100%2C100&w=2400\n",
            "https://platform.theverge.com/wp-content/uploads/sites/2/chorus/uploads/chorus_asset/file/25728971/STK083_NVIDIA_2_D.jpg?quality=90&strip=all&crop=0%2C0%2C100%2C100&w=2400\n",
            "https://platform.theverge.com/wp-content/uploads/sites/2/chorus/uploads/chorus_asset/file/25728971/STK083_NVIDIA_2_D.jpg?quality=90&strip=all&crop=0%2C0%2C100%2C100&w=2400\n",
            "https://platform.theverge.com/wp-content/uploads/sites/2/2025/01/247148_staff_portraits_2024_AKrales_JUSTINE_2787-1.jpg?quality=90&strip=all&crop=0%2C0%2C100%2C66.666666666667&w=2400\n",
            "https://platform.theverge.com/wp-content/uploads/sites/2/2025/01/STKB320_DEEPSEEK_AI_CVIRGINIA_B.jpg?quality=90&strip=all&crop=0%2C0%2C100%2C100&w=2400\n",
            "https://platform.theverge.com/wp-content/uploads/sites/2/2025/01/STKB320_DEEPSEEK_AI_CVIRGINIA_B.jpg?quality=90&strip=all&crop=0%2C0%2C100%2C100&w=2400\n",
            "https://platform.theverge.com/wp-content/uploads/sites/2/chorus/author_profile_images/195807/DAVID_PIERCE.0.jpg?quality=90&strip=all&crop=0%2C0%2C100%2C100&w=2400\n",
            "https://platform.theverge.com/wp-content/uploads/sites/2/2025/01/VST_0131_Site.jpg?quality=90&strip=all&crop=0%2C0%2C100%2C100&w=2400\n",
            "https://platform.theverge.com/wp-content/uploads/sites/2/2025/01/VST_0131_Site.jpg?quality=90&strip=all&crop=0%2C0%2C100%2C100&w=2400\n",
            "https://platform.theverge.com/wp-content/uploads/sites/2/chorus/author_profile_images/195809/ELIZABETH_LOPATTO.0.jpg?quality=90&strip=all&crop=0%2C0%2C100%2C100&w=2400\n",
            "https://platform.theverge.com/wp-content/uploads/sites/2/chorus/author_profile_images/195810/EMMA_ROTH.0.jpg?quality=90&strip=all&crop=0%2C0%2C100%2C100&w=2400\n",
            "https://platform.theverge.com/wp-content/uploads/sites/2/chorus/uploads/chorus_asset/file/25848982/STKB320_DEEPSEEK_AI_CVIRGINIA_A.jpg?quality=90&strip=all&crop=0%2C0%2C100%2C100&w=2400\n",
            "https://platform.theverge.com/wp-content/uploads/sites/2/chorus/uploads/chorus_asset/file/25848982/STKB320_DEEPSEEK_AI_CVIRGINIA_A.jpg?quality=90&strip=all&crop=0%2C0%2C100%2C100&w=2400\n",
            "https://platform.theverge.com/wp-content/uploads/sites/2/chorus/author_profile_images/197777/profilephoto.0.jpg?quality=90&strip=all&crop=0%2C0%2C100%2C100&w=2400\n",
            "https://platform.theverge.com/wp-content/uploads/sites/2/2025/01/247141_NOTEPAD_DEEPSEEK_AI_MICROSOFT_CVIRGINIA-1.jpg?quality=90&strip=all&crop=0%2C0%2C100%2C100&w=2400\n",
            "https://platform.theverge.com/wp-content/uploads/sites/2/2025/01/247141_NOTEPAD_DEEPSEEK_AI_MICROSOFT_CVIRGINIA-1.jpg?quality=90&strip=all&crop=0%2C0%2C100%2C100&w=2400\n",
            "https://platform.theverge.com/wp-content/uploads/sites/2/chorus/author_profile_images/195834/NILAY_PATEL.0.jpg?quality=90&strip=all&crop=0%2C0%2C100%2C100&w=2400\n",
            "https://platform.theverge.com/wp-content/uploads/sites/2/2025/01/DCD_013024_v1.jpg?quality=90&strip=all&crop=0%2C0%2C100%2C100&w=2400\n",
            "https://platform.theverge.com/wp-content/uploads/sites/2/2025/01/DCD_013024_v1.jpg?quality=90&strip=all&crop=0%2C0%2C100%2C100&w=2400\n",
            "https://platform.theverge.com/wp-content/uploads/sites/2/chorus/author_profile_images/196090/alex_heath_blurple_headshot_720.0.png?quality=90&strip=all&crop=0%2C0%2C100%2C100&w=2400\n",
            "https://platform.theverge.com/wp-content/uploads/sites/2/chorus/uploads/chorus_asset/file/25546251/STK169_Mark_Zuckerburg_CVIRGINIA_C.jpg?quality=90&strip=all&crop=0%2C0%2C100%2C100&w=2400\n",
            "https://platform.theverge.com/wp-content/uploads/sites/2/chorus/uploads/chorus_asset/file/25546251/STK169_Mark_Zuckerburg_CVIRGINIA_C.jpg?quality=90&strip=all&crop=0%2C0%2C100%2C100&w=2400\n",
            "https://platform.theverge.com/wp-content/uploads/sites/2/chorus/author_profile_images/195810/EMMA_ROTH.0.jpg?quality=90&strip=all&crop=0%2C0%2C100%2C100&w=2400\n",
            "https://platform.theverge.com/wp-content/uploads/sites/2/chorus/author_profile_images/197777/profilephoto.0.jpg?quality=90&strip=all&crop=0%2C0%2C100%2C100&w=2400\n",
            "https://platform.theverge.com/wp-content/uploads/sites/2/chorus/uploads/chorus_asset/file/25848984/STKB320_DEEPSEEK_AI_CVIRGINIA_C.jpg?quality=90&strip=all&crop=0%2C0%2C100%2C100&w=2400\n",
            "https://platform.theverge.com/wp-content/uploads/sites/2/chorus/uploads/chorus_asset/file/25848984/STKB320_DEEPSEEK_AI_CVIRGINIA_C.jpg?quality=90&strip=all&crop=0%2C0%2C100%2C100&w=2400\n",
            "https://platform.theverge.com/wp-content/uploads/sites/2/chorus/author_profile_images/195820/JESSICA_WEATHERBED.0.jpg?quality=90&strip=all&crop=0%2C0%2C100%2C100&w=2400\n",
            "https://platform.theverge.com/wp-content/uploads/sites/2/2025/01/STKB320_DEEPSEEK_AI_CVIRGINIA_D.jpg?quality=90&strip=all&crop=0%2C0%2C100%2C100&w=2400\n",
            "https://platform.theverge.com/wp-content/uploads/sites/2/2025/01/STKB320_DEEPSEEK_AI_CVIRGINIA_D.jpg?quality=90&strip=all&crop=0%2C0%2C100%2C100&w=2400\n",
            "https://platform.theverge.com/wp-content/uploads/sites/2/chorus/author_profile_images/197393/GMbiBVSaAAABxU1.0.jpeg?quality=90&strip=all&crop=0%2C0%2C100%2C100&w=2400\n",
            "https://platform.theverge.com/wp-content/uploads/sites/2/2025/01/257533_deepseek_bfd_CVirginia_2_D_9f26e7.jpg?quality=90&strip=all&crop=0%2C0%2C100%2C100&w=2400\n",
            "https://platform.theverge.com/wp-content/uploads/sites/2/2025/01/257533_deepseek_bfd_CVirginia_2_D_9f26e7.jpg?quality=90&strip=all&crop=0%2C0%2C100%2C100&w=2400\n",
            "https://platform.theverge.com/wp-content/uploads/sites/2/2025/01/0007835275_20.jpg?quality=90&strip=all&crop=0%2C0%2C100%2C100&w=2400\n",
            "https://platform.theverge.com/wp-content/uploads/sites/2/chorus/uploads/chorus_asset/file/25849821/samaltman_openai_deepseek.jpg?quality=90&strip=all&crop=0%2C0%2C100%2C100&w=2400\n",
            "https://platform.theverge.com/wp-content/uploads/sites/2/2025/01/0007835275_20.jpg?quality=90&strip=all&crop=0%2C0%2C100%2C100&w=2400\n",
            "https://platform.theverge.com/wp-content/uploads/sites/2/chorus/uploads/chorus_asset/file/25762139/STKS488_TARIFFS_CVirginia_D.jpg?quality=90&strip=all&crop=0%2C0%2C100%2C100&w=2400\n",
            "https://platform.theverge.com/wp-content/uploads/sites/2/chorus/uploads/chorus_asset/file/25762139/STKS488_TARIFFS_CVirginia_D.jpg?quality=90&strip=all&crop=0%2C0%2C100%2C100&w=2400\n",
            "https://platform.theverge.com/wp-content/uploads/sites/2/2025/01/0007835275_20.jpg?quality=90&strip=all&crop=0%2C0%2C100%2C100&w=2400\n",
            "https://platform.theverge.com/wp-content/uploads/sites/2/chorus/author_profile_images/195810/EMMA_ROTH.0.jpg?quality=90&strip=all&crop=0%2C0%2C100%2C100&w=2400\n",
            "https://platform.theverge.com/wp-content/uploads/sites/2/2025/01/0007835275_20.jpg?quality=90&strip=all&crop=0%2C0%2C100%2C100&w=2400\n",
            "https://platform.theverge.com/wp-content/uploads/sites/2/chorus/uploads/chorus_asset/file/25848993/Clipboard_01_27_2025_01.jpg?quality=90&strip=all&crop=0%2C0%2C100%2C100&w=2400\n",
            "https://platform.theverge.com/wp-content/uploads/sites/2/chorus/author_profile_images/195820/JESSICA_WEATHERBED.0.jpg?quality=90&strip=all&crop=0%2C0%2C100%2C100&w=2400\n",
            "https://platform.theverge.com/wp-content/uploads/sites/2/chorus/uploads/chorus_asset/file/25848982/STKB320_DEEPSEEK_AI_CVIRGINIA_A.jpg?quality=90&strip=all&crop=0%2C0%2C100%2C100&w=2400\n",
            "https://platform.theverge.com/wp-content/uploads/sites/2/chorus/uploads/chorus_asset/file/25848982/STKB320_DEEPSEEK_AI_CVIRGINIA_A.jpg?quality=90&strip=all&crop=0%2C0%2C100%2C100&w=2400\n",
            "https://platform.theverge.com/wp-content/uploads/sites/2/chorus/author_profile_images/195820/JESSICA_WEATHERBED.0.jpg?quality=90&strip=all&crop=0%2C0%2C100%2C100&w=2400\n",
            "https://platform.theverge.com/wp-content/uploads/sites/2/chorus/uploads/chorus_asset/file/25848982/STKB320_DEEPSEEK_AI_CVIRGINIA_A.jpg?quality=90&strip=all&crop=0%2C0%2C100%2C100&w=2400\n",
            "https://platform.theverge.com/wp-content/uploads/sites/2/chorus/uploads/chorus_asset/file/25848982/STKB320_DEEPSEEK_AI_CVIRGINIA_A.jpg?quality=90&strip=all&crop=0%2C0%2C100%2C100&w=2400\n",
            " --- \n",
            "Found 6 images:\n",
            "https://www.bu.edu/files/2025/02/deepseek-butoday_feat-crop.jpg\n",
            "https://www.bu.edu/files/2022/08/resize-22-1553-MARCOMHEAD-161-3-500x500.jpg\n",
            "https://secure.gravatar.com/avatar/4c5df37ceca4c17f8e763e49d4ea689e?s=150&d=mm&r=g\n",
            "https://secure.gravatar.com/avatar/4fea0a9368359cc8611acb0921f361b0?s=150&d=mm&r=g\n",
            "https://secure.gravatar.com/avatar/89d0948216fdd4952797c389d36c7b39?s=150&d=mm&r=g\n",
            "https://www.bu.edu/wp-content/plugins/bu-sharing/images/loading.gif\n",
            " --- \n"
          ]
        }
      ]
    },
    {
      "cell_type": "code",
      "source": [
        "page_url = \"https://www.theverge.com/24353060/deepseek-ai-china-nvidia-openai\"\n",
        "\n",
        "image_urls = get_images_from_page_basic(page_url)\n",
        "\n",
        "print(f\"Found {len(image_urls)} images:\")\n",
        "for img_url in image_urls:\n",
        "    print(img_url)"
      ],
      "metadata": {
        "colab": {
          "base_uri": "https://localhost:8080/"
        },
        "id": "EfSYF3dksd5s",
        "outputId": "21be2e4d-9c2e-4df7-ebaa-e4907f8367c9"
      },
      "execution_count": 28,
      "outputs": [
        {
          "output_type": "stream",
          "name": "stdout",
          "text": [
            "Found 52 images:\n",
            "https://www.google-analytics.com/g/collect?v=2&tid=G-C3QZPB4GVE&cid=555&en=noscript_page_view\n",
            "https://platform.theverge.com/wp-content/uploads/sites/2/chorus/author_profile_images/195810/EMMA_ROTH.0.jpg?quality=90&strip=all&crop=0%2C0%2C100%2C100&w=2400\n",
            "https://platform.theverge.com/wp-content/uploads/sites/2/chorus/author_profile_images/197794/dominic-preston.0.jpg?quality=90&strip=all&crop=0%2C0%2C100%2C100&w=2400\n",
            "https://platform.theverge.com/wp-content/uploads/sites/2/2025/01/0007835275_20.jpg?quality=90&strip=all&crop=0%2C0%2C100%2C100&w=2400\n",
            "https://platform.theverge.com/wp-content/uploads/sites/2/chorus/author_profile_images/197794/dominic-preston.0.jpg?quality=90&strip=all&crop=0%2C0%2C100%2C100&w=2400\n",
            "https://platform.theverge.com/wp-content/uploads/sites/2/chorus/author_profile_images/195819/JAY_PETERS.0.jpg?quality=90&strip=all&crop=0%2C0%2C100%2C100&w=2400\n",
            "https://platform.theverge.com/wp-content/uploads/sites/2/chorus/uploads/chorus_asset/file/25728971/STK083_NVIDIA_2_D.jpg?quality=90&strip=all&crop=0%2C0%2C100%2C100&w=2400\n",
            "https://platform.theverge.com/wp-content/uploads/sites/2/chorus/uploads/chorus_asset/file/25728971/STK083_NVIDIA_2_D.jpg?quality=90&strip=all&crop=0%2C0%2C100%2C100&w=2400\n",
            "https://platform.theverge.com/wp-content/uploads/sites/2/2025/01/247148_staff_portraits_2024_AKrales_JUSTINE_2787-1.jpg?quality=90&strip=all&crop=0%2C0%2C100%2C66.666666666667&w=2400\n",
            "https://platform.theverge.com/wp-content/uploads/sites/2/2025/01/STKB320_DEEPSEEK_AI_CVIRGINIA_B.jpg?quality=90&strip=all&crop=0%2C0%2C100%2C100&w=2400\n",
            "https://platform.theverge.com/wp-content/uploads/sites/2/2025/01/STKB320_DEEPSEEK_AI_CVIRGINIA_B.jpg?quality=90&strip=all&crop=0%2C0%2C100%2C100&w=2400\n",
            "https://platform.theverge.com/wp-content/uploads/sites/2/chorus/author_profile_images/195807/DAVID_PIERCE.0.jpg?quality=90&strip=all&crop=0%2C0%2C100%2C100&w=2400\n",
            "https://platform.theverge.com/wp-content/uploads/sites/2/2025/01/VST_0131_Site.jpg?quality=90&strip=all&crop=0%2C0%2C100%2C100&w=2400\n",
            "https://platform.theverge.com/wp-content/uploads/sites/2/2025/01/VST_0131_Site.jpg?quality=90&strip=all&crop=0%2C0%2C100%2C100&w=2400\n",
            "https://platform.theverge.com/wp-content/uploads/sites/2/chorus/author_profile_images/195809/ELIZABETH_LOPATTO.0.jpg?quality=90&strip=all&crop=0%2C0%2C100%2C100&w=2400\n",
            "https://platform.theverge.com/wp-content/uploads/sites/2/chorus/author_profile_images/195810/EMMA_ROTH.0.jpg?quality=90&strip=all&crop=0%2C0%2C100%2C100&w=2400\n",
            "https://platform.theverge.com/wp-content/uploads/sites/2/chorus/uploads/chorus_asset/file/25848982/STKB320_DEEPSEEK_AI_CVIRGINIA_A.jpg?quality=90&strip=all&crop=0%2C0%2C100%2C100&w=2400\n",
            "https://platform.theverge.com/wp-content/uploads/sites/2/chorus/uploads/chorus_asset/file/25848982/STKB320_DEEPSEEK_AI_CVIRGINIA_A.jpg?quality=90&strip=all&crop=0%2C0%2C100%2C100&w=2400\n",
            "https://platform.theverge.com/wp-content/uploads/sites/2/chorus/author_profile_images/197777/profilephoto.0.jpg?quality=90&strip=all&crop=0%2C0%2C100%2C100&w=2400\n",
            "https://platform.theverge.com/wp-content/uploads/sites/2/2025/01/247141_NOTEPAD_DEEPSEEK_AI_MICROSOFT_CVIRGINIA-1.jpg?quality=90&strip=all&crop=0%2C0%2C100%2C100&w=2400\n",
            "https://platform.theverge.com/wp-content/uploads/sites/2/2025/01/247141_NOTEPAD_DEEPSEEK_AI_MICROSOFT_CVIRGINIA-1.jpg?quality=90&strip=all&crop=0%2C0%2C100%2C100&w=2400\n",
            "https://platform.theverge.com/wp-content/uploads/sites/2/chorus/author_profile_images/195834/NILAY_PATEL.0.jpg?quality=90&strip=all&crop=0%2C0%2C100%2C100&w=2400\n",
            "https://platform.theverge.com/wp-content/uploads/sites/2/2025/01/DCD_013024_v1.jpg?quality=90&strip=all&crop=0%2C0%2C100%2C100&w=2400\n",
            "https://platform.theverge.com/wp-content/uploads/sites/2/2025/01/DCD_013024_v1.jpg?quality=90&strip=all&crop=0%2C0%2C100%2C100&w=2400\n",
            "https://platform.theverge.com/wp-content/uploads/sites/2/chorus/author_profile_images/196090/alex_heath_blurple_headshot_720.0.png?quality=90&strip=all&crop=0%2C0%2C100%2C100&w=2400\n",
            "https://platform.theverge.com/wp-content/uploads/sites/2/chorus/uploads/chorus_asset/file/25546251/STK169_Mark_Zuckerburg_CVIRGINIA_C.jpg?quality=90&strip=all&crop=0%2C0%2C100%2C100&w=2400\n",
            "https://platform.theverge.com/wp-content/uploads/sites/2/chorus/uploads/chorus_asset/file/25546251/STK169_Mark_Zuckerburg_CVIRGINIA_C.jpg?quality=90&strip=all&crop=0%2C0%2C100%2C100&w=2400\n",
            "https://platform.theverge.com/wp-content/uploads/sites/2/chorus/author_profile_images/195810/EMMA_ROTH.0.jpg?quality=90&strip=all&crop=0%2C0%2C100%2C100&w=2400\n",
            "https://platform.theverge.com/wp-content/uploads/sites/2/chorus/author_profile_images/197777/profilephoto.0.jpg?quality=90&strip=all&crop=0%2C0%2C100%2C100&w=2400\n",
            "https://platform.theverge.com/wp-content/uploads/sites/2/chorus/uploads/chorus_asset/file/25848984/STKB320_DEEPSEEK_AI_CVIRGINIA_C.jpg?quality=90&strip=all&crop=0%2C0%2C100%2C100&w=2400\n",
            "https://platform.theverge.com/wp-content/uploads/sites/2/chorus/uploads/chorus_asset/file/25848984/STKB320_DEEPSEEK_AI_CVIRGINIA_C.jpg?quality=90&strip=all&crop=0%2C0%2C100%2C100&w=2400\n",
            "https://platform.theverge.com/wp-content/uploads/sites/2/chorus/author_profile_images/195820/JESSICA_WEATHERBED.0.jpg?quality=90&strip=all&crop=0%2C0%2C100%2C100&w=2400\n",
            "https://platform.theverge.com/wp-content/uploads/sites/2/2025/01/STKB320_DEEPSEEK_AI_CVIRGINIA_D.jpg?quality=90&strip=all&crop=0%2C0%2C100%2C100&w=2400\n",
            "https://platform.theverge.com/wp-content/uploads/sites/2/2025/01/STKB320_DEEPSEEK_AI_CVIRGINIA_D.jpg?quality=90&strip=all&crop=0%2C0%2C100%2C100&w=2400\n",
            "https://platform.theverge.com/wp-content/uploads/sites/2/chorus/author_profile_images/197393/GMbiBVSaAAABxU1.0.jpeg?quality=90&strip=all&crop=0%2C0%2C100%2C100&w=2400\n",
            "https://platform.theverge.com/wp-content/uploads/sites/2/2025/01/257533_deepseek_bfd_CVirginia_2_D_9f26e7.jpg?quality=90&strip=all&crop=0%2C0%2C100%2C100&w=2400\n",
            "https://platform.theverge.com/wp-content/uploads/sites/2/2025/01/257533_deepseek_bfd_CVirginia_2_D_9f26e7.jpg?quality=90&strip=all&crop=0%2C0%2C100%2C100&w=2400\n",
            "https://platform.theverge.com/wp-content/uploads/sites/2/2025/01/0007835275_20.jpg?quality=90&strip=all&crop=0%2C0%2C100%2C100&w=2400\n",
            "https://platform.theverge.com/wp-content/uploads/sites/2/chorus/uploads/chorus_asset/file/25849821/samaltman_openai_deepseek.jpg?quality=90&strip=all&crop=0%2C0%2C100%2C100&w=2400\n",
            "https://platform.theverge.com/wp-content/uploads/sites/2/2025/01/0007835275_20.jpg?quality=90&strip=all&crop=0%2C0%2C100%2C100&w=2400\n",
            "https://platform.theverge.com/wp-content/uploads/sites/2/chorus/uploads/chorus_asset/file/25762139/STKS488_TARIFFS_CVirginia_D.jpg?quality=90&strip=all&crop=0%2C0%2C100%2C100&w=2400\n",
            "https://platform.theverge.com/wp-content/uploads/sites/2/chorus/uploads/chorus_asset/file/25762139/STKS488_TARIFFS_CVirginia_D.jpg?quality=90&strip=all&crop=0%2C0%2C100%2C100&w=2400\n",
            "https://platform.theverge.com/wp-content/uploads/sites/2/2025/01/0007835275_20.jpg?quality=90&strip=all&crop=0%2C0%2C100%2C100&w=2400\n",
            "https://platform.theverge.com/wp-content/uploads/sites/2/chorus/author_profile_images/195810/EMMA_ROTH.0.jpg?quality=90&strip=all&crop=0%2C0%2C100%2C100&w=2400\n",
            "https://platform.theverge.com/wp-content/uploads/sites/2/2025/01/0007835275_20.jpg?quality=90&strip=all&crop=0%2C0%2C100%2C100&w=2400\n",
            "https://platform.theverge.com/wp-content/uploads/sites/2/chorus/uploads/chorus_asset/file/25848993/Clipboard_01_27_2025_01.jpg?quality=90&strip=all&crop=0%2C0%2C100%2C100&w=2400\n",
            "https://platform.theverge.com/wp-content/uploads/sites/2/chorus/author_profile_images/195820/JESSICA_WEATHERBED.0.jpg?quality=90&strip=all&crop=0%2C0%2C100%2C100&w=2400\n",
            "https://platform.theverge.com/wp-content/uploads/sites/2/chorus/uploads/chorus_asset/file/25848982/STKB320_DEEPSEEK_AI_CVIRGINIA_A.jpg?quality=90&strip=all&crop=0%2C0%2C100%2C100&w=2400\n",
            "https://platform.theverge.com/wp-content/uploads/sites/2/chorus/uploads/chorus_asset/file/25848982/STKB320_DEEPSEEK_AI_CVIRGINIA_A.jpg?quality=90&strip=all&crop=0%2C0%2C100%2C100&w=2400\n",
            "https://platform.theverge.com/wp-content/uploads/sites/2/chorus/author_profile_images/195820/JESSICA_WEATHERBED.0.jpg?quality=90&strip=all&crop=0%2C0%2C100%2C100&w=2400\n",
            "https://platform.theverge.com/wp-content/uploads/sites/2/chorus/uploads/chorus_asset/file/25848982/STKB320_DEEPSEEK_AI_CVIRGINIA_A.jpg?quality=90&strip=all&crop=0%2C0%2C100%2C100&w=2400\n",
            "https://platform.theverge.com/wp-content/uploads/sites/2/chorus/uploads/chorus_asset/file/25848982/STKB320_DEEPSEEK_AI_CVIRGINIA_A.jpg?quality=90&strip=all&crop=0%2C0%2C100%2C100&w=2400\n"
          ]
        }
      ]
    },
    {
      "cell_type": "markdown",
      "source": [
        "###more advanced version"
      ],
      "metadata": {
        "id": "eJnIuErv0ETS"
      }
    },
    {
      "cell_type": "code",
      "source": [
        "def click_element(driver, xpath, timeout=3):\n",
        "  try:\n",
        "    element = WebDriverWait(driver, timeout).until(EC.element_to_be_clickable((By.XPATH, xpath)))\n",
        "    print(f\"Clicking {xpath}\")\n",
        "    element.click()\n",
        "    time.sleep(0.5)\n",
        "    return True\n",
        "  except Exception:\n",
        "    return False"
      ],
      "metadata": {
        "id": "n6TQGab0zA0I"
      },
      "execution_count": null,
      "outputs": []
    },
    {
      "cell_type": "markdown",
      "source": [
        "\n",
        "\n",
        "---\n",
        "\n"
      ],
      "metadata": {
        "id": "UcuUQi4NuZUI"
      }
    },
    {
      "cell_type": "code",
      "source": [
        "def set_options():\n",
        "  options = Options();\n",
        "  options.add_argument(\"--headless=new\")\n",
        "  options.add_argument(\"--no-sandbox\")\n",
        "  options.add_argument(\"--disable-dev-shm-usage\")\n",
        "  options.add_argument(\"--disable-blink-features=AutomationControlled\")\n",
        "  options.binary_location = \"/usr/bin/google-chrome\"\n",
        "  return options"
      ],
      "metadata": {
        "id": "Mf9DY-vlr2Hx"
      },
      "execution_count": 51,
      "outputs": []
    },
    {
      "cell_type": "code",
      "source": [
        "def scroll_page(driver):\n",
        "    last_height = driver.execute_script(\"return document.body.scrollHeight\")\n",
        "    while True:\n",
        "        driver.execute_script(\"window.scrollTo(0, document.body.scrollHeight);\")\n",
        "        time.sleep(2)\n",
        "        new_height = driver.execute_script(\"return document.body.scrollHeight\")\n",
        "        if new_height == last_height:\n",
        "            break\n",
        "        last_height = new_height"
      ],
      "metadata": {
        "id": "ihP7LQE_6KZk"
      },
      "execution_count": 5,
      "outputs": []
    },
    {
      "cell_type": "code",
      "source": [
        "js_code = \"\"\"\n",
        "        const exclusionPattern = /avatar|loading|icon|thumbnail|logo|banner|footer/i;\n",
        "\n",
        "        function isValidImage(img, minSize) {\n",
        "            let src = img.getAttribute('src');\n",
        "            let srcset = img.getAttribute('srcset');\n",
        "            let width = img.getAttribute('width');\n",
        "            let height = img.getAttribute('height');\n",
        "            let className = img.getAttribute('class') || \"\";\n",
        "            let alt = img.getAttribute('alt') || \"\";\n",
        "            let style = img.getAttribute('style') || \"\";\n",
        "\n",
        "            // Fallback to srcset if src is absent or invalid\n",
        "            if (!src || !src.startsWith('http')) {\n",
        "                if (srcset) {\n",
        "                    let srcsetUrls = srcset.split(',')\n",
        "                        .map(s => s.trim().split(' ')[0])\n",
        "                        .filter(url => url && url.startsWith('http'));\n",
        "                    src = srcsetUrls.length > 0 ? srcsetUrls[0] : null;\n",
        "                }\n",
        "            }\n",
        "            if (!src) return null;\n",
        "            if ((width && width < minSize) || (height && height < minSize)) return null;\n",
        "            if (style.includes(\"display: none\") || style.includes(\"opacity: 0\")) return null;\n",
        "            if (exclusionPattern.test(src)) return null;\n",
        "            if (exclusionPattern.test(className)) return null;\n",
        "            if (exclusionPattern.test(alt)) return null;\n",
        "            return src;\n",
        "        }\n",
        "\n",
        "        let imgSet = new Set();\n",
        "        document.querySelectorAll('img').forEach(img => {\n",
        "            let validSrc = isValidImage(img, arguments[0]);\n",
        "            if (validSrc) {\n",
        "                imgSet.add(validSrc);\n",
        "            }\n",
        "        });\n",
        "        return Array.from(imgSet);\n",
        "        \"\"\""
      ],
      "metadata": {
        "id": "4uYAhzNZsc9p"
      },
      "execution_count": 94,
      "outputs": []
    },
    {
      "cell_type": "code",
      "source": [
        "def get_images_from_page(url, min_size=100):\n",
        "    options = set_options()\n",
        "    driver = gcs.Chrome(options=options)\n",
        "\n",
        "    try:\n",
        "        #print(\"Opening URL: \", url)\n",
        "        driver.get(url)\n",
        "\n",
        "        #print(\"Waiting for document to load\")\n",
        "        WebDriverWait(driver, 10).until(\n",
        "            lambda d: d.execute_script(\"return document.readyState\") == \"complete\"\n",
        "        )\n",
        "\n",
        "        #print(\"Removing pop-ups\")\n",
        "        driver.execute_script(\"document.querySelectorAll('.popup-class').forEach(e => e.remove());\")\n",
        "\n",
        "        #print(\"Scrolling the page\")\n",
        "        scroll_page(driver)\n",
        "\n",
        "        #print(\"Extracting image URLs\")\n",
        "        img_urls = driver.execute_script(js_code, min_size)\n",
        "\n",
        "    except Exception as e:\n",
        "        print(\"An error occurred: %s\", e)\n",
        "        raise\n",
        "    finally:\n",
        "        driver.quit()\n",
        "\n",
        "    return img_urls\n"
      ],
      "metadata": {
        "id": "5Koa65OzYjOY"
      },
      "execution_count": 95,
      "outputs": []
    },
    {
      "cell_type": "markdown",
      "source": [
        "Filter rules:\n",
        "\n",
        "\n",
        "*   skip **small** images (less than 100)\n",
        "* skip classes/ alt containing: **avatar, loading, icon, thumbnail, logo, banner, footer**\n",
        "* skip **invisible** images\n",
        "\n"
      ],
      "metadata": {
        "id": "7xNhFxw-Attw"
      }
    },
    {
      "cell_type": "code",
      "source": [
        "def print_found_imgs(images):\n",
        "  print(f\"Found {len(images)} image(s):\")\n",
        "  for img in images:\n",
        "      print(img)"
      ],
      "metadata": {
        "id": "W7tZLXEArHrS"
      },
      "execution_count": 82,
      "outputs": []
    },
    {
      "cell_type": "code",
      "source": [
        "page_url_1 = \"https://www.bbc.com/news/articles/c5yv5976z9po\"\n",
        "page_url_2 = \"https://www.spectator.co.uk/article/is-this-new-chinese-ai-even-better-than-deepseek/\"\n",
        "page_url_3 = \"https://www.theverge.com/24353060/deepseek-ai-china-nvidia-openai\"\n",
        "page_url_4 = \"https://www.bu.edu/articles/2025/does-chinas-deepseek-represent-a-new-frontier-in-ai/\"\n",
        "\n",
        "test_urls = [page_url_1, page_url_2, page_url_3, page_url_4]\n",
        "\n",
        "for url in test_urls:\n",
        "  images = get_images_from_page(url)\n",
        "  print_found_imgs(images)\n",
        "  print(\" --- \")"
      ],
      "metadata": {
        "colab": {
          "base_uri": "https://localhost:8080/",
          "height": 502
        },
        "id": "wpjwbjZ9rCU8",
        "outputId": "4538679f-d6be-426a-df8e-4ccc3d2017b2"
      },
      "execution_count": 96,
      "outputs": [
        {
          "output_type": "display_data",
          "data": {
            "text/plain": [
              "<IPython.core.display.HTML object>"
            ],
            "text/html": [
              "\n",
              "            <div class=\"spinner-container\">\n",
              "                <div class=\"spinner\" id=\"fa548778-9399-4881-89a8-641a45272b9d-circle\"></div>\n",
              "                <div class=\"spinner-text\" id=\"fa548778-9399-4881-89a8-641a45272b9d-text\">Initializing Chromedriver</div>\n",
              "            </div>\n",
              "            <style>\n",
              "                @keyframes spin {\n",
              "                    from { transform: rotate(0deg); }\n",
              "                    to { transform: rotate(360deg); }\n",
              "                }\n",
              "\n",
              "                .spinner-container {\n",
              "                    display: flex;\n",
              "                    align-items: center;\n",
              "                    margin-bottom: 3px;\n",
              "                }\n",
              "\n",
              "                .spinner {\n",
              "                    border: 3px solid rgba(0, 0, 0, 0.1);\n",
              "                    border-left-color: lightblue;\n",
              "                    border-radius: 50%;\n",
              "                    width: 12px;\n",
              "                    height: 12px;\n",
              "                    animation: spin 1s linear infinite;\n",
              "                }\n",
              "\n",
              "                .spinner-text {\n",
              "                    padding-left: 6px;\n",
              "                }\n",
              "            </style>\n",
              "        "
            ]
          },
          "metadata": {}
        },
        {
          "output_type": "display_data",
          "data": {
            "text/plain": [
              "<IPython.core.display.Javascript object>"
            ],
            "application/javascript": [
              "\n",
              "            const element = document.getElementById(\"fa548778-9399-4881-89a8-641a45272b9d-circle\");\n",
              "            element.style.border = \"3px solid limegreen\";\n",
              "            element.style.animation = \"none\";\n",
              "\n",
              "            const text = document.getElementById(\"fa548778-9399-4881-89a8-641a45272b9d-text\");\n",
              "            text.innerText = \"Initialized Chromedriver\";\n",
              "        "
            ]
          },
          "metadata": {}
        },
        {
          "output_type": "stream",
          "name": "stdout",
          "text": [
            "Found 1 images:\n",
            "https://ichef.bbci.co.uk/news/480/cpsprodpb/3cb2/live/61ec64f0-dd4c-11ef-b20c-cf1b3bd7a488.jpg.webp\n",
            " --- \n"
          ]
        },
        {
          "output_type": "display_data",
          "data": {
            "text/plain": [
              "<IPython.core.display.HTML object>"
            ],
            "text/html": [
              "\n",
              "            <div class=\"spinner-container\">\n",
              "                <div class=\"spinner\" id=\"9dd8d9dc-9c7f-457c-adb3-b7097d1608f0-circle\"></div>\n",
              "                <div class=\"spinner-text\" id=\"9dd8d9dc-9c7f-457c-adb3-b7097d1608f0-text\">Initializing Chromedriver</div>\n",
              "            </div>\n",
              "            <style>\n",
              "                @keyframes spin {\n",
              "                    from { transform: rotate(0deg); }\n",
              "                    to { transform: rotate(360deg); }\n",
              "                }\n",
              "\n",
              "                .spinner-container {\n",
              "                    display: flex;\n",
              "                    align-items: center;\n",
              "                    margin-bottom: 3px;\n",
              "                }\n",
              "\n",
              "                .spinner {\n",
              "                    border: 3px solid rgba(0, 0, 0, 0.1);\n",
              "                    border-left-color: lightblue;\n",
              "                    border-radius: 50%;\n",
              "                    width: 12px;\n",
              "                    height: 12px;\n",
              "                    animation: spin 1s linear infinite;\n",
              "                }\n",
              "\n",
              "                .spinner-text {\n",
              "                    padding-left: 6px;\n",
              "                }\n",
              "            </style>\n",
              "        "
            ]
          },
          "metadata": {}
        },
        {
          "output_type": "display_data",
          "data": {
            "text/plain": [
              "<IPython.core.display.Javascript object>"
            ],
            "application/javascript": [
              "\n",
              "            const element = document.getElementById(\"9dd8d9dc-9c7f-457c-adb3-b7097d1608f0-circle\");\n",
              "            element.style.border = \"3px solid limegreen\";\n",
              "            element.style.animation = \"none\";\n",
              "\n",
              "            const text = document.getElementById(\"9dd8d9dc-9c7f-457c-adb3-b7097d1608f0-text\");\n",
              "            text.innerText = \"Initialized Chromedriver\";\n",
              "        "
            ]
          },
          "metadata": {}
        },
        {
          "output_type": "stream",
          "name": "stdout",
          "text": [
            "Found 2 images:\n",
            "https://www.spectator.co.uk/wp-content/uploads/2025/03/cover-15032025-issue.jpg?w=358\n",
            "https://www.spectator.co.uk/wp-content/uploads/2025/03/iStock-1456167226.jpg?w=1365\n",
            " --- \n"
          ]
        },
        {
          "output_type": "display_data",
          "data": {
            "text/plain": [
              "<IPython.core.display.HTML object>"
            ],
            "text/html": [
              "\n",
              "            <div class=\"spinner-container\">\n",
              "                <div class=\"spinner\" id=\"8793dcec-4f73-4956-a002-44c2d2d38017-circle\"></div>\n",
              "                <div class=\"spinner-text\" id=\"8793dcec-4f73-4956-a002-44c2d2d38017-text\">Initializing Chromedriver</div>\n",
              "            </div>\n",
              "            <style>\n",
              "                @keyframes spin {\n",
              "                    from { transform: rotate(0deg); }\n",
              "                    to { transform: rotate(360deg); }\n",
              "                }\n",
              "\n",
              "                .spinner-container {\n",
              "                    display: flex;\n",
              "                    align-items: center;\n",
              "                    margin-bottom: 3px;\n",
              "                }\n",
              "\n",
              "                .spinner {\n",
              "                    border: 3px solid rgba(0, 0, 0, 0.1);\n",
              "                    border-left-color: lightblue;\n",
              "                    border-radius: 50%;\n",
              "                    width: 12px;\n",
              "                    height: 12px;\n",
              "                    animation: spin 1s linear infinite;\n",
              "                }\n",
              "\n",
              "                .spinner-text {\n",
              "                    padding-left: 6px;\n",
              "                }\n",
              "            </style>\n",
              "        "
            ]
          },
          "metadata": {}
        },
        {
          "output_type": "display_data",
          "data": {
            "text/plain": [
              "<IPython.core.display.Javascript object>"
            ],
            "application/javascript": [
              "\n",
              "            const element = document.getElementById(\"8793dcec-4f73-4956-a002-44c2d2d38017-circle\");\n",
              "            element.style.border = \"3px solid limegreen\";\n",
              "            element.style.animation = \"none\";\n",
              "\n",
              "            const text = document.getElementById(\"8793dcec-4f73-4956-a002-44c2d2d38017-text\");\n",
              "            text.innerText = \"Initialized Chromedriver\";\n",
              "        "
            ]
          },
          "metadata": {}
        },
        {
          "output_type": "stream",
          "name": "stdout",
          "text": [
            "Found 10 images:\n",
            "https://platform.theverge.com/wp-content/uploads/sites/2/2025/01/STKB320_DEEPSEEK_AI_CVIRGINIA_B.jpg?quality=90&strip=all&crop=0%2C0%2C100%2C100&w=2400\n",
            "https://platform.theverge.com/wp-content/uploads/sites/2/2025/01/VST_0131_Site.jpg?quality=90&strip=all&crop=0%2C0%2C100%2C100&w=2400\n",
            "https://platform.theverge.com/wp-content/uploads/sites/2/2025/01/247141_NOTEPAD_DEEPSEEK_AI_MICROSOFT_CVIRGINIA-1.jpg?quality=90&strip=all&crop=0%2C0%2C100%2C100&w=2400\n",
            "https://platform.theverge.com/wp-content/uploads/sites/2/2025/01/DCD_013024_v1.jpg?quality=90&strip=all&crop=0%2C0%2C100%2C100&w=2400\n",
            "https://platform.theverge.com/wp-content/uploads/sites/2/chorus/uploads/chorus_asset/file/25546251/STK169_Mark_Zuckerburg_CVIRGINIA_C.jpg?quality=90&strip=all&crop=0%2C0%2C100%2C100&w=2400\n",
            "https://platform.theverge.com/wp-content/uploads/sites/2/2025/01/STKB320_DEEPSEEK_AI_CVIRGINIA_D.jpg?quality=90&strip=all&crop=0%2C0%2C100%2C100&w=2400\n",
            "https://platform.theverge.com/wp-content/uploads/sites/2/2025/01/257533_deepseek_bfd_CVirginia_2_D_9f26e7.jpg?quality=90&strip=all&crop=0%2C0%2C100%2C100&w=2400\n",
            "https://platform.theverge.com/wp-content/uploads/sites/2/chorus/uploads/chorus_asset/file/25849821/samaltman_openai_deepseek.jpg?quality=90&strip=all&crop=0%2C0%2C100%2C100&w=2400\n",
            "https://platform.theverge.com/wp-content/uploads/sites/2/chorus/uploads/chorus_asset/file/25762139/STKS488_TARIFFS_CVirginia_D.jpg?quality=90&strip=all&crop=0%2C0%2C100%2C100&w=2400\n",
            "https://platform.theverge.com/wp-content/uploads/sites/2/chorus/uploads/chorus_asset/file/25848993/Clipboard_01_27_2025_01.jpg?quality=90&strip=all&crop=0%2C0%2C100%2C100&w=2400\n",
            " --- \n"
          ]
        },
        {
          "output_type": "display_data",
          "data": {
            "text/plain": [
              "<IPython.core.display.HTML object>"
            ],
            "text/html": [
              "\n",
              "            <div class=\"spinner-container\">\n",
              "                <div class=\"spinner\" id=\"f4f4e749-b4a7-418c-961e-132f9b0ef1ea-circle\"></div>\n",
              "                <div class=\"spinner-text\" id=\"f4f4e749-b4a7-418c-961e-132f9b0ef1ea-text\">Initializing Chromedriver</div>\n",
              "            </div>\n",
              "            <style>\n",
              "                @keyframes spin {\n",
              "                    from { transform: rotate(0deg); }\n",
              "                    to { transform: rotate(360deg); }\n",
              "                }\n",
              "\n",
              "                .spinner-container {\n",
              "                    display: flex;\n",
              "                    align-items: center;\n",
              "                    margin-bottom: 3px;\n",
              "                }\n",
              "\n",
              "                .spinner {\n",
              "                    border: 3px solid rgba(0, 0, 0, 0.1);\n",
              "                    border-left-color: lightblue;\n",
              "                    border-radius: 50%;\n",
              "                    width: 12px;\n",
              "                    height: 12px;\n",
              "                    animation: spin 1s linear infinite;\n",
              "                }\n",
              "\n",
              "                .spinner-text {\n",
              "                    padding-left: 6px;\n",
              "                }\n",
              "            </style>\n",
              "        "
            ]
          },
          "metadata": {}
        },
        {
          "output_type": "display_data",
          "data": {
            "text/plain": [
              "<IPython.core.display.Javascript object>"
            ],
            "application/javascript": [
              "\n",
              "            const element = document.getElementById(\"f4f4e749-b4a7-418c-961e-132f9b0ef1ea-circle\");\n",
              "            element.style.border = \"3px solid limegreen\";\n",
              "            element.style.animation = \"none\";\n",
              "\n",
              "            const text = document.getElementById(\"f4f4e749-b4a7-418c-961e-132f9b0ef1ea-text\");\n",
              "            text.innerText = \"Initialized Chromedriver\";\n",
              "        "
            ]
          },
          "metadata": {}
        },
        {
          "output_type": "stream",
          "name": "stdout",
          "text": [
            "Found 1 images:\n",
            "https://www.bu.edu/files/2022/08/resize-22-1553-MARCOMHEAD-161-3-500x500.jpg\n",
            " --- \n"
          ]
        }
      ]
    }
  ]
}